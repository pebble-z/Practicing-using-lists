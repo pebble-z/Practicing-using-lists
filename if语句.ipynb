{
 "cells": [
  {
   "cell_type": "markdown",
   "metadata": {},
   "source": [
    "# if语句"
   ]
  },
  {
   "cell_type": "markdown",
   "metadata": {},
   "source": [
    "编程时，经常要检查一系列条件，并据此决定采取什么措施。在python中，if语句能够让你检查程序的当前状态，并采取相应的措施。"
   ]
  },
  {
   "cell_type": "markdown",
   "metadata": {},
   "source": [
    "## 1.一个简单示例"
   ]
  },
  {
   "cell_type": "code",
   "execution_count": 46,
   "metadata": {},
   "outputs": [
    {
     "name": "stdout",
     "output_type": "stream",
     "text": [
      "Audi\n",
      "BMW\n",
      "Subaru\n",
      "Toyota\n"
     ]
    }
   ],
   "source": [
    "#四个品牌车，bmw全部大写，其他的首字母大写打印\n",
    "cars = ['audi','bmw','subaru','toyota']\n",
    "\n",
    "for car in cars:\n",
    "    if car == 'bmw':\n",
    "        print(car.upper())\n",
    "    else:\n",
    "        print(car.title())\n"
   ]
  },
  {
   "cell_type": "markdown",
   "metadata": {},
   "source": [
    "## 2.条件测试"
   ]
  },
  {
   "cell_type": "markdown",
   "metadata": {},
   "source": [
    "每条if语句的核心都是一个值为True或False的表达式，这种表达式称为条件测试，python根据条件测试的值为True还是False来决定是否执行if语句中的代码。如果条件测试的值为True，python就执行紧跟在if语句后面的代码；如果为False，python就忽略这些代码。"
   ]
  },
  {
   "cell_type": "markdown",
   "metadata": {},
   "source": [
    "### 2.1.检查是否相等"
   ]
  },
  {
   "cell_type": "code",
   "execution_count": 47,
   "metadata": {},
   "outputs": [
    {
     "data": {
      "text/plain": [
       "True"
      ]
     },
     "execution_count": 47,
     "metadata": {},
     "output_type": "execute_result"
    }
   ],
   "source": [
    "car = 'bmw' #一个等号赋值给car\n",
    "car == 'bmw'#两个等号确认car的值是不是‘bmw’"
   ]
  },
  {
   "cell_type": "code",
   "execution_count": 48,
   "metadata": {},
   "outputs": [],
   "source": [
    "car = 'audi' #一个等号赋值给car\n",
    "car ='bmw'#两个等号确认car的值是不是‘bmw’,这个相等运算符在两边的值相等时返回True，否则返回False"
   ]
  },
  {
   "cell_type": "code",
   "execution_count": 49,
   "metadata": {},
   "outputs": [
    {
     "data": {
      "text/plain": [
       "False"
      ]
     },
     "execution_count": 49,
     "metadata": {},
     "output_type": "execute_result"
    }
   ],
   "source": [
    "car = 'Audo'\n",
    "car == 'audo'#大小写对检查有影响"
   ]
  },
  {
   "cell_type": "code",
   "execution_count": 50,
   "metadata": {},
   "outputs": [
    {
     "data": {
      "text/plain": [
       "True"
      ]
     },
     "execution_count": 50,
     "metadata": {},
     "output_type": "execute_result"
    }
   ],
   "source": [
    "car = 'Audo'\n",
    "car.lower() == 'audo'#只是检查变量的值，可将变量的值转化为小写再进行检查"
   ]
  },
  {
   "cell_type": "code",
   "execution_count": 51,
   "metadata": {},
   "outputs": [
    {
     "data": {
      "text/plain": [
       "'Audo'"
      ]
     },
     "execution_count": 51,
     "metadata": {},
     "output_type": "execute_result"
    }
   ],
   "source": [
    "car = 'Audo'\n",
    "car.lower() == 'audo'#只是检查变量的值，可将变量的值转化为小写再进行检查\n",
    "car#可见Audo的值并未被改变"
   ]
  },
  {
   "cell_type": "markdown",
   "metadata": {},
   "source": [
    "### 2.2.检查是否不相等"
   ]
  },
  {
   "cell_type": "code",
   "execution_count": 52,
   "metadata": {},
   "outputs": [
    {
     "name": "stdout",
     "output_type": "stream",
     "text": [
      "Hold the anchovies\n"
     ]
    }
   ],
   "source": [
    "#  (!=)\n",
    "requested_topping = 'mushroom'\n",
    "if requested_topping != 'anchovies':\n",
    "    print(\"Hold the anchovies\")"
   ]
  },
  {
   "cell_type": "markdown",
   "metadata": {},
   "source": [
    "### 2.3.数值比较"
   ]
  },
  {
   "cell_type": "code",
   "execution_count": 53,
   "metadata": {},
   "outputs": [
    {
     "data": {
      "text/plain": [
       "True"
      ]
     },
     "execution_count": 53,
     "metadata": {},
     "output_type": "execute_result"
    }
   ],
   "source": [
    "age = 18\n",
    "age == 18"
   ]
  },
  {
   "cell_type": "code",
   "execution_count": 54,
   "metadata": {},
   "outputs": [
    {
     "name": "stdout",
     "output_type": "stream",
     "text": [
      "That is not the correct answer.Please try again.\n"
     ]
    }
   ],
   "source": [
    "answer = 17\n",
    "if answer != 42:\n",
    "    print(\"That is not the correct answer.Please try again.\")"
   ]
  },
  {
   "cell_type": "code",
   "execution_count": 55,
   "metadata": {},
   "outputs": [
    {
     "data": {
      "text/plain": [
       "True"
      ]
     },
     "execution_count": 55,
     "metadata": {},
     "output_type": "execute_result"
    }
   ],
   "source": [
    "age = 19\n",
    "age < 21"
   ]
  },
  {
   "cell_type": "code",
   "execution_count": 56,
   "metadata": {},
   "outputs": [
    {
     "data": {
      "text/plain": [
       "True"
      ]
     },
     "execution_count": 56,
     "metadata": {},
     "output_type": "execute_result"
    }
   ],
   "source": [
    "age <= 21"
   ]
  },
  {
   "cell_type": "code",
   "execution_count": 57,
   "metadata": {},
   "outputs": [
    {
     "data": {
      "text/plain": [
       "False"
      ]
     },
     "execution_count": 57,
     "metadata": {},
     "output_type": "execute_result"
    }
   ],
   "source": [
    "age >= 21"
   ]
  },
  {
   "cell_type": "markdown",
   "metadata": {},
   "source": [
    "### 2.4.检查多个条件"
   ]
  },
  {
   "cell_type": "markdown",
   "metadata": {},
   "source": [
    "#### 1.使用and检查多个条件"
   ]
  },
  {
   "cell_type": "markdown",
   "metadata": {},
   "source": [
    "要检查是否两个条件都为True，可用关键词and将两个条件测试合而为一。如果每个测试都通过了，整个表达式为True；如果至少一个测试没有通过，整个表达式就为False"
   ]
  },
  {
   "cell_type": "code",
   "execution_count": 58,
   "metadata": {},
   "outputs": [
    {
     "data": {
      "text/plain": [
       "False"
      ]
     },
     "execution_count": 58,
     "metadata": {},
     "output_type": "execute_result"
    }
   ],
   "source": [
    "age_0 = 22\n",
    "age_1 = 18\n",
    "age_0 >= 21 and age_1 >= 21#有一个未通过都返回False"
   ]
  },
  {
   "cell_type": "code",
   "execution_count": 59,
   "metadata": {},
   "outputs": [
    {
     "data": {
      "text/plain": [
       "True"
      ]
     },
     "execution_count": 59,
     "metadata": {},
     "output_type": "execute_result"
    }
   ],
   "source": [
    "age_0 = 22\n",
    "age_1 = 25\n",
    "age_0 >= 21 and age_1 >= 21#只有两个条件都通过才返回True"
   ]
  },
  {
   "cell_type": "code",
   "execution_count": 60,
   "metadata": {},
   "outputs": [
    {
     "data": {
      "text/plain": [
       "True"
      ]
     },
     "execution_count": 60,
     "metadata": {},
     "output_type": "execute_result"
    }
   ],
   "source": [
    "age_0 = 22\n",
    "age_1 = 24\n",
    "(age_0 >= 21) and (age_1 >= 21)#改善程序可读性，可将两个条件语句放括号里"
   ]
  },
  {
   "cell_type": "markdown",
   "metadata": {},
   "source": [
    "#### 2.使用or检查多个条件"
   ]
  },
  {
   "cell_type": "markdown",
   "metadata": {},
   "source": [
    "至少一个条件满足就能通过整个测试，仅当两个测试都没有通过时菜返回False"
   ]
  },
  {
   "cell_type": "code",
   "execution_count": 61,
   "metadata": {},
   "outputs": [
    {
     "data": {
      "text/plain": [
       "True"
      ]
     },
     "execution_count": 61,
     "metadata": {},
     "output_type": "execute_result"
    }
   ],
   "source": [
    "age_0 = 22\n",
    "age_1 = 18\n",
    "age_0 >= 21 or age_1 >= 21#有一个通过就可以返回True"
   ]
  },
  {
   "cell_type": "code",
   "execution_count": 62,
   "metadata": {},
   "outputs": [
    {
     "data": {
      "text/plain": [
       "False"
      ]
     },
     "execution_count": 62,
     "metadata": {},
     "output_type": "execute_result"
    }
   ],
   "source": [
    "age_0 = 16\n",
    "age_1 = 18\n",
    "age_0 > 21 or age_1 >= 21#两个都不满足则返回False"
   ]
  },
  {
   "cell_type": "markdown",
   "metadata": {},
   "source": [
    "### 2.5.检查特定值在列表中不在"
   ]
  },
  {
   "cell_type": "code",
   "execution_count": 63,
   "metadata": {},
   "outputs": [
    {
     "data": {
      "text/plain": [
       "True"
      ]
     },
     "execution_count": 63,
     "metadata": {},
     "output_type": "execute_result"
    }
   ],
   "source": [
    "#值在列表中则返回True，用in\n",
    "requested_toppings = ['mushroom','onions','pineapple']\n",
    "'mushroom' in requested_toppings"
   ]
  },
  {
   "cell_type": "code",
   "execution_count": 64,
   "metadata": {},
   "outputs": [
    {
     "data": {
      "text/plain": [
       "False"
      ]
     },
     "execution_count": 64,
     "metadata": {},
     "output_type": "execute_result"
    }
   ],
   "source": [
    "requested_toppings = ['mushroom','onions','pineapple']\n",
    "'pepperoni' in requested_toppings"
   ]
  },
  {
   "cell_type": "code",
   "execution_count": 65,
   "metadata": {},
   "outputs": [
    {
     "name": "stdout",
     "output_type": "stream",
     "text": [
      "Marine,you can post a response if you wish.\n"
     ]
    }
   ],
   "source": [
    "#与in相反not in 则表示不在列表中返回输出值\n",
    "banned_users = ['andrew','carolina','david']\n",
    "user = 'marine'\n",
    "if user not in banned_users:\n",
    "    print(f\"{user.title()},you can post a response if you wish.\")"
   ]
  },
  {
   "cell_type": "markdown",
   "metadata": {},
   "source": [
    "### 2.6.布尔表达式"
   ]
  },
  {
   "cell_type": "code",
   "execution_count": 66,
   "metadata": {},
   "outputs": [],
   "source": [
    "#布尔值通常用于记录条件，结果只有True和False\n",
    "game_active = True\n",
    "can_edit = False"
   ]
  },
  {
   "cell_type": "markdown",
   "metadata": {},
   "source": [
    "## 练习"
   ]
  },
  {
   "cell_type": "code",
   "execution_count": 67,
   "metadata": {},
   "outputs": [
    {
     "name": "stdout",
     "output_type": "stream",
     "text": [
      "Is pengzhen == 'student'? I predict True\n",
      "True\n"
     ]
    }
   ],
   "source": [
    "pengzhen = 'student'\n",
    "print(\"Is pengzhen == 'student'? I predict True\")\n",
    "print(pengzhen == 'student')"
   ]
  },
  {
   "cell_type": "code",
   "execution_count": 68,
   "metadata": {},
   "outputs": [
    {
     "name": "stdout",
     "output_type": "stream",
     "text": [
      "Is pengzhen == 'teacher'? \n",
      "False\n"
     ]
    }
   ],
   "source": [
    "pengzhen = 'student'\n",
    "print(\"Is pengzhen == 'teacher'? \")\n",
    "print(pengzhen == 'teacher')"
   ]
  },
  {
   "cell_type": "code",
   "execution_count": 69,
   "metadata": {},
   "outputs": [
    {
     "data": {
      "text/plain": [
       "True"
      ]
     },
     "execution_count": 69,
     "metadata": {},
     "output_type": "execute_result"
    }
   ],
   "source": [
    "fruit_1 = 'apple'\n",
    "fruit_2 = 'apple'\n",
    "fruit_1 == fruit_2"
   ]
  },
  {
   "cell_type": "code",
   "execution_count": 70,
   "metadata": {},
   "outputs": [
    {
     "data": {
      "text/plain": [
       "False"
      ]
     },
     "execution_count": 70,
     "metadata": {},
     "output_type": "execute_result"
    }
   ],
   "source": [
    "fruit_1 = 'apple'\n",
    "fruit_2 = 'banana'\n",
    "fruit_1 == fruit_2"
   ]
  },
  {
   "cell_type": "code",
   "execution_count": 71,
   "metadata": {},
   "outputs": [
    {
     "data": {
      "text/plain": [
       "True"
      ]
     },
     "execution_count": 71,
     "metadata": {},
     "output_type": "execute_result"
    }
   ],
   "source": [
    "fruit_3 = 'Pineapple'\n",
    "fruit_3.lower() ==  'pineapple'"
   ]
  },
  {
   "cell_type": "markdown",
   "metadata": {},
   "source": [
    "## 3.if语句"
   ]
  },
  {
   "cell_type": "markdown",
   "metadata": {},
   "source": [
    "### 3.1.简单的if语句"
   ]
  },
  {
   "cell_type": "code",
   "execution_count": 72,
   "metadata": {},
   "outputs": [],
   "source": [
    "#if condition_test:    第一行包含任何条件测试，\n",
    "#  do something        可执行任何操作"
   ]
  },
  {
   "cell_type": "code",
   "execution_count": 73,
   "metadata": {},
   "outputs": [
    {
     "name": "stdout",
     "output_type": "stream",
     "text": [
      "You are old enough to vote\n",
      "Have you registered to vote yet?\n"
     ]
    }
   ],
   "source": [
    "#条件测试结果为True则执行：后的语句\n",
    "age = 19\n",
    "if age >= 18:\n",
    "    print(\"You are old enough to vote\")\n",
    "    print(\"Have you registered to vote yet?\")"
   ]
  },
  {
   "cell_type": "code",
   "execution_count": 74,
   "metadata": {},
   "outputs": [],
   "source": [
    "#条件测试结果为False则忽略\n",
    "age = 12\n",
    "if age >= 18:\n",
    "    print(\"You are old enough to vote\")"
   ]
  },
  {
   "cell_type": "markdown",
   "metadata": {},
   "source": [
    "### 3.2.if-else语句"
   ]
  },
  {
   "cell_type": "code",
   "execution_count": 75,
   "metadata": {},
   "outputs": [
    {
     "name": "stdout",
     "output_type": "stream",
     "text": [
      "Sorry,you are too young to vote.\n",
      "Please register to vote as soon as you turn 18!\n"
     ]
    }
   ],
   "source": [
    "#if后面的条件不满足则执行else后面的语句\n",
    "age = 12\n",
    "if age >= 18:\n",
    "    print(\"You are old enough to vote\")\n",
    "    print(\"Have you registered to vote yet?\")\n",
    "else:\n",
    "    print(\"Sorry,you are too young to vote.\")\n",
    "    print(\"Please register to vote as soon as you turn 18!\")"
   ]
  },
  {
   "cell_type": "code",
   "execution_count": 76,
   "metadata": {},
   "outputs": [
    {
     "name": "stdout",
     "output_type": "stream",
     "text": [
      "You are old enough to vote\n",
      "Have you registered to vote yet?\n"
     ]
    }
   ],
   "source": [
    "#if后面的条件满足则执行if后面的语句\n",
    "age = 21\n",
    "if age >= 18:\n",
    "    print(\"You are old enough to vote\")\n",
    "    print(\"Have you registered to vote yet?\")\n",
    "else:\n",
    "    print(\"Sorry,you are too young to vote.\")\n",
    "    print(\"Please register to vote as soon as you turn 18!\")"
   ]
  },
  {
   "cell_type": "markdown",
   "metadata": {},
   "source": [
    "### 3.3.if-elif-else结构"
   ]
  },
  {
   "cell_type": "code",
   "execution_count": 77,
   "metadata": {},
   "outputs": [
    {
     "name": "stdout",
     "output_type": "stream",
     "text": [
      "Your admission is 25$.\n"
     ]
    }
   ],
   "source": [
    "#4岁以下免费\n",
    "#4-18岁收费25美元\n",
    "#18岁（含18岁）以上收费40美元\n",
    "age = 12\n",
    "if age < 4:\n",
    "    print(\"Your admission is 0$.\")\n",
    "elif age < 18:\n",
    "    print(\"Your admission is 25$.\")\n",
    "else:\n",
    "    print(\"Your admission is 40$.\")\n",
    "    "
   ]
  },
  {
   "cell_type": "code",
   "execution_count": 78,
   "metadata": {},
   "outputs": [
    {
     "name": "stdout",
     "output_type": "stream",
     "text": [
      "Your admission cost is$40.\n"
     ]
    }
   ],
   "source": [
    "#可简化代码最后打印一个输出\n",
    "age = 21\n",
    "if age < 4:\n",
    "    price=0\n",
    "elif age < 18:\n",
    "    price=25\n",
    "else:\n",
    "    price = 40\n",
    "print(f\"Your admission cost is${price}.\")"
   ]
  },
  {
   "cell_type": "markdown",
   "metadata": {},
   "source": [
    "### 3.4.使用多个elif代码块"
   ]
  },
  {
   "cell_type": "code",
   "execution_count": 79,
   "metadata": {},
   "outputs": [
    {
     "name": "stdout",
     "output_type": "stream",
     "text": [
      "Your admission cost is$20.\n"
     ]
    }
   ],
   "source": [
    "# 0-4:0美元；4-17：25美元；18-64：40美元；65往上：20美元\n",
    "age=67\n",
    "\n",
    "if age < 4:\n",
    "    price = 0\n",
    "elif age < 18:\n",
    "    price = 25\n",
    "elif age < 65:\n",
    "    price = 40\n",
    "else:\n",
    "    price = 20\n",
    "print(f\"Your admission cost is${price}.\")"
   ]
  },
  {
   "cell_type": "markdown",
   "metadata": {},
   "source": [
    "### 3.5.省略else代码块"
   ]
  },
  {
   "cell_type": "code",
   "execution_count": 80,
   "metadata": {},
   "outputs": [
    {
     "name": "stdout",
     "output_type": "stream",
     "text": [
      "Your admission cost is$40.\n"
     ]
    }
   ],
   "source": [
    "#else的条件太过宽泛，可考虑最后再限制一下条件使得代码更清晰\n",
    "age = 45\n",
    "\n",
    "if age < 4:\n",
    "    price=0\n",
    "elif age < 18:\n",
    "    price = 25\n",
    "elif age < 65:\n",
    "    price = 40\n",
    "elif age >= 65:\n",
    "    price = 20\n",
    "print(f\"Your admission cost is${price}.\")"
   ]
  },
  {
   "cell_type": "markdown",
   "metadata": {},
   "source": [
    "### 3.6.测试多个条件"
   ]
  },
  {
   "cell_type": "code",
   "execution_count": 81,
   "metadata": {},
   "outputs": [
    {
     "name": "stdout",
     "output_type": "stream",
     "text": [
      "Add mushrooms.\n",
      "Add extra cheese.\n",
      "\n",
      "Finished making your pizza\n"
     ]
    }
   ],
   "source": [
    "#if-elif-else仅适合用于只有一个条件满足的情况,若想执行含多个条件的情况则一直用if语句，会对每个if后面的情况进行判断\n",
    "requested_toppings = ['mushrooms','extra cheese']\n",
    "if 'mushrooms' in requested_toppings:\n",
    "    print(\"Add mushrooms.\")\n",
    "if 'pepperoni' in requested_toppings:\n",
    "    print(\"Add pepperoni.\")\n",
    "if 'extra cheese' in requested_toppings:\n",
    "    print(\"Add extra cheese.\")\n",
    "\n",
    "print(\"\\nFinished making your pizza\")"
   ]
  },
  {
   "cell_type": "code",
   "execution_count": 82,
   "metadata": {},
   "outputs": [
    {
     "name": "stdout",
     "output_type": "stream",
     "text": [
      "Add mushrooms.\n",
      "\n",
      "Finished making your pizza\n"
     ]
    }
   ],
   "source": [
    "#if-elif-else仅适合用于只有一个条件满足的情况，如下情况，检查到if后面的情况正确后不执行剩下的elif语句后的代码\n",
    "requested_toppings = ['mushrooms','extra cheese']\n",
    "if 'mushrooms' in requested_toppings:\n",
    "    print(\"Add mushrooms.\")\n",
    "elif 'pepperoni' in requested_toppings:\n",
    "    print(\"Add pepperoni.\")\n",
    "elif 'extra cheese' in requested_toppings:\n",
    "    print(\"Add extra cheese.\")\n",
    "\n",
    "print(\"\\nFinished making your pizza\")"
   ]
  },
  {
   "cell_type": "markdown",
   "metadata": {},
   "source": [
    "## 练习"
   ]
  },
  {
   "cell_type": "code",
   "execution_count": 83,
   "metadata": {},
   "outputs": [
    {
     "name": "stdout",
     "output_type": "stream",
     "text": [
      "You got 5 scores.\n"
     ]
    }
   ],
   "source": [
    "#外星人颜色对的则获得五分\n",
    "alien_color = 'green'\n",
    "if alien_color == 'green':\n",
    "    print(\"You got 5 scores.\")"
   ]
  },
  {
   "cell_type": "code",
   "execution_count": 84,
   "metadata": {},
   "outputs": [],
   "source": [
    "#外星人颜色错的的则没有输出\n",
    "alien_color = 'green'\n",
    "if alien_color == 'red':\n",
    "    print(\"You got 5 scores.\")   "
   ]
  },
  {
   "cell_type": "code",
   "execution_count": 85,
   "metadata": {},
   "outputs": [
    {
     "name": "stdout",
     "output_type": "stream",
     "text": [
      "You got 5 scores.\n"
     ]
    }
   ],
   "source": [
    "#外星人是绿色得五分，不是绿色十分\n",
    "alien_color = 'green'\n",
    "if alien_color == 'green':\n",
    "    print(\"You got 5 scores.\")\n",
    "else:\n",
    "    print(\"You got 10 scores.\")"
   ]
  },
  {
   "cell_type": "code",
   "execution_count": 86,
   "metadata": {},
   "outputs": [
    {
     "name": "stdout",
     "output_type": "stream",
     "text": [
      "You got 10 scores.\n"
     ]
    }
   ],
   "source": [
    "#外星人是绿色得五分，不是绿色十分\n",
    "alien_color = 'red'\n",
    "if alien_color == 'green':\n",
    "    print(\"You got 5 scores.\")\n",
    "else:\n",
    "    print(\"You got 10 scores.\")"
   ]
  },
  {
   "cell_type": "code",
   "execution_count": 87,
   "metadata": {},
   "outputs": [
    {
     "name": "stdout",
     "output_type": "stream",
     "text": [
      "You got 5 scores.\n"
     ]
    }
   ],
   "source": [
    "#绿色得5分，黄色得10分，其他颜色得15分\n",
    "alien_color = 'green'\n",
    "if alien_color == 'green':\n",
    "    print(\"You got 5 scores.\")\n",
    "elif alien_color == 'yellow':\n",
    "    print(\"You got 10 scores.\")\n",
    "else:\n",
    "    print(\"You got 15 scores.\")"
   ]
  },
  {
   "cell_type": "code",
   "execution_count": 88,
   "metadata": {},
   "outputs": [
    {
     "name": "stdout",
     "output_type": "stream",
     "text": [
      "You got 10 scores.\n"
     ]
    }
   ],
   "source": [
    "#绿色得5分，黄色得10分，其他颜色得15分\n",
    "alien_color = 'yellow'\n",
    "if alien_color == 'green':\n",
    "    print(\"You got 5 scores.\")\n",
    "elif alien_color == 'yellow':\n",
    "    print(\"You got 10 scores.\")\n",
    "else:\n",
    "    print(\"You got 15 scores.\")"
   ]
  },
  {
   "cell_type": "code",
   "execution_count": 89,
   "metadata": {},
   "outputs": [
    {
     "name": "stdout",
     "output_type": "stream",
     "text": [
      "You got 15 scores.\n"
     ]
    }
   ],
   "source": [
    "#绿色得5分，黄色得10分，其他颜色得15分\n",
    "alien_color = 'red'\n",
    "if alien_color == 'green':\n",
    "    print(\"You got 5 scores.\")\n",
    "elif alien_color == 'yellow':\n",
    "    print(\"You got 10 scores.\")\n",
    "else:\n",
    "    print(\"You got 15 scores.\")"
   ]
  },
  {
   "cell_type": "code",
   "execution_count": 90,
   "metadata": {},
   "outputs": [
    {
     "name": "stdout",
     "output_type": "stream",
     "text": [
      "He is an adult.\n"
     ]
    }
   ],
   "source": [
    "#人生不同阶段表达\n",
    "age = 22\n",
    "\n",
    "if age < 2:\n",
    "    print(\"He is a little baby.\")\n",
    "elif age < 4:\n",
    "    print(\"He is a large baby.\")\n",
    "elif age < 13:\n",
    "    print(\"He is a child.\")\n",
    "elif age < 20:\n",
    "    print(\"He is a teenager.\")\n",
    "elif age < 65:\n",
    "    print(\"He is an adult.\")\n",
    "else:\n",
    "    print(\"He is an old people.\")"
   ]
  },
  {
   "cell_type": "markdown",
   "metadata": {},
   "source": [
    "## 4.使用if语句处理列表"
   ]
  },
  {
   "cell_type": "markdown",
   "metadata": {},
   "source": [
    "### 4.1.检查特殊元素"
   ]
  },
  {
   "cell_type": "code",
   "execution_count": 91,
   "metadata": {},
   "outputs": [
    {
     "name": "stdout",
     "output_type": "stream",
     "text": [
      "Add mushrooms.\n",
      "Add green peppers.\n",
      "Add extra cheese.\n",
      "\n",
      "Your pizza finished.\n"
     ]
    }
   ],
   "source": [
    "#依次添加元素 使用for循环\n",
    "requested_toppings = ['mushrooms','green peppers','extra cheese']\n",
    "for requested_topping in requested_toppings:\n",
    "    print(f\"Add {requested_topping}.\")\n",
    "\n",
    "print(\"\\nYour pizza finished.\")"
   ]
  },
  {
   "cell_type": "code",
   "execution_count": 92,
   "metadata": {},
   "outputs": [
    {
     "name": "stdout",
     "output_type": "stream",
     "text": [
      "Add mushrooms.\n",
      "Sorry,we are out of green peppers.\n",
      "Add extra cheese.\n",
      "\n",
      "Your pizza finished.\n"
     ]
    }
   ],
   "source": [
    " #检查，如果需要的元素列表中没有了，则输出一句话表达情况，将if语句放for循环\n",
    "requested_toppings = ['mushrooms','green peppers','extra cheese']\n",
    "for requested_topping in requested_toppings:\n",
    "    if requested_topping == 'green peppers':\n",
    "        print(\"Sorry,we are out of green peppers.\")\n",
    "    else:\n",
    "        print(f\"Add {requested_topping}.\")\n",
    "\n",
    "print(\"\\nYour pizza finished.\")"
   ]
  },
  {
   "cell_type": "markdown",
   "metadata": {},
   "source": [
    "### 4.2.确定列表不是空的"
   ]
  },
  {
   "cell_type": "code",
   "execution_count": 93,
   "metadata": {},
   "outputs": [
    {
     "name": "stdout",
     "output_type": "stream",
     "text": [
      "Are you sure you want a plain pizza.\n"
     ]
    }
   ],
   "source": [
    "#运行for循环之前确定列表是不是空的，记将for循环放if语句里面，符合if的情况执行for\n",
    "requested_toppings = []\n",
    "\n",
    "if requested_toppings:\n",
    "    for requested_topping in requested_toppings:\n",
    "        print(f\"Adding {requested_topping}\")\n",
    "        \n",
    "    print(\"\\nYour pizza finished.\")\n",
    "    \n",
    "else:\n",
    "    print(\"Are you sure you want a plain pizza.\")\n",
    "    \n",
    "    "
   ]
  },
  {
   "cell_type": "code",
   "execution_count": 94,
   "metadata": {},
   "outputs": [
    {
     "name": "stdout",
     "output_type": "stream",
     "text": [
      "Adding mushrooms\n",
      "Adding green peppers\n",
      "\n",
      "Your pizza finished.\n"
     ]
    }
   ],
   "source": [
    " #运行for循环之前确定列表是不是空的，记将for循环放if语句里面，符合if的情况执行for\n",
    "requested_toppings = ['mushrooms','green peppers']\n",
    "\n",
    "if requested_toppings:\n",
    "    for requested_topping in requested_toppings:\n",
    "        print(f\"Adding {requested_topping}\")\n",
    "        \n",
    "    print(\"\\nYour pizza finished.\")\n",
    "    \n",
    "else:\n",
    "    print(\"Are you sure you want a plain pizza.\")\n",
    "    \n",
    "    "
   ]
  },
  {
   "cell_type": "markdown",
   "metadata": {},
   "source": [
    "### 4.3.使用多个列表"
   ]
  },
  {
   "cell_type": "code",
   "execution_count": 95,
   "metadata": {},
   "outputs": [
    {
     "name": "stdout",
     "output_type": "stream",
     "text": [
      "Adding mushrooms.\n",
      "Sorry,we donnot have french fries.\n",
      "Adding extra chesse.\n",
      "\n",
      "Finished\n"
     ]
    }
   ],
   "source": [
    "#顾客所需要的东西先检查一下所提供的物品有无，有执行什么操作，没有执行什么操作；if语句在for循环里\n",
    "available_toppings = ['mushrooms','olives','green peppers',\n",
    "                   'pepperoni','pineapple','extra chesse']#提供的列表\n",
    "requested_toppings = ['mushrooms','french fries','extra chesse']#所需要的列表\n",
    "\n",
    "for requested_topping in requested_toppings:   #遍历所需要的列表里的东西\n",
    "    \n",
    "    if requested_topping in available_toppings:   #如果所需要的东西在所提供的列表里则执行下一步\n",
    "        print(f\"Adding {requested_topping}.\")\n",
    "    else:    #如果所需要的东西不在所提供的列表里则执行else下一步\n",
    "        print(f\"Sorry,we donnot have {requested_topping}.\")\n",
    "        \n",
    "print(\"\\nFinished\")"
   ]
  },
  {
   "cell_type": "markdown",
   "metadata": {},
   "source": [
    "## 练习"
   ]
  },
  {
   "cell_type": "code",
   "execution_count": 96,
   "metadata": {},
   "outputs": [
    {
     "name": "stdout",
     "output_type": "stream",
     "text": [
      "Hello,scl,thank you for logging in again.\n",
      "Hello,pz,thank you for logging in again.\n",
      "Hello,cjy,thank you for logging in again.\n",
      "Hello admin,would you like to see a status report.\n",
      "Hello,wmj,thank you for logging in again.\n",
      "Hello,smy,thank you for logging in again.\n",
      "Hello,wj,thank you for logging in again.\n"
     ]
    }
   ],
   "source": [
    "#以特殊方式和管理员打招呼\n",
    "usernames = ['scl','pz','cjy','admin','wmj','smy','wj']\n",
    "for username in usernames:\n",
    "    if username ==  'admin':\n",
    "        print(f\"Hello {username},would you like to see a status report.\")\n",
    "    else:\n",
    "        print(f\"Hello,{username},thank you for logging in again.\")\n",
    "    pass\n",
    "pass"
   ]
  },
  {
   "cell_type": "code",
   "execution_count": 97,
   "metadata": {},
   "outputs": [
    {
     "name": "stdout",
     "output_type": "stream",
     "text": [
      "We need to find some users\n"
     ]
    }
   ],
   "source": [
    "#处理没有用户的情形  注意检查空的时候要先if\n",
    "usernames = []\n",
    "if usernames:\n",
    "    for username in usernames:\n",
    "        if username == 'admin':\n",
    "            print(f\"Hello {username},would you like to see a status report.\")\n",
    "        else:\n",
    "            print(f\"Hello,{username},thank you for logging in again.\")\n",
    "        pass\n",
    "    pass \n",
    "else:\n",
    "        print(\"We need to find some users\")\n",
    "pass\n"
   ]
  },
  {
   "cell_type": "code",
   "execution_count": 98,
   "metadata": {},
   "outputs": [
    {
     "name": "stdout",
     "output_type": "stream",
     "text": [
      "cjy have not used.\n",
      "wmj have not used.\n",
      "Smy have not used.\n",
      "pz have been used,please use another name.\n",
      "Yxk have been used,please use another name.\n",
      "wj have not used.\n",
      "sj have not used.\n"
     ]
    }
   ],
   "source": [
    "#检查用户名 注意一下大小写那块的巧妙点\n",
    "current_users = ['ysw','zy','pz','wh','yXk','hy']\n",
    "new_users = ['cjy','wmj','Smy','pz','Yxk','wj','sj']\n",
    "\n",
    "current_users_lower = [user.lower() for user in current_users] #创建一个副本，就是包含所有名字的小写\n",
    "\n",
    "\n",
    "for new_user in new_users:\n",
    "    if new_user.lower() in current_users_lower:\n",
    "        print(f\"{new_user} have been used,please use another name.\")\n",
    "    else:\n",
    "        print(f\"{new_user} have not used.\")\n",
    "    pass\n",
    "pass\n"
   ]
  },
  {
   "cell_type": "code",
   "execution_count": 99,
   "metadata": {},
   "outputs": [
    {
     "name": "stdout",
     "output_type": "stream",
     "text": [
      "1st\n",
      "2nd\n",
      "3rd\n",
      "4th\n",
      "5th\n",
      "6th\n",
      "7th\n",
      "8th\n",
      "9th\n"
     ]
    }
   ],
   "source": [
    "#序数\n",
    "numbers = list(range(1,10))\n",
    "for number in numbers:\n",
    "    if number == 1:\n",
    "        print(\"1st\")\n",
    "    elif number == 2:\n",
    "        print(\"2nd\")\n",
    "    elif number == 3:\n",
    "        print(\"3rd\")\n",
    "    else:\n",
    "        print(f\"{number}th\")"
   ]
  },
  {
   "cell_type": "markdown",
   "metadata": {},
   "source": [
    "## 5.设置if语句的格式"
   ]
  },
  {
   "cell_type": "markdown",
   "metadata": {},
   "source": [
    "#if age < 4:<br>\n",
    "#if age<4:<br>\n",
    "#第一个比第二个好"
   ]
  }
 ],
 "metadata": {
  "kernelspec": {
   "display_name": "Python 3",
   "language": "python",
   "name": "python3"
  },
  "language_info": {
   "codemirror_mode": {
    "name": "ipython",
    "version": 3
   },
   "file_extension": ".py",
   "mimetype": "text/x-python",
   "name": "python",
   "nbconvert_exporter": "python",
   "pygments_lexer": "ipython3",
   "version": "3.8.3"
  }
 },
 "nbformat": 4,
 "nbformat_minor": 4
}
