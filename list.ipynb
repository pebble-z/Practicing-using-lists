{
 "cells": [
  {
   "cell_type": "markdown",
   "metadata": {},
   "source": [
    "# 列表"
   ]
  },
  {
   "cell_type": "markdown",
   "metadata": {},
   "source": [
    "列表由一系列按特定顺序排列的元素组成，列表中的元素没有任何关系，通常包含多个元素，因此通常给列表指定一个表示复数的名称。\n",
    "python中用 [] 表示列表，逗号分隔其中元素"
   ]
  },
  {
   "cell_type": "code",
   "execution_count": 2,
   "metadata": {},
   "outputs": [
    {
     "name": "stdout",
     "output_type": "stream",
     "text": [
      "['trek', 'cannondale', 'redline', 'specialized']\n"
     ]
    }
   ],
   "source": [
    "bicycles=['trek','cannondale','redline','specialized']\n",
    "print(bicycles)"
   ]
  },
  {
   "cell_type": "markdown",
   "metadata": {},
   "source": [
    "## 1.列表是什么"
   ]
  },
  {
   "cell_type": "markdown",
   "metadata": {},
   "source": [
    "### 1.1访问列表元素（索引从0开始）"
   ]
  },
  {
   "cell_type": "markdown",
   "metadata": {},
   "source": [
    "将列表内的元素位置告诉python即可"
   ]
  },
  {
   "cell_type": "code",
   "execution_count": 3,
   "metadata": {
    "scrolled": true
   },
   "outputs": [
    {
     "name": "stdout",
     "output_type": "stream",
     "text": [
      "trek\n"
     ]
    }
   ],
   "source": [
    "print(bicycles[0])"
   ]
  },
  {
   "cell_type": "code",
   "execution_count": 4,
   "metadata": {
    "scrolled": true
   },
   "outputs": [
    {
     "name": "stdout",
     "output_type": "stream",
     "text": [
      "Trek\n"
     ]
    }
   ],
   "source": [
    "print(bicycles[0].title())"
   ]
  },
  {
   "cell_type": "markdown",
   "metadata": {},
   "source": [
    "### 1.2使用列表中各个值"
   ]
  },
  {
   "cell_type": "code",
   "execution_count": 5,
   "metadata": {},
   "outputs": [],
   "source": [
    "message=f\"My first bicycle is a {bicycles[3]}.\""
   ]
  },
  {
   "cell_type": "code",
   "execution_count": 6,
   "metadata": {
    "scrolled": true
   },
   "outputs": [
    {
     "name": "stdout",
     "output_type": "stream",
     "text": [
      "My first bicycle is a specialized.\n"
     ]
    }
   ],
   "source": [
    "print(message)"
   ]
  },
  {
   "cell_type": "markdown",
   "metadata": {},
   "source": [
    "## 2.修改删除和添加元素"
   ]
  },
  {
   "cell_type": "markdown",
   "metadata": {},
   "source": [
    "### 2.1 修改列表元素"
   ]
  },
  {
   "cell_type": "code",
   "execution_count": 7,
   "metadata": {},
   "outputs": [
    {
     "name": "stdout",
     "output_type": "stream",
     "text": [
      "['tisnqi', 'suzuko', 'honda']\n"
     ]
    }
   ],
   "source": [
    "motorcycles=['tisnqi','suzuko','honda']\n",
    "print(motorcycles)"
   ]
  },
  {
   "cell_type": "code",
   "execution_count": 8,
   "metadata": {},
   "outputs": [
    {
     "name": "stdout",
     "output_type": "stream",
     "text": [
      "['uamahahahha', 'suzuko', 'honda']\n"
     ]
    }
   ],
   "source": [
    "motorcycles[0]='uamahahahha'\n",
    "print(motorcycles)"
   ]
  },
  {
   "cell_type": "markdown",
   "metadata": {},
   "source": [
    "### 2.2 在列表中添加元素"
   ]
  },
  {
   "cell_type": "markdown",
   "metadata": {},
   "source": [
    "列表末尾添加       注：可先创建一个空列表，然后利用append（）函数依次向里面添加元素。"
   ]
  },
  {
   "cell_type": "code",
   "execution_count": 9,
   "metadata": {},
   "outputs": [
    {
     "name": "stdout",
     "output_type": "stream",
     "text": [
      "['uamahahahha', 'suzuko', 'honda', 'jjjkabd']\n"
     ]
    }
   ],
   "source": [
    "motorcycles.append('jjjkabd')\n",
    "print(motorcycles)"
   ]
  },
  {
   "cell_type": "markdown",
   "metadata": {},
   "source": [
    "在列表中插值 用insert（），列表现有每个人元素右移一位"
   ]
  },
  {
   "cell_type": "code",
   "execution_count": 10,
   "metadata": {},
   "outputs": [
    {
     "name": "stdout",
     "output_type": "stream",
     "text": [
      "['kakak', 'uamahahahha', 'suzuko', 'honda', 'jjjkabd']\n"
     ]
    }
   ],
   "source": [
    "motorcycles.insert(0,'kakak')\n",
    "print(motorcycles)"
   ]
  },
  {
   "cell_type": "markdown",
   "metadata": {},
   "source": [
    "### 2.3从列表中删除元素"
   ]
  },
  {
   "cell_type": "markdown",
   "metadata": {},
   "source": [
    "如果知道要删除的元素在列表中的位置，可使用del语句(条件是必须知道元素索引)"
   ]
  },
  {
   "cell_type": "code",
   "execution_count": 11,
   "metadata": {},
   "outputs": [
    {
     "name": "stdout",
     "output_type": "stream",
     "text": [
      "['kakak', 'uamahahahha', 'suzuko', 'honda', 'jjjkabd']\n"
     ]
    }
   ],
   "source": [
    "print(motorcycles)"
   ]
  },
  {
   "cell_type": "code",
   "execution_count": 12,
   "metadata": {},
   "outputs": [],
   "source": [
    "del motorcycles[0]"
   ]
  },
  {
   "cell_type": "code",
   "execution_count": 13,
   "metadata": {
    "scrolled": true
   },
   "outputs": [
    {
     "name": "stdout",
     "output_type": "stream",
     "text": [
      "['uamahahahha', 'suzuko', 'honda', 'jjjkabd']\n"
     ]
    }
   ],
   "source": [
    "print(motorcycles)"
   ]
  },
  {
   "cell_type": "markdown",
   "metadata": {},
   "source": [
    "pop（）删除列表末尾的元素，并让你能够接着使用他。"
   ]
  },
  {
   "cell_type": "code",
   "execution_count": 44,
   "metadata": {},
   "outputs": [
    {
     "name": "stdout",
     "output_type": "stream",
     "text": [
      "['trek', 'cannondale', 'redline', 'specialized']\n",
      "['trek', 'cannondale', 'redline']\n",
      "specialized\n"
     ]
    }
   ],
   "source": [
    "bicycles=['trek','cannondale','redline','specialized']\n",
    "print(bicycles)\n",
    "poped_bicycle=bicycles.pop()\n",
    "print(bicycles)\n",
    "print(poped_bicycle)"
   ]
  },
  {
   "cell_type": "code",
   "execution_count": 45,
   "metadata": {},
   "outputs": [
    {
     "name": "stdout",
     "output_type": "stream",
     "text": [
      "['trek', 'cannondale', 'redline', 'specialized']\n",
      "The last bicycle I owned was aSpecialized.\n",
      "['trek', 'cannondale', 'redline']\n"
     ]
    }
   ],
   "source": [
    "bicycles=['trek','cannondale','redline','specialized']\n",
    "print(bicycles)\n",
    "Last_owned=bicycles.pop()\n",
    "print(f\"The last bicycle I owned was a{Last_owned.title()}.\")\n",
    "print(bicycles)"
   ]
  },
  {
   "cell_type": "markdown",
   "metadata": {},
   "source": [
    "弹出列表任意位置处的元素"
   ]
  },
  {
   "cell_type": "code",
   "execution_count": 46,
   "metadata": {},
   "outputs": [
    {
     "name": "stdout",
     "output_type": "stream",
     "text": [
      "['trek', 'cannondale', 'redline', 'specialized']\n",
      "The first bicycle I owned was aTrek.\n",
      "['cannondale', 'redline', 'specialized']\n"
     ]
    }
   ],
   "source": [
    "bicycles=['trek','cannondale','redline','specialized']\n",
    "print(bicycles)\n",
    "First_owned=bicycles.pop(0)\n",
    "print(f\"The first bicycle I owned was a{First_owned.title()}.\")\n",
    "print(bicycles)"
   ]
  },
  {
   "cell_type": "markdown",
   "metadata": {},
   "source": [
    "注：如果要从列表中删除一个元素，且不再以任何方式使用它，就用del语句；如果要在删除元素之后还能继续使用它，就用pop（）"
   ]
  },
  {
   "cell_type": "markdown",
   "metadata": {},
   "source": [
    "### 2.4根据值删除元素"
   ]
  },
  {
   "cell_type": "code",
   "execution_count": 47,
   "metadata": {},
   "outputs": [
    {
     "name": "stdout",
     "output_type": "stream",
     "text": [
      "['trek', 'cannondale', 'redline', 'specialized']\n",
      "['cannondale', 'redline', 'specialized']\n"
     ]
    }
   ],
   "source": [
    "bicycles=['trek','cannondale','redline','specialized']\n",
    "print(bicycles)\n",
    "bicycles.remove('trek')\n",
    "print(bicycles)\n"
   ]
  },
  {
   "cell_type": "markdown",
   "metadata": {},
   "source": [
    "使用remove（）从列表中删除元素时，也可以接着使用他的值。"
   ]
  },
  {
   "cell_type": "code",
   "execution_count": 49,
   "metadata": {},
   "outputs": [
    {
     "name": "stdout",
     "output_type": "stream",
     "text": [
      "['trek', 'cannondale', 'redline', 'specialized']\n",
      "['cannondale', 'redline', 'specialized']\n",
      "\n",
      " Trek is too expensive for me.\n"
     ]
    }
   ],
   "source": [
    "bicycles=['trek','cannondale','redline','specialized']\n",
    "print(bicycles)\n",
    "too_expensive='trek'\n",
    "bicycles.remove(too_expensive)\n",
    "print(bicycles)\n",
    "print(f\"\\n {too_expensive.title()} is too expensive for me.\")"
   ]
  },
  {
   "cell_type": "markdown",
   "metadata": {},
   "source": [
    "注：方法remove（）只删除第一个指定的值。如果要删除列表中多次出现的值，需要使用循环来确保每个值都删除。"
   ]
  },
  {
   "cell_type": "markdown",
   "metadata": {},
   "source": [
    "## 练习"
   ]
  },
  {
   "cell_type": "code",
   "execution_count": 136,
   "metadata": {},
   "outputs": [
    {
     "name": "stdout",
     "output_type": "stream",
     "text": [
      "['wangminjie', 'chenjiayin', 'shaomengyue', 'wujie']\n",
      "wangminjie,please come to dinner\n",
      "chenjiayin,please come to dinner\n",
      "shaomengyue,please come to dinner\n",
      "wujie,please come to dinner\n"
     ]
    }
   ],
   "source": [
    "#嘉宾名单\n",
    "guest_lists=['wangminjie','chenjiayin','shaomengyue','wujie']\n",
    "print(guest_lists)\n",
    "print(f\"{guest_lists[0]},please come to dinner\")\n",
    "print(f\"{guest_lists[1]},please come to dinner\")\n",
    "print(f\"{guest_lists[2]},please come to dinner\")\n",
    "print(f\"{guest_lists[3]},please come to dinner\")"
   ]
  },
  {
   "cell_type": "code",
   "execution_count": 121,
   "metadata": {},
   "outputs": [
    {
     "name": "stdout",
     "output_type": "stream",
     "text": [
      "chenjiayin cannot take part in this hui\n"
     ]
    }
   ],
   "source": [
    "#修改嘉宾名单\n",
    "print(f\"{guest_lists[1]} cannot take part in this hui\")"
   ]
  },
  {
   "cell_type": "code",
   "execution_count": 122,
   "metadata": {},
   "outputs": [
    {
     "name": "stdout",
     "output_type": "stream",
     "text": [
      "['wangminjie', 'yusiwen', 'shaomengyue', 'wujie']\n"
     ]
    }
   ],
   "source": [
    "guest_lists[1]='yusiwen'\n",
    "print(guest_lists)"
   ]
  },
  {
   "cell_type": "code",
   "execution_count": 123,
   "metadata": {},
   "outputs": [
    {
     "name": "stdout",
     "output_type": "stream",
     "text": [
      "I find a bigger desk for banquet\n"
     ]
    }
   ],
   "source": [
    "print(f\"I find a bigger desk for banquet\")"
   ]
  },
  {
   "cell_type": "code",
   "execution_count": 124,
   "metadata": {},
   "outputs": [
    {
     "name": "stdout",
     "output_type": "stream",
     "text": [
      "['zhaoyan', 'wangminjie', 'yusiwen', 'shaomengyue', 'wujie']\n"
     ]
    }
   ],
   "source": [
    "guest_lists.insert(0, 'zhaoyan')\n",
    "print(guest_lists)"
   ]
  },
  {
   "cell_type": "code",
   "execution_count": 125,
   "metadata": {},
   "outputs": [
    {
     "name": "stdout",
     "output_type": "stream",
     "text": [
      "['zhaoyan', 'wangminjie', 'wanghong', 'yusiwen', 'shaomengyue', 'wujie']\n"
     ]
    }
   ],
   "source": [
    "guest_lists.insert(2, 'wanghong')\n",
    "print(guest_lists)"
   ]
  },
  {
   "cell_type": "code",
   "execution_count": 128,
   "metadata": {},
   "outputs": [
    {
     "name": "stdout",
     "output_type": "stream",
     "text": [
      "['zhaoyan', 'wangminjie', 'wanghong', 'yusiwen', 'shaomengyue', 'wujie', 'yangxiaokai', 'yangxiaokai']\n"
     ]
    }
   ],
   "source": [
    "guest_lists.append('yangxiaokai')\n",
    "print(guest_lists)"
   ]
  },
  {
   "cell_type": "code",
   "execution_count": 130,
   "metadata": {},
   "outputs": [
    {
     "name": "stdout",
     "output_type": "stream",
     "text": [
      "['zhaoyan', 'wangminjie', 'wanghong', 'yusiwen', 'shaomengyue', 'wujie']\n"
     ]
    }
   ],
   "source": [
    "del guest_lists[6]\n",
    "print(guest_lists)"
   ]
  },
  {
   "cell_type": "code",
   "execution_count": 131,
   "metadata": {},
   "outputs": [
    {
     "name": "stdout",
     "output_type": "stream",
     "text": [
      "Ionly have two people with me to eat\n"
     ]
    }
   ],
   "source": [
    "print('Ionly have two people with me to eat')"
   ]
  },
  {
   "cell_type": "code",
   "execution_count": 133,
   "metadata": {},
   "outputs": [
    {
     "name": "stdout",
     "output_type": "stream",
     "text": [
      "['zhaoyan']\n"
     ]
    }
   ],
   "source": [
    "guest_lists.pop()\n",
    "guest_lists.pop()\n",
    "guest_lists.pop()\n",
    "print(guest_lists)"
   ]
  },
  {
   "cell_type": "markdown",
   "metadata": {},
   "source": [
    "## 3.组织列表"
   ]
  },
  {
   "cell_type": "markdown",
   "metadata": {},
   "source": [
    "### 3.1.使用sort（）对列表永久排序"
   ]
  },
  {
   "cell_type": "code",
   "execution_count": 137,
   "metadata": {},
   "outputs": [
    {
     "name": "stdout",
     "output_type": "stream",
     "text": [
      "['audi', 'bmw', 'subaru', 'toyota']\n"
     ]
    }
   ],
   "source": [
    "#sort()按字母顺序【】排列列表里的元素\n",
    "cars=['bmw','audi','toyota','subaru']\n",
    "cars.sort()\n",
    "print(cars)"
   ]
  },
  {
   "cell_type": "code",
   "execution_count": 138,
   "metadata": {},
   "outputs": [
    {
     "name": "stdout",
     "output_type": "stream",
     "text": [
      "['toyota', 'subaru', 'bmw', 'audi']\n"
     ]
    }
   ],
   "source": [
    "#向sort（）传递参数reverse=True即可按字母反向顺序排列列表里的元素\n",
    "cars=['bmw','audi','toyota','subaru']\n",
    "cars.sort(reverse=True)\n",
    "print(cars)"
   ]
  },
  {
   "cell_type": "markdown",
   "metadata": {},
   "source": [
    "### 3.2.使用sorted（）对列表临时排序"
   ]
  },
  {
   "cell_type": "code",
   "execution_count": 139,
   "metadata": {},
   "outputs": [
    {
     "name": "stdout",
     "output_type": "stream",
     "text": [
      "Here is the original list:\n",
      "['bmw', 'audi', 'toyota', 'subaru']\n",
      "\n",
      "Here is the sorted list:\n",
      "['audi', 'bmw', 'subaru', 'toyota']\n",
      "\n",
      "Here is the original list again:\n",
      "['bmw', 'audi', 'toyota', 'subaru']\n"
     ]
    }
   ],
   "source": [
    "cars=['bmw','audi','toyota','subaru']\n",
    "print(\"Here is the original list:\")\n",
    "print(cars)\n",
    "\n",
    "print(\"\\nHere is the sorted list:\")\n",
    "print(sorted(cars))\n",
    "\n",
    "print(\"\\nHere is the original list again:\")\n",
    "print(cars)\n"
   ]
  },
  {
   "cell_type": "markdown",
   "metadata": {},
   "source": [
    "可见，采用sorted后排序只是暂时发生改变。"
   ]
  },
  {
   "cell_type": "markdown",
   "metadata": {},
   "source": [
    "### 3.3.倒着打印列表"
   ]
  },
  {
   "cell_type": "code",
   "execution_count": 141,
   "metadata": {},
   "outputs": [
    {
     "name": "stdout",
     "output_type": "stream",
     "text": [
      "['bmw', 'audi', 'toyota', 'subaru']\n",
      "['subaru', 'toyota', 'audi', 'bmw']\n"
     ]
    }
   ],
   "source": [
    "#在外面的reverse只是将列表里的元素倒置了一下，而不是按照字母排序颠倒顺序\n",
    "cars=['bmw','audi','toyota','subaru']\n",
    "print(cars)\n",
    "\n",
    "cars.reverse()\n",
    "print(cars)"
   ]
  },
  {
   "cell_type": "markdown",
   "metadata": {},
   "source": [
    "### 3.4.确定列表长度"
   ]
  },
  {
   "cell_type": "code",
   "execution_count": 142,
   "metadata": {},
   "outputs": [
    {
     "data": {
      "text/plain": [
       "4"
      ]
     },
     "execution_count": 142,
     "metadata": {},
     "output_type": "execute_result"
    }
   ],
   "source": [
    "#函数len（）可以快速获取列表的长度。\n",
    "cars=['bmw','audi','toyota','subaru']\n",
    "len(cars)"
   ]
  },
  {
   "cell_type": "markdown",
   "metadata": {},
   "source": [
    "注：Python计算列表元素数时从1开始，因此只有确定了列表长度，你才不会遇到差一错误。"
   ]
  },
  {
   "cell_type": "markdown",
   "metadata": {},
   "source": [
    "## 练习"
   ]
  },
  {
   "cell_type": "code",
   "execution_count": 11,
   "metadata": {},
   "outputs": [
    {
     "name": "stdout",
     "output_type": "stream",
     "text": [
      "['Tokyo', 'Jerusalem', 'Norway', 'France', 'Italy']\n"
     ]
    }
   ],
   "source": [
    "#列出五个想去的地方\n",
    "places=['Tokyo','Jerusalem','Norway','France','Italy']\n",
    "print(places)"
   ]
  },
  {
   "cell_type": "code",
   "execution_count": 12,
   "metadata": {},
   "outputs": [
    {
     "name": "stdout",
     "output_type": "stream",
     "text": [
      "['France', 'Italy', 'Jerusalem', 'Norway', 'Tokyo']\n"
     ]
    }
   ],
   "source": [
    "#临时按照字顺序排序\n",
    "print(sorted(places))"
   ]
  },
  {
   "cell_type": "code",
   "execution_count": 13,
   "metadata": {},
   "outputs": [
    {
     "name": "stdout",
     "output_type": "stream",
     "text": [
      "['Tokyo', 'Jerusalem', 'Norway', 'France', 'Italy']\n"
     ]
    }
   ],
   "source": [
    "#再将字母顺序按原顺序排列\n",
    "print(places)"
   ]
  },
  {
   "cell_type": "code",
   "execution_count": 18,
   "metadata": {},
   "outputs": [
    {
     "name": "stdout",
     "output_type": "stream",
     "text": [
      "['Tokyo', 'Norway', 'Jerusalem', 'Italy', 'France']\n"
     ]
    }
   ],
   "source": [
    "#按照字母相反顺序排列\n",
    "print(sorted(places,reverse=True))"
   ]
  },
  {
   "cell_type": "code",
   "execution_count": 19,
   "metadata": {},
   "outputs": [
    {
     "name": "stdout",
     "output_type": "stream",
     "text": [
      "['Tokyo', 'Jerusalem', 'Norway', 'France', 'Italy']\n"
     ]
    }
   ],
   "source": [
    "#该列表顺序确实没变\n",
    "print(places)"
   ]
  },
  {
   "cell_type": "code",
   "execution_count": 21,
   "metadata": {},
   "outputs": [
    {
     "name": "stdout",
     "output_type": "stream",
     "text": [
      "['Italy', 'France', 'Norway', 'Jerusalem', 'Tokyo']\n"
     ]
    }
   ],
   "source": [
    "#将该列表按照字母顺序反着打印\n",
    "places.reverse()\n",
    "print(places)"
   ]
  },
  {
   "cell_type": "code",
   "execution_count": 22,
   "metadata": {},
   "outputs": [
    {
     "name": "stdout",
     "output_type": "stream",
     "text": [
      "['Tokyo', 'Jerusalem', 'Norway', 'France', 'Italy']\n"
     ]
    }
   ],
   "source": [
    "#再次反转，说明该列表确实到回来了\n",
    "places.reverse()\n",
    "print(places)"
   ]
  },
  {
   "cell_type": "code",
   "execution_count": 23,
   "metadata": {},
   "outputs": [
    {
     "name": "stdout",
     "output_type": "stream",
     "text": [
      "['France', 'Italy', 'Jerusalem', 'Norway', 'Tokyo']\n"
     ]
    }
   ],
   "source": [
    "#使用sort改变排序\n",
    "places.sort()\n",
    "print(places)"
   ]
  },
  {
   "cell_type": "code",
   "execution_count": 24,
   "metadata": {},
   "outputs": [
    {
     "name": "stdout",
     "output_type": "stream",
     "text": [
      "['Tokyo', 'Norway', 'Jerusalem', 'Italy', 'France']\n"
     ]
    }
   ],
   "source": [
    "#使用sort+reverse将字母顺序反着打印\n",
    "places.sort(reverse=True)\n",
    "print(places)"
   ]
  },
  {
   "cell_type": "markdown",
   "metadata": {},
   "source": [
    "## 4.使用列表时避免索引错误"
   ]
  },
  {
   "cell_type": "code",
   "execution_count": 26,
   "metadata": {},
   "outputs": [
    {
     "name": "stdout",
     "output_type": "stream",
     "text": [
      "suzuki\n"
     ]
    }
   ],
   "source": [
    "#python中的索引是从0开始的，访问最后一个元素采用索引-1,只有当列表为空时这种访问最后一个元素才会失效\n",
    "motorcycles=['honda','yamaha','suzuki']\n",
    "print(motorcycles[-1])"
   ]
  },
  {
   "cell_type": "markdown",
   "metadata": {},
   "source": [
    "发生索引错误却找不到解决办法时，可将其列表或长度打印出来检查，"
   ]
  },
  {
   "cell_type": "markdown",
   "metadata": {},
   "source": [
    "# 操作列表"
   ]
  },
  {
   "cell_type": "markdown",
   "metadata": {},
   "source": [
    "## 1.遍历整个列表"
   ]
  },
  {
   "cell_type": "code",
   "execution_count": 27,
   "metadata": {},
   "outputs": [
    {
     "name": "stdout",
     "output_type": "stream",
     "text": [
      "Alice\n",
      "David\n",
      "Carolina\n"
     ]
    }
   ],
   "source": [
    "#列表很长时，用for循环，对列表里的每个元素采取同一操作\n",
    "magicians=['Alice','David','Carolina']\n",
    "for magician in magicians:\n",
    "    print(magician)\n",
    "    pass\n"
   ]
  },
  {
   "cell_type": "code",
   "execution_count": 37,
   "metadata": {},
   "outputs": [
    {
     "name": "stdout",
     "output_type": "stream",
     "text": [
      "Alice,that was a great trick!\n",
      "David,that was a great trick!\n",
      "Carolina,that was a great trick!\n"
     ]
    }
   ],
   "source": [
    "#循环对列表中的每个人元素都执行循环指定的步骤，二不管列表包含多少个元素\n",
    "magicians=['Alice','David','Carolina']\n",
    "for magician in magicians:\n",
    "    print(f\"{magician},that was a great trick!\")\n",
    "    pass\n"
   ]
  },
  {
   "cell_type": "code",
   "execution_count": 40,
   "metadata": {},
   "outputs": [
    {
     "name": "stdout",
     "output_type": "stream",
     "text": [
      "Alice,that was a great trick!\n",
      "I cannot wait to see you Alice.\n",
      "\n",
      "David,that was a great trick!\n",
      "I cannot wait to see you David.\n",
      "\n",
      "Carolina,that was a great trick!\n",
      "I cannot wait to see you Carolina.\n",
      "\n"
     ]
    }
   ],
   "source": [
    "#执行完一轮操作之后再循环\n",
    "magicians=['Alice','David','Carolina']\n",
    "for magician in magicians:\n",
    "    print(f\"{magician},that was a great trick!\")\n",
    "    print(f\"I cannot wait to see you {magician}.\\n\")\n",
    "    pass"
   ]
  },
  {
   "cell_type": "code",
   "execution_count": 41,
   "metadata": {},
   "outputs": [
    {
     "name": "stdout",
     "output_type": "stream",
     "text": [
      "Alice,that was a great trick!\n",
      "I cannot wait to see you Alice.\n",
      "\n",
      "David,that was a great trick!\n",
      "I cannot wait to see you David.\n",
      "\n",
      "Carolina,that was a great trick!\n",
      "I cannot wait to see you Carolina.\n",
      "\n",
      "Thank you ,everyone.That was a great magic show\n"
     ]
    }
   ],
   "source": [
    "#只对缩进下的内容进行循环\n",
    "magicians=['Alice','David','Carolina']\n",
    "for magician in magicians:\n",
    "    print(f\"{magician},that was a great trick!\")\n",
    "    print(f\"I cannot wait to see you {magician}.\\n\")\n",
    "\n",
    "print(\"Thank you ,everyone.That was a great magic show\")"
   ]
  },
  {
   "cell_type": "markdown",
   "metadata": {},
   "source": [
    "## 2.避免缩进错误"
   ]
  },
  {
   "cell_type": "markdown",
   "metadata": {},
   "source": [
    "注意：<br>1.循环后面跟“：”，“：”后面的代码块要缩进;<br>\n",
    "2.在循环里的内容必须要在缩进块下面一起，否则会达不到预期效果，同样，不该在缩进里面的代码不用缩进；"
   ]
  },
  {
   "cell_type": "markdown",
   "metadata": {},
   "source": [
    "## 练习"
   ]
  },
  {
   "cell_type": "code",
   "execution_count": 77,
   "metadata": {},
   "outputs": [
    {
     "name": "stdout",
     "output_type": "stream",
     "text": [
      "pizz1\n",
      "pizz2\n",
      "pizz3\n"
     ]
    }
   ],
   "source": [
    "#打印三个pizza\n",
    "pizzanames=['pizz1','pizz2','pizz3']\n",
    "for pizzaname in pizzanames:\n",
    "    print(pizzaname)\n",
    "    pass\n"
   ]
  },
  {
   "cell_type": "code",
   "execution_count": 78,
   "metadata": {},
   "outputs": [
    {
     "name": "stdout",
     "output_type": "stream",
     "text": [
      "I like pizz1\n",
      "I like pizz2\n",
      "I like pizz3\n"
     ]
    }
   ],
   "source": [
    "#打印完三个pizza还得加个句子连起来\n",
    "pizzanames=['pizz1','pizz2','pizz3']\n",
    "for pizzaname in pizzanames:\n",
    "    print(f\"I like {pizzaname}\")\n",
    "    pass\n"
   ]
  },
  {
   "cell_type": "code",
   "execution_count": 79,
   "metadata": {},
   "outputs": [
    {
     "name": "stdout",
     "output_type": "stream",
     "text": [
      "I like pizz1\n",
      "I like pizz2\n",
      "I like pizz3\n",
      "I really like pizza\n"
     ]
    }
   ],
   "source": [
    "#在循环后再加一句话\n",
    "pizzanames=['pizz1','pizz2','pizz3']\n",
    "for pizzaname in pizzanames:\n",
    "    print(f\"I like {pizzaname}\")\n",
    "    pass\n",
    "print(f\"I really like pizza\")"
   ]
  },
  {
   "cell_type": "markdown",
   "metadata": {},
   "source": [
    "## 3.创建数值列表"
   ]
  },
  {
   "cell_type": "markdown",
   "metadata": {},
   "source": [
    "### 3.1range（）函数的使用"
   ]
  },
  {
   "cell_type": "code",
   "execution_count": 49,
   "metadata": {},
   "outputs": [
    {
     "name": "stdout",
     "output_type": "stream",
     "text": [
      "1\n",
      "2\n",
      "3\n",
      "4\n"
     ]
    }
   ],
   "source": [
    "#range()函数可以轻松生成一系列数，\n",
    "#在range里的第一个值开始输出，第二个值的地方停止输出，但是不输出第二个数，所以需要注意要输出的数是哪些\n",
    "for value in range(1,5):\n",
    "    print(value)\n",
    "    pass\n"
   ]
  },
  {
   "cell_type": "code",
   "execution_count": 54,
   "metadata": {},
   "outputs": [
    {
     "name": "stdout",
     "output_type": "stream",
     "text": [
      "0\n",
      "1\n",
      "2\n",
      "3\n",
      "4\n",
      "5\n"
     ]
    }
   ],
   "source": [
    "#range()函数的使用，可指定一个参数，这样他将从零开始\n",
    "for nu in range(6):\n",
    "    print(nu)\n",
    "    pass\n"
   ]
  },
  {
   "cell_type": "markdown",
   "metadata": {},
   "source": [
    "### 3.2.使用range（）创建数字列表"
   ]
  },
  {
   "cell_type": "code",
   "execution_count": 56,
   "metadata": {},
   "outputs": [
    {
     "name": "stdout",
     "output_type": "stream",
     "text": [
      "[1, 2, 3, 4, 5]\n"
     ]
    }
   ],
   "source": [
    "#list()可将range()的结果直接转化为列表，\n",
    "#如果将range()作为list()的参数，输出将是一个数字列表\n",
    "numbers=list(range(1,6))\n",
    "print(numbers)"
   ]
  },
  {
   "cell_type": "code",
   "execution_count": 57,
   "metadata": {},
   "outputs": [
    {
     "name": "stdout",
     "output_type": "stream",
     "text": [
      "[2, 4, 6, 8, 10]\n"
     ]
    }
   ],
   "source": [
    "#range()函数的使用，可指定步长\n",
    "even_numbers=list(range(2,11,2))\n",
    "print(even_numbers)"
   ]
  },
  {
   "cell_type": "code",
   "execution_count": 58,
   "metadata": {},
   "outputs": [
    {
     "name": "stdout",
     "output_type": "stream",
     "text": [
      "[1, 4, 9, 16, 25, 36, 49, 64, 81, 100]\n"
     ]
    }
   ],
   "source": [
    "#创建一个列表，其中包含前十个数的平方\n",
    "squares=[]\n",
    "for value in range(1,11):\n",
    "    square=value**2\n",
    "    squares.append(square) #将新计算得到的平方值加在列表squares末尾\n",
    "    pass\n",
    "print(squares)"
   ]
  },
  {
   "cell_type": "code",
   "execution_count": 60,
   "metadata": {},
   "outputs": [
    {
     "name": "stdout",
     "output_type": "stream",
     "text": [
      "[1, 4, 9, 16, 25, 36, 49, 64, 81, 100]\n"
     ]
    }
   ],
   "source": [
    "#可以不使用临时变量对其进行转换，此处新建一个不带s的square变量\n",
    "square=[]\n",
    "for value in range(1,11):\n",
    "    square.append(value**2)\n",
    "    pass\n",
    "print(square)"
   ]
  },
  {
   "cell_type": "markdown",
   "metadata": {},
   "source": [
    "### 3.3.对数字列表执行简单的统计计算"
   ]
  },
  {
   "cell_type": "code",
   "execution_count": 65,
   "metadata": {},
   "outputs": [],
   "source": [
    "digits=[1,2,3,5,4,6,7,8,9,0,12,34,56,]"
   ]
  },
  {
   "cell_type": "code",
   "execution_count": 66,
   "metadata": {},
   "outputs": [
    {
     "data": {
      "text/plain": [
       "0"
      ]
     },
     "execution_count": 66,
     "metadata": {},
     "output_type": "execute_result"
    }
   ],
   "source": [
    "#输出列表中最小的数\n",
    "min(digits)"
   ]
  },
  {
   "cell_type": "code",
   "execution_count": 67,
   "metadata": {},
   "outputs": [
    {
     "data": {
      "text/plain": [
       "56"
      ]
     },
     "execution_count": 67,
     "metadata": {},
     "output_type": "execute_result"
    }
   ],
   "source": [
    "#输出列表中最大的数\n",
    "max(digits)"
   ]
  },
  {
   "cell_type": "code",
   "execution_count": 68,
   "metadata": {},
   "outputs": [
    {
     "data": {
      "text/plain": [
       "147"
      ]
     },
     "execution_count": 68,
     "metadata": {},
     "output_type": "execute_result"
    }
   ],
   "source": [
    "#输出列表中数字的和\n",
    "sum(digits)"
   ]
  },
  {
   "cell_type": "markdown",
   "metadata": {},
   "source": [
    "### 3.4.列表解析"
   ]
  },
  {
   "cell_type": "code",
   "execution_count": 69,
   "metadata": {},
   "outputs": [
    {
     "name": "stdout",
     "output_type": "stream",
     "text": [
      "[1, 4, 9, 16, 25, 36, 49, 64, 81, 100]\n"
     ]
    }
   ],
   "source": [
    "#列表解析将for循环和创建新元素的代码合并成一行，并自动附加新元素\n",
    "#首先指定一个描述性的列表名，然后再指定一个左方括号，并定义一个表达式，用于生成要储存到列表中的值\n",
    "squares=[value**2 for value in range(1,11)]\n",
    "print(squares)"
   ]
  },
  {
   "cell_type": "markdown",
   "metadata": {},
   "source": [
    "## 练习"
   ]
  },
  {
   "cell_type": "code",
   "execution_count": 82,
   "metadata": {},
   "outputs": [
    {
     "name": "stdout",
     "output_type": "stream",
     "text": [
      "1\n",
      "2\n",
      "3\n",
      "4\n",
      "5\n",
      "6\n",
      "7\n",
      "8\n",
      "9\n",
      "10\n",
      "11\n",
      "12\n",
      "13\n",
      "14\n",
      "15\n",
      "16\n",
      "17\n",
      "18\n",
      "19\n",
      "20\n"
     ]
    }
   ],
   "source": [
    "#使用for循环打印数1~20（包含20）\n",
    "numbers1 = list(range(1, 21))\n",
    "for value in numbers1:\n",
    "    print(value)\n",
    "    pass\n"
   ]
  },
  {
   "cell_type": "code",
   "execution_count": 83,
   "metadata": {},
   "outputs": [
    {
     "name": "stdout",
     "output_type": "stream",
     "text": [
      "1\n",
      "1000000\n",
      "500000500000\n"
     ]
    }
   ],
   "source": [
    "#创建一个1-1000000的数字列表，并输出最大值和最小值和和值\n",
    "numbers2=list(range(1,1000001))\n",
    "print(min(numbers2))\n",
    "print(max(numbers2))\n",
    "print(sum(numbers2))"
   ]
  },
  {
   "cell_type": "code",
   "execution_count": 84,
   "metadata": {},
   "outputs": [
    {
     "name": "stdout",
     "output_type": "stream",
     "text": [
      "1\n",
      "3\n",
      "5\n",
      "7\n",
      "9\n",
      "11\n",
      "13\n",
      "15\n",
      "17\n",
      "19\n"
     ]
    }
   ],
   "source": [
    "#创建一个包含一到二十的奇数列表\n",
    "numbers3=list(range(1,20,2))\n",
    "for number3 in numbers3:\n",
    "    print(number3)\n",
    "    pass\n",
    "\n",
    "    "
   ]
  },
  {
   "cell_type": "code",
   "execution_count": 85,
   "metadata": {},
   "outputs": [
    {
     "name": "stdout",
     "output_type": "stream",
     "text": [
      "3\n",
      "6\n",
      "9\n",
      "12\n",
      "15\n",
      "18\n",
      "21\n",
      "24\n",
      "27\n",
      "30\n"
     ]
    }
   ],
   "source": [
    "#创建一个3到30能被3整除的列表\n",
    "numbers4=list(range(3,31,3))\n",
    "for number4 in numbers4:\n",
    "    print(number4)\n",
    "    pass\n"
   ]
  },
  {
   "cell_type": "code",
   "execution_count": 92,
   "metadata": {},
   "outputs": [
    {
     "name": "stdout",
     "output_type": "stream",
     "text": [
      "1\n",
      "8\n",
      "27\n",
      "64\n",
      "125\n",
      "216\n",
      "343\n",
      "512\n",
      "729\n",
      "1000\n"
     ]
    }
   ],
   "source": [
    "#创建一个包含前十个数的立方的列表\n",
    "numbers5=list(range(1,11))\n",
    "for number5 in numbers5:\n",
    "    number5=number5**3\n",
    "    print(number5)   "
   ]
  },
  {
   "cell_type": "code",
   "execution_count": 94,
   "metadata": {},
   "outputs": [
    {
     "name": "stdout",
     "output_type": "stream",
     "text": [
      "[1, 8, 27, 64, 125, 216, 343, 512, 729, 1000]\n"
     ]
    }
   ],
   "source": [
    "numbers6=[number6**3 for number6 in range(1,11)]\n",
    "print(numbers6)"
   ]
  },
  {
   "cell_type": "markdown",
   "metadata": {},
   "source": [
    "## 4.使用列表一部分"
   ]
  },
  {
   "cell_type": "markdown",
   "metadata": {},
   "source": [
    "### 4.1.切片"
   ]
  },
  {
   "cell_type": "markdown",
   "metadata": {},
   "source": [
    "切片可以处理列表中的部分元素<br>同样，可使用第三个元素指定每隔多少距离取一个元素"
   ]
  },
  {
   "cell_type": "code",
   "execution_count": 99,
   "metadata": {},
   "outputs": [
    {
     "name": "stdout",
     "output_type": "stream",
     "text": [
      "['charles', 'martina', 'michael']\n",
      "['martina', 'michael', 'florence']\n",
      "['charles', 'martina', 'michael', 'florence']\n",
      "['michael', 'florence', 'eli']\n",
      "['michael', 'florence', 'eli']\n"
     ]
    }
   ],
   "source": [
    "#创建切片时，可指定第一个和最后一个元素的索引\n",
    "players=['charles','martina','michael','florence','eli']\n",
    "print(players[0:3])\n",
    "print(players[1:4])\n",
    "print(players[:4]) #没有指定起始索引，自动从列表开头开始提取\n",
    "print(players[2:]) #可让列表从中间开始，止于列表结尾处\n",
    "print(players[-3:])#打印最后三个，"
   ]
  },
  {
   "cell_type": "markdown",
   "metadata": {},
   "source": [
    "### 4.2.遍历切片"
   ]
  },
  {
   "cell_type": "code",
   "execution_count": 100,
   "metadata": {},
   "outputs": [
    {
     "name": "stdout",
     "output_type": "stream",
     "text": [
      "Here are the first three players on my tean:\n",
      "Charles\n",
      "Martina\n",
      "Michael\n"
     ]
    }
   ],
   "source": [
    "#只用遍历列表里的部分元素则使用切片\n",
    "players=['charles','martina','michael','florence','eli']\n",
    "print(\"Here are the first three players on my tean:\")\n",
    "for player in players[:3]:\n",
    "    print(player.title())"
   ]
  },
  {
   "cell_type": "markdown",
   "metadata": {},
   "source": [
    "### 4.3.复制列表"
   ]
  },
  {
   "cell_type": "code",
   "execution_count": 101,
   "metadata": {},
   "outputs": [
    {
     "name": "stdout",
     "output_type": "stream",
     "text": [
      "My favorite foods are:\n",
      "['pizza', 'falafel', 'carrot food']\n",
      "\n",
      "My friend's favorite foods are:\n",
      "['pizza', 'falafel', 'carrot food']\n"
     ]
    }
   ],
   "source": [
    "#可创建一个包含整个列表的切片，同时省略起始索引和终止索引[:]\n",
    "my_foods=['pizza','falafel','carrot food']\n",
    "friend_foods=my_foods[:]\n",
    "print(\"My favorite foods are:\")\n",
    "print(my_foods)\n",
    "print(\"\\nMy friend's favorite foods are:\")\n",
    "print(friend_foods)"
   ]
  },
  {
   "cell_type": "code",
   "execution_count": 102,
   "metadata": {},
   "outputs": [
    {
     "name": "stdout",
     "output_type": "stream",
     "text": [
      "My favorite foods are:\n",
      "['pizza', 'falafel', 'carrot food', 'cannoli']\n",
      "\n",
      "My friend's favorite foods are:\n",
      "['pizza', 'falafel', 'carrot food', 'ice cream']\n"
     ]
    }
   ],
   "source": [
    "#在列表末尾添加元素确保已经复制好之前的列表\n",
    "my_foods=['pizza','falafel','carrot food']\n",
    "friend_foods=my_foods[:]\n",
    "\n",
    "my_foods.append('cannoli')\n",
    "friend_foods.append('ice cream')\n",
    "print(\"My favorite foods are:\")\n",
    "print(my_foods)\n",
    "print(\"\\nMy friend's favorite foods are:\")\n",
    "print(friend_foods)"
   ]
  },
  {
   "cell_type": "code",
   "execution_count": 103,
   "metadata": {},
   "outputs": [
    {
     "name": "stdout",
     "output_type": "stream",
     "text": [
      "My favorite foods are:\n",
      "['pizza', 'falafel', 'carrot food', 'cannoli', 'ice cream']\n",
      "\n",
      "My friend's favorite foods are:\n",
      "['pizza', 'falafel', 'carrot food', 'cannoli', 'ice cream']\n"
     ]
    }
   ],
   "source": [
    "#直接划=不采取切片后面的更改没有效果\n",
    "my_foods=['pizza','falafel','carrot food']\n",
    "friend_foods=my_foods\n",
    "\n",
    "my_foods.append('cannoli')\n",
    "friend_foods.append('ice cream')\n",
    "print(\"My favorite foods are:\")\n",
    "print(my_foods)\n",
    "print(\"\\nMy friend's favorite foods are:\")\n",
    "print(friend_foods)"
   ]
  },
  {
   "cell_type": "markdown",
   "metadata": {},
   "source": [
    "## 练习"
   ]
  },
  {
   "cell_type": "code",
   "execution_count": 104,
   "metadata": {},
   "outputs": [
    {
     "name": "stdout",
     "output_type": "stream",
     "text": [
      "[1, 4, 9, 16, 25, 36, 49, 64, 81, 100]\n",
      "The first three items in the list are:\n",
      "1\n",
      "4\n",
      "9\n"
     ]
    }
   ],
   "source": [
    "#前面题目中，打印列表前十个数的平方，再列出十个数中的前三个数\n",
    "square=[]\n",
    "for value in range(1,11):\n",
    "    square.append(value**2)\n",
    "    pass\n",
    "print(square)\n",
    "print(\"The first three items in the list are:\")\n",
    "for square1 in square[:3]:\n",
    "    print(square1)\n",
    "    pass\n"
   ]
  },
  {
   "cell_type": "code",
   "execution_count": 107,
   "metadata": {},
   "outputs": [
    {
     "name": "stdout",
     "output_type": "stream",
     "text": [
      "[1, 4, 9, 16, 25, 36, 49, 64, 81, 100]\n",
      "Three items from the middle of the list are:\n",
      "16\n",
      "25\n",
      "36\n"
     ]
    }
   ],
   "source": [
    "#前面题目中，打印列表前十个数的平方，再列出十个数中的中间三个数\n",
    "square=[]\n",
    "for value in range(1,11):\n",
    "    square.append(value**2)\n",
    "    pass\n",
    "print(square)\n",
    "print(\"Three items from the middle of the list are:\")\n",
    "for square2 in square[3:6]:\n",
    "    print(square2)\n",
    "    pass\n"
   ]
  },
  {
   "cell_type": "code",
   "execution_count": 109,
   "metadata": {},
   "outputs": [
    {
     "name": "stdout",
     "output_type": "stream",
     "text": [
      "[1, 4, 9, 16, 25, 36, 49, 64, 81, 100]\n",
      "The last three items in the list are:\n",
      "64\n",
      "81\n",
      "100\n"
     ]
    }
   ],
   "source": [
    "#前面题目中，打印列表前十个数的平方，再列出十个数中的后三个数\n",
    "square=[]\n",
    "for value in range(1,11):\n",
    "    square.append(value**2)\n",
    "    pass\n",
    "print(square)\n",
    "print(\"The last three items in the list are:\")\n",
    "for square3 in square[-3:]:\n",
    "    print(square3)\n",
    "    pass\n"
   ]
  },
  {
   "cell_type": "markdown",
   "metadata": {},
   "source": [
    "## 5.元组"
   ]
  },
  {
   "cell_type": "markdown",
   "metadata": {},
   "source": [
    "列表适合用于储存在程序运行期间可能变化的数据集，列表是可修改的。<br>\n",
    "元组则是不可更改的，Python将不能修改的值称为不可变的，不可变的列表称为元组"
   ]
  },
  {
   "cell_type": "code",
   "execution_count": 111,
   "metadata": {},
   "outputs": [
    {
     "name": "stdout",
     "output_type": "stream",
     "text": [
      "200\n",
      "50\n"
     ]
    }
   ],
   "source": [
    "#创建元组\n",
    "dimensions=(200,50) #一个大小不变的矩形，长和宽可储存在一个元组中\n",
    "print(dimensions[0])#不可使用dimensions[0]=250对元组中的元素进行修改\n",
    "print(dimensions[1])"
   ]
  },
  {
   "cell_type": "markdown",
   "metadata": {},
   "source": [
    "<font color=#FF0000>  \n",
    "严格地说，元组是由逗号标识的，圆括号只是让元组看起来更整洁、清晰。如果需要定义只包含一个元素的元组，必须要在这个元素后面加“，”：my_t=（3，）</font> "
   ]
  },
  {
   "cell_type": "code",
   "execution_count": 112,
   "metadata": {},
   "outputs": [
    {
     "name": "stdout",
     "output_type": "stream",
     "text": [
      "200\n",
      "50\n"
     ]
    }
   ],
   "source": [
    "#遍历元组里的所有值\n",
    "dimensions1=(200,50)\n",
    "for dimension1 in dimensions1:\n",
    "    print(dimension1)\n",
    "    pass\n"
   ]
  },
  {
   "cell_type": "code",
   "execution_count": 113,
   "metadata": {},
   "outputs": [
    {
     "name": "stdout",
     "output_type": "stream",
     "text": [
      "Original dimension:\n",
      "200\n",
      "50\n",
      "\n",
      "Modified dimension:\n",
      "400\n",
      "50\n"
     ]
    }
   ],
   "source": [
    "#修改元组变量\n",
    "dimensions2=(200,50)\n",
    "print(\"Original dimension:\")\n",
    "for dimension2 in dimensions2:\n",
    "    print(dimension2)\n",
    "    pass\n",
    "\n",
    "dimensions2=(400,50)\n",
    "print(\"\\nModified dimension:\")\n",
    "for dimension2 in dimensions2:\n",
    "    print(dimension2)\n",
    "    pass"
   ]
  },
  {
   "cell_type": "code",
   "execution_count": null,
   "metadata": {},
   "outputs": [],
   "source": []
  }
 ],
 "metadata": {
  "kernelspec": {
   "display_name": "Python 3",
   "language": "python",
   "name": "python3"
  },
  "language_info": {
   "codemirror_mode": {
    "name": "ipython",
    "version": 3
   },
   "file_extension": ".py",
   "mimetype": "text/x-python",
   "name": "python",
   "nbconvert_exporter": "python",
   "pygments_lexer": "ipython3",
   "version": "3.8.3"
  }
 },
 "nbformat": 4,
 "nbformat_minor": 4
}
