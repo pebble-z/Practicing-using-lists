{
 "cells": [
  {
   "cell_type": "markdown",
   "metadata": {},
   "source": [
    "# 函数"
   ]
  },
  {
   "cell_type": "markdown",
   "metadata": {},
   "source": [
    "函数是带名字的代码块，用于完成具体的工作，要执行函数定义的特定任务，可调用该函数。若程序需要多次执行同一任务时，无须反复编写完成该任务的代码，只需调用该任务的函数即可。<br>主要知道如何将函数存储在称为模块的独立文件中，让主程序文件的组织更为有序"
   ]
  },
  {
   "cell_type": "markdown",
   "metadata": {},
   "source": [
    "## 1.定义函数 "
   ]
  },
  {
   "cell_type": "code",
   "execution_count": 2,
   "metadata": {},
   "outputs": [
    {
     "name": "stdout",
     "output_type": "stream",
     "text": [
      "Hello!\n"
     ]
    }
   ],
   "source": [
    "#定义函数，向python指出了函数名，还可能在（）内指出函数为完成任务需要什么样的信息\n",
    "def greet_user():\n",
    "    \"\"\"显示简单的问候语\"\"\"  #文档字符串的注释，描述了函数是做什么的\n",
    "    print(\"Hello!\")  #该函数内只有一条内容\n",
    "    \n",
    "greet_user() #调用该函数，"
   ]
  },
  {
   "cell_type": "markdown",
   "metadata": {},
   "source": [
    "### 1.1.向函数传递信息"
   ]
  },
  {
   "cell_type": "code",
   "execution_count": 3,
   "metadata": {},
   "outputs": [
    {
     "name": "stdout",
     "output_type": "stream",
     "text": [
      "Hello ,Jessw!\n"
     ]
    }
   ],
   "source": [
    "def greet_user(username):\n",
    "    \"\"\"显示简单的问候\"\"\"\n",
    "    print(f\"Hello ,{username.title()}!\")\n",
    "    \n",
    "greet_user('jessw')"
   ]
  },
  {
   "cell_type": "markdown",
   "metadata": {},
   "source": [
    "### 1.2.实参和形参"
   ]
  },
  {
   "cell_type": "markdown",
   "metadata": {},
   "source": [
    "在函数greet_user的定义中，变量username是一个形参（parameter），即函数完成工作所需的信息<br>在代码greet_user('jessw')中，值'jessw'是一个实参（argument），即函数调用时传递给函数的信息。<br>调用函数时，将要让函数使用的信息放在（）内。<br>例如：在greet_user('jessw')中，将实参‘jessw’传给了函数greet_user()，这个值赋给了形参username。"
   ]
  },
  {
   "cell_type": "markdown",
   "metadata": {},
   "source": [
    "## 练习"
   ]
  },
  {
   "cell_type": "markdown",
   "metadata": {},
   "source": [
    "1"
   ]
  },
  {
   "cell_type": "code",
   "execution_count": 4,
   "metadata": {},
   "outputs": [
    {
     "name": "stdout",
     "output_type": "stream",
     "text": [
      "In this chapter, you will learn the knowledges of function.\n"
     ]
    }
   ],
   "source": [
    "def display_message():\n",
    "    \"\"\"本章学的是什么\"\"\"\n",
    "    print(\"In this chapter, you will learn the knowledges of function.\")\n",
    "    pass\n",
    "\n",
    "display_message()"
   ]
  },
  {
   "cell_type": "code",
   "execution_count": 8,
   "metadata": {},
   "outputs": [
    {
     "name": "stdout",
     "output_type": "stream",
     "text": [
      "I'm learning to store code in functions.\n"
     ]
    }
   ],
   "source": [
    "def display_message():\n",
    "    \"\"\"显示一条消息，指出你在本章学的是什么。\"\"\"\n",
    "    msg = \"I'm learning to store code in functions.\"\n",
    "    print(msg)\n",
    "display_message()"
   ]
  },
  {
   "cell_type": "markdown",
   "metadata": {},
   "source": [
    "2"
   ]
  },
  {
   "cell_type": "code",
   "execution_count": 7,
   "metadata": {},
   "outputs": [
    {
     "name": "stdout",
     "output_type": "stream",
     "text": [
      "One of my favorite books is Jane.\n"
     ]
    }
   ],
   "source": [
    "def favorite_book(title):\n",
    "    \"\"\"喜欢的书是什么\"\"\"\n",
    "    print(f\"One of my favorite books is {title.title()}.\")\n",
    "    pass\n",
    "\n",
    "favorite_book('jane')"
   ]
  },
  {
   "cell_type": "code",
   "execution_count": 9,
   "metadata": {},
   "outputs": [
    {
     "name": "stdout",
     "output_type": "stream",
     "text": [
      "The Abstract Wild is one of my favorite books.\n"
     ]
    }
   ],
   "source": [
    "def favorite_book(title):\n",
    "    \"\"\"显示一条消息，指出喜欢的一本图书。\"\"\"\n",
    "    print(f\"{title} is one of my favorite books.\")\n",
    "favorite_book('The Abstract Wild')"
   ]
  },
  {
   "cell_type": "markdown",
   "metadata": {},
   "source": [
    "## 2.传递实参"
   ]
  },
  {
   "cell_type": "markdown",
   "metadata": {},
   "source": [
    "函数定义中可能包含多个形参，因此函数调用中也可能包含多个实参。<br>向函数传递实参的方式很多:可使用位置实参，这要求实参的顺序与形参的顺序相同;<br>也可使用关键字实参，其中每个实参都由变量名和值组成;<br>还可使用列表和字典。"
   ]
  },
  {
   "cell_type": "markdown",
   "metadata": {},
   "source": [
    "### 2.1.位置实参"
   ]
  },
  {
   "cell_type": "markdown",
   "metadata": {},
   "source": [
    "调用函数时，Python 必须将丽数调用中的每个实参都关联到函数定义中的一个形参。为此，最简单的关联方式是基于实参的顺序。这种关联方式称为位置实参。"
   ]
  },
  {
   "cell_type": "code",
   "execution_count": 11,
   "metadata": {},
   "outputs": [
    {
     "name": "stdout",
     "output_type": "stream",
     "text": [
      "\n",
      "I have a hamster.\n",
      "My hamster's name is Harry.\n"
     ]
    }
   ],
   "source": [
    "#这个函数定义表明，它需要一种动物类型和一个名字，调用该函数时，需要按顺序提供一种动物类型和一个名字\n",
    "def describe_pet(animal_type,pet_name):\n",
    "    \"\"\"显示宠物的信息\"\"\"\n",
    "    print(f\"\\nI have a {animal_type}.\")\n",
    "    print(f\"My {animal_type}'s name is {pet_name.title()}.\")\n",
    "    pass\n",
    "\n",
    "describe_pet('hamster','harry')"
   ]
  },
  {
   "cell_type": "markdown",
   "metadata": {},
   "source": [
    "#### 1）多次调用函数"
   ]
  },
  {
   "cell_type": "code",
   "execution_count": 12,
   "metadata": {},
   "outputs": [
    {
     "name": "stdout",
     "output_type": "stream",
     "text": [
      "\n",
      "I have a hamster.\n",
      "My hamster's name is Harry.\n",
      "\n",
      "I have a dog.\n",
      "My dog's name is Mihua.\n"
     ]
    }
   ],
   "source": [
    "#这个函数定义表明，它需要一种动物类型和一个名字，调用该函数时，需要按顺序提供一种动物类型和一个名字\n",
    "def describe_pet(animal_type,pet_name):\n",
    "    \"\"\"显示宠物的信息\"\"\"\n",
    "    print(f\"\\nI have a {animal_type}.\")\n",
    "    print(f\"My {animal_type}'s name is {pet_name.title()}.\")\n",
    "    pass\n",
    "\n",
    "describe_pet('hamster','harry')\n",
    "describe_pet('dog','mihua')"
   ]
  },
  {
   "cell_type": "markdown",
   "metadata": {},
   "source": [
    "多次调用函数是种效率极高的工作方式。 只需在函数中编写一次描述宠物的代码，然后每当需要描述新宠物时，都调用该函数并向它提供新宠物的信息。即便描述宠物的代码增加到了10行，依然只需使用一行调用函数的代码，就可描述一个新宠物。\n",
    "\n",
    "<br>在函数中，可根据需要使用任意数量的位置实参，Python将按顺序将函数调用中的实参关联到函数定义中相应的形参。"
   ]
  },
  {
   "cell_type": "markdown",
   "metadata": {},
   "source": [
    "#### 2）位置实参的顺序很重要"
   ]
  },
  {
   "cell_type": "code",
   "execution_count": 13,
   "metadata": {},
   "outputs": [
    {
     "name": "stdout",
     "output_type": "stream",
     "text": [
      "\n",
      "I have a harry.\n",
      "My harry's name is Hamster.\n"
     ]
    }
   ],
   "source": [
    "#这个函数定义表明，它需要一种动物类型和一个名字，调用该函数时，需要按顺序提供一种动物类型和一个名字\n",
    "def describe_pet(animal_type,pet_name):\n",
    "    \"\"\"显示宠物的信息\"\"\"\n",
    "    print(f\"\\nI have a {animal_type}.\")\n",
    "    print(f\"My {animal_type}'s name is {pet_name.title()}.\")\n",
    "    pass\n",
    "\n",
    "describe_pet('harry','hamster')"
   ]
  },
  {
   "cell_type": "markdown",
   "metadata": {},
   "source": [
    "形参的位置一定要放对"
   ]
  },
  {
   "cell_type": "markdown",
   "metadata": {},
   "source": [
    "### 2.2.关键字实参"
   ]
  },
  {
   "cell_type": "markdown",
   "metadata": {},
   "source": [
    "关键字实参是传递给函数的名称值对。<br>因为直接在实参中将名称和值关联起来,所以向函数传递实参时不会混淆(不会得到名为Hamster的harry这样的结果)。<br>关键字实参让你无须考虑函数调用中的实参顺序，还清楚地指出了函数调用中各个值的用途。"
   ]
  },
  {
   "cell_type": "code",
   "execution_count": 15,
   "metadata": {},
   "outputs": [
    {
     "name": "stdout",
     "output_type": "stream",
     "text": [
      "\n",
      "I have a hamster.\n",
      "My hamster's name is Harry.\n"
     ]
    }
   ],
   "source": [
    "#这个函数定义表明，它需要一种动物类型和一个名字，调用该函数时，需要按顺序提供一种动物类型和一个名字\n",
    "def describe_pet(animal_type,pet_name):\n",
    "    \"\"\"显示宠物的信息\"\"\"\n",
    "    print(f\"\\nI have a {animal_type}.\")\n",
    "    print(f\"My {animal_type}'s name is {pet_name.title()}.\")\n",
    "    pass\n",
    "\n",
    "describe_pet(animal_type = 'hamster', pet_name = 'harry')"
   ]
  },
  {
   "cell_type": "markdown",
   "metadata": {},
   "source": [
    "使用关键字实参时，务必准确指定函数定义中的形参名"
   ]
  },
  {
   "cell_type": "markdown",
   "metadata": {},
   "source": [
    "### 2.3.默认值"
   ]
  },
  {
   "cell_type": "markdown",
   "metadata": {},
   "source": [
    "编写函数时，可给每个形参指定默认值。<br>在调用函数中给形参提供了实参时，Python 将使用指定的实参值;否则，将使用形参的默认值。<br>因此，给形参指定默认值后，可在函数调用中省略相应的实参。<br>使用默认值可简化函数调用，还可清楚地指出函数的典型用法。"
   ]
  },
  {
   "cell_type": "markdown",
   "metadata": {},
   "source": [
    "比如：如果你发现调用describe_pets（）时，描述的大多是小狗，就可以将形参animal_typed的默认值设置为'dog'。这样，调用describe_pet()来描述小狗时，就可不提供这种信息"
   ]
  },
  {
   "cell_type": "code",
   "execution_count": 1,
   "metadata": {},
   "outputs": [
    {
     "name": "stdout",
     "output_type": "stream",
     "text": [
      "\n",
      "I have a dog.\n",
      "My dog's name is Whille.\n"
     ]
    }
   ],
   "source": [
    "def describe_pet(pet_name,animal_type = 'dog'):\n",
    "    \"\"\"显示宠物的信息\"\"\"\n",
    "    print(f\"\\nI have a {animal_type}.\")\n",
    "    print(f\"My {animal_type}'s name is {pet_name.title()}.\")\n",
    "    pass\n",
    "describe_pet(pet_name = 'whille')"
   ]
  },
  {
   "cell_type": "markdown",
   "metadata": {},
   "source": [
    "该函数将形参调到了开头，指定了默认值，就无须再通过实参来指定动物类型，所以在后面调用该函数时，只有一个实参pet_name,"
   ]
  },
  {
   "cell_type": "markdown",
   "metadata": {},
   "source": [
    "注意：使用默认值时，必须先在形参列表中列出没有默认值的形参，再列出有默认值的实参。"
   ]
  },
  {
   "cell_type": "markdown",
   "metadata": {},
   "source": [
    "### 2.4.等效的函数调用"
   ]
  },
  {
   "cell_type": "markdown",
   "metadata": {},
   "source": [
    "只要调用函数能生成期望的输出都可，不拘泥于某一种函数调用"
   ]
  },
  {
   "cell_type": "code",
   "execution_count": 4,
   "metadata": {},
   "outputs": [],
   "source": [
    "def describe_pet(pet_name,animal_type = 'dog'):\n",
    "    pass"
   ]
  },
  {
   "cell_type": "code",
   "execution_count": 6,
   "metadata": {},
   "outputs": [],
   "source": [
    "#一条名为whillie的小狗\n",
    "describe_pet('whillie')\n",
    "describe_pet(pet_name = 'whillie')\n",
    "\n",
    "#一只名为harry的仓鼠\n",
    "describe_pet('harry','hamster')\n",
    "describe_pet(pet_name = 'harry',animal_type = 'hamster')\n",
    "describe_pet(animal_type = 'hamaster',pet_name = 'harry')"
   ]
  },
  {
   "cell_type": "markdown",
   "metadata": {},
   "source": [
    "### 2.5.避免实参错误"
   ]
  },
  {
   "cell_type": "markdown",
   "metadata": {},
   "source": [
    "在函数定义处有定义形参，函数调用时必须加上实参。"
   ]
  },
  {
   "cell_type": "markdown",
   "metadata": {},
   "source": [
    "## 练习"
   ]
  },
  {
   "cell_type": "markdown",
   "metadata": {},
   "source": [
    "3"
   ]
  },
  {
   "cell_type": "code",
   "execution_count": 18,
   "metadata": {},
   "outputs": [],
   "source": [
    "def make_shirt(size,logo):\n",
    "    \"\"\"一件什么样的T-shirt\"\"\"\n",
    "    print(f\"The T-shirt is a {size} shirt,and it is from {logo}.\")\n",
    "    pass"
   ]
  },
  {
   "cell_type": "code",
   "execution_count": 19,
   "metadata": {},
   "outputs": [
    {
     "name": "stdout",
     "output_type": "stream",
     "text": [
      "The T-shirt is a L shirt,and it is from Nike.\n"
     ]
    }
   ],
   "source": [
    "#关键字实参\n",
    "make_shirt(size = 'L',logo = 'Nike')"
   ]
  },
  {
   "cell_type": "code",
   "execution_count": 20,
   "metadata": {},
   "outputs": [
    {
     "name": "stdout",
     "output_type": "stream",
     "text": [
      "The T-shirt is a L shirt,and it is from Nike.\n"
     ]
    }
   ],
   "source": [
    "#位置实参\n",
    "make_shirt('L','Nike')"
   ]
  },
  {
   "cell_type": "code",
   "execution_count": 21,
   "metadata": {},
   "outputs": [
    {
     "name": "stdout",
     "output_type": "stream",
     "text": [
      "\n",
      "I'm going to make a large t-shirt.\n",
      "It will say, \"I love Python!\"\n",
      "\n",
      "I'm going to make a medium t-shirt.\n",
      "It will say, \"Readability counts.\"\n"
     ]
    }
   ],
   "source": [
    "def make_shirt(size, message):\n",
    "    \"\"\"概述要制作的 T 恤什么样。\"\"\"\n",
    "    print(f\"\\nI'm going to make a {size} t-shirt.\")\n",
    "    print(f'It will say, \"{message}\"')\n",
    "    pass\n",
    "\n",
    "make_shirt('large', 'I love Python!')\n",
    "make_shirt(message=\"Readability counts.\", size='medium')"
   ]
  },
  {
   "cell_type": "markdown",
   "metadata": {},
   "source": [
    "4"
   ]
  },
  {
   "cell_type": "code",
   "execution_count": 26,
   "metadata": {},
   "outputs": [],
   "source": [
    "def make_shirt(size,logo = 'I love python'):\n",
    "    \"\"\"制作一条什么样的T-shirt\"\"\"\n",
    "    print(f\"You can get the {size} T-shirt with {logo}.\")\n",
    "    pass"
   ]
  },
  {
   "cell_type": "code",
   "execution_count": 28,
   "metadata": {},
   "outputs": [
    {
     "name": "stdout",
     "output_type": "stream",
     "text": [
      "You can get the L T-shirt with I love python.\n"
     ]
    }
   ],
   "source": [
    "#得到一件默认字样的大号T-shirt\n",
    "make_shirt('L')"
   ]
  },
  {
   "cell_type": "code",
   "execution_count": 29,
   "metadata": {},
   "outputs": [
    {
     "name": "stdout",
     "output_type": "stream",
     "text": [
      "You can get the M T-shirt with I love python.\n"
     ]
    }
   ],
   "source": [
    "#得到一件默认字样的中号T-shirt\n",
    "make_shirt('M')"
   ]
  },
  {
   "cell_type": "code",
   "execution_count": 30,
   "metadata": {},
   "outputs": [
    {
     "name": "stdout",
     "output_type": "stream",
     "text": [
      "You can get the L T-shirt with Donnot give up!.\n"
     ]
    }
   ],
   "source": [
    "#得到一件默认字样的T-shirt\n",
    "make_shirt(size = 'L',logo = 'Donnot give up!')"
   ]
  },
  {
   "cell_type": "code",
   "execution_count": 31,
   "metadata": {},
   "outputs": [
    {
     "name": "stdout",
     "output_type": "stream",
     "text": [
      "\n",
      "I'm going to make a large t-shirt.\n",
      "It will say, \"I love Python!\"\n",
      "\n",
      "I'm going to make a medium t-shirt.\n",
      "It will say, \"I love Python!\"\n",
      "\n",
      "I'm going to make a small t-shirt.\n",
      "It will say, \"Programmers are loopy.\"\n"
     ]
    }
   ],
   "source": [
    "def make_shirt(size='large', message='I love Python!'):\n",
    "    \"\"\"概述要制作的 T 恤什么样。\"\"\"\n",
    "    print(f\"\\nI'm going to make a {size} t-shirt.\")\n",
    "    print(f'It will say, \"{message}\"')\n",
    "    pass\n",
    "\n",
    "make_shirt()\n",
    "make_shirt(size='medium')\n",
    "make_shirt('small', 'Programmers are loopy.')"
   ]
  },
  {
   "cell_type": "markdown",
   "metadata": {},
   "source": [
    "5"
   ]
  },
  {
   "cell_type": "code",
   "execution_count": 33,
   "metadata": {},
   "outputs": [],
   "source": [
    "def describe_city(city_name,county = 'China'):\n",
    "    \"\"\"城市所属什么国家\"\"\"\n",
    "    print(f\"The {city_name.title()} belongs to {county}.\")\n",
    "    pass"
   ]
  },
  {
   "cell_type": "code",
   "execution_count": 36,
   "metadata": {
    "scrolled": true
   },
   "outputs": [
    {
     "name": "stdout",
     "output_type": "stream",
     "text": [
      "The Beijing belongs to China.\n",
      "The Shanghai belongs to China.\n",
      "The Sydney belongs to Australia.\n"
     ]
    }
   ],
   "source": [
    "describe_city('beijing')\n",
    "describe_city('shanghai')\n",
    "describe_city('sydney',county = 'Australia')"
   ]
  },
  {
   "cell_type": "code",
   "execution_count": 37,
   "metadata": {},
   "outputs": [
    {
     "name": "stdout",
     "output_type": "stream",
     "text": [
      "Santiago is in Chile.\n",
      "Reykjavik is in Iceland.\n",
      "Punta Arenas is in Chile.\n"
     ]
    }
   ],
   "source": [
    "def describe_city(city, country='chile'):\n",
    "    \"\"\"描述城市。\"\"\"\n",
    "    msg = f\"{city.title()} is in {country.title()}.\"\n",
    "    print(msg)\n",
    "    pass\n",
    "\n",
    "describe_city('santiago')\n",
    "describe_city('reykjavik', 'iceland')\n",
    "describe_city('punta arenas')"
   ]
  },
  {
   "cell_type": "markdown",
   "metadata": {},
   "source": [
    "## 3.返回值"
   ]
  },
  {
   "cell_type": "markdown",
   "metadata": {},
   "source": [
    "函数并非总是显示输出，他还可以处理一些数据，并返回一个或一组值，函数返回的值称为返回值。在函数中，可使用return语句将值返回到调用函数的代码行"
   ]
  },
  {
   "cell_type": "markdown",
   "metadata": {},
   "source": [
    "### 3.1.返回简单值"
   ]
  },
  {
   "cell_type": "code",
   "execution_count": 39,
   "metadata": {},
   "outputs": [
    {
     "name": "stdout",
     "output_type": "stream",
     "text": [
      "Jimi Hendrix\n"
     ]
    }
   ],
   "source": [
    "def get_formatted_name(first_name,last_name):\n",
    "    \"\"\"返回整洁的姓名\"\"\"\n",
    "    full_name = f\"{first_name} {last_name}\"\n",
    "    return full_name.title()  \n",
    "\n",
    "musician = get_formatted_name('jimi','hendrix') \n",
    "print(musician)"
   ]
  },
  {
   "cell_type": "markdown",
   "metadata": {},
   "source": [
    "### 3.2.让实参变成可选的"
   ]
  },
  {
   "cell_type": "markdown",
   "metadata": {},
   "source": [
    "有时候需要把实参变成可选的，这样使用函数的人就能只在必要时提供额外的信息。可使用默认值来让实参变成可选的"
   ]
  },
  {
   "cell_type": "code",
   "execution_count": 1,
   "metadata": {},
   "outputs": [
    {
     "name": "stdout",
     "output_type": "stream",
     "text": [
      "Jimi Lee Hendrix\n"
     ]
    }
   ],
   "source": [
    "def get_formatted_name(first_name,middle_name,last_name):\n",
    "    \"\"\"返回整洁的姓名\"\"\"\n",
    "    full_name = f\"{first_name} {middle_name} {last_name}\"\n",
    "    return full_name.title()  \n",
    "\n",
    "musician = get_formatted_name('jimi','lee','hendrix') \n",
    "print(musician)"
   ]
  },
  {
   "cell_type": "markdown",
   "metadata": {},
   "source": [
    "有的人没有中间名，故三个形参可能不能都有，若在调用函数时，只提供两个名字程序将不能正常运行。<br>为了让中间名变成可选的，可给形参middle_name一个空的默认值，并在用户没有提供中间名时不使用这个形参。<br>为让get_formatted_name()在没有提供中间名时仍然可行，可将形参middle_name的默认值设置为空字符串，并将其移到形参列表的末尾"
   ]
  },
  {
   "cell_type": "code",
   "execution_count": 7,
   "metadata": {},
   "outputs": [
    {
     "name": "stdout",
     "output_type": "stream",
     "text": [
      "Jimi Hendrix\n",
      "Jimi Hendrix Lee\n"
     ]
    }
   ],
   "source": [
    "def get_formatted_name(first_name,last_name,middle_name = ''): #将可选的形参放最后，并给他设置一个空字符串为了后面的条件选择\n",
    "    \"\"\"返回整洁的姓名\"\"\"\n",
    "    if middle_name:  #检查是否提供了中间名，Python将非空字符解读为True，\n",
    "        full_name = f\"{first_name} {middle_name} {last_name}\"\n",
    "    else:  #若没有提供中间名，middle_name将为空字符串，导致if测试未通过，执行else代码\n",
    "        full_name = f\"{first_name} {last_name}\"\n",
    "    return full_name.title()\n",
    "\n",
    "musician = get_formatted_name('jimi','hendrix') \n",
    "print(musician)\n",
    "\n",
    "musician = get_formatted_name('jimi','lee','hendrix') \n",
    "print(musician)"
   ]
  },
  {
   "cell_type": "markdown",
   "metadata": {},
   "source": [
    "### 3.3.返回字典"
   ]
  },
  {
   "cell_type": "code",
   "execution_count": 9,
   "metadata": {},
   "outputs": [
    {
     "name": "stdout",
     "output_type": "stream",
     "text": [
      "{'first': 'jimi', 'last': 'hendrix'}\n"
     ]
    }
   ],
   "source": [
    "def build_person(first_name,last_name):\n",
    "    \"\"\"返回一个字典，其中包含有关一个人的信息。\"\"\"\n",
    "    person = {'first':first_name, 'last':last_name} #函数build_person接收名和姓，并将这些值放到字典中，\n",
    "    return person\n",
    "\n",
    "musician = build_person('jimi', 'hendrix')\n",
    "print(musician)  #返回整个人的字典"
   ]
  },
  {
   "cell_type": "markdown",
   "metadata": {},
   "source": [
    "也可在其中加入可选值 <br><font color=#008000> 可使用该方法将函数其他信息进行修改 </font>  "
   ]
  },
  {
   "cell_type": "code",
   "execution_count": 10,
   "metadata": {},
   "outputs": [
    {
     "name": "stdout",
     "output_type": "stream",
     "text": [
      "{'first': 'jimi', 'last': 'hendrix', 'age': 22}\n"
     ]
    }
   ],
   "source": [
    "def build_person(first_name,last_name,age = None):\n",
    "    \"\"\"返回一个字典，其中包含有关一个人的信息。\"\"\"\n",
    "    person = {'first':first_name, 'last':last_name} #函数build_person接收名和姓，并将这些值放到字典中，\n",
    "    if age:\n",
    "        person['age'] = age\n",
    "    return person\n",
    "\n",
    "musician = build_person('jimi', 'hendrix',age = 22)\n",
    "print(musician)  #返回整个人的字典"
   ]
  },
  {
   "cell_type": "markdown",
   "metadata": {},
   "source": [
    "### 3.4.结合使用函数和while循环"
   ]
  },
  {
   "cell_type": "code",
   "execution_count": 12,
   "metadata": {},
   "outputs": [
    {
     "name": "stdout",
     "output_type": "stream",
     "text": [
      "\n",
      "Please tell me your name: \n",
      "(Enter 'q' at any time to quit)\n",
      "First_name:Peng\n",
      "Lsat_name:zhen\n",
      "\n",
      "Hello,Peng Zhen\n",
      "\n",
      "Please tell me your name: \n",
      "(Enter 'q' at any time to quit)\n",
      "First_name:Yu\n",
      "Lsat_name:q\n"
     ]
    }
   ],
   "source": [
    "def get_formatted_name(first_name,last_name):\n",
    "    \"\"\"返回整洁的姓名\"\"\"\n",
    "    full_name = f\"{first_name} {last_name}\"\n",
    "    return full_name.title()  \n",
    "\n",
    "while True:\n",
    "    print(\"\\nPlease tell me your name: \")\n",
    "    print(\"(Enter 'q' at any time to quit)\")\n",
    "    \n",
    "    f_name = input(\"First_name:\")\n",
    "    if f_name == 'q':\n",
    "        break\n",
    "    \n",
    "    l_name = input(\"Lsat_name:\")\n",
    "    if l_name =='q':\n",
    "        break\n",
    "        \n",
    "    formatted_name = get_formatted_name(f_name,l_name)\n",
    "    print(f\"\\nHello,{formatted_name}\")"
   ]
  },
  {
   "cell_type": "markdown",
   "metadata": {},
   "source": [
    "## 练习"
   ]
  },
  {
   "cell_type": "markdown",
   "metadata": {},
   "source": [
    "6"
   ]
  },
  {
   "cell_type": "code",
   "execution_count": 24,
   "metadata": {},
   "outputs": [
    {
     "name": "stdout",
     "output_type": "stream",
     "text": [
      "beijing,China\n",
      "ushuaia,argentina\n",
      "longyearbyen,svalbard\n"
     ]
    }
   ],
   "source": [
    "def city_country(city,country):\n",
    "    \"\"\"返回城市名和所属国家\"\"\"\n",
    "    city_info = f\"{city},{country}\"\n",
    "    return city_info\n",
    "\n",
    "city1 = city_country('beijing','China')\n",
    "print(city1)\n",
    "city2 = city_country('ushuaia', 'argentina')\n",
    "print(city2)\n",
    "city3 = city_country('longyearbyen', 'svalbard')\n",
    "print(city3)"
   ]
  },
  {
   "cell_type": "code",
   "execution_count": 23,
   "metadata": {},
   "outputs": [
    {
     "name": "stdout",
     "output_type": "stream",
     "text": [
      "Santiago, Chile\n",
      "Ushuaia, Argentina\n",
      "Longyearbyen, Svalbard\n"
     ]
    }
   ],
   "source": [
    "def city_country(city, country):\n",
    "    \"\"\"返回一个类似于'Santiago, Chile'的字符串。\"\"\"\n",
    "    return f\"{city.title()}, {country.title()}\"\n",
    "\n",
    "city = city_country('santiago', 'chile')\n",
    "print(city)\n",
    "city = city_country('ushuaia', 'argentina')\n",
    "print(city)\n",
    "city = city_country('longyearbyen', 'svalbard')\n",
    "print(city)\n"
   ]
  },
  {
   "cell_type": "markdown",
   "metadata": {},
   "source": [
    "7"
   ]
  },
  {
   "cell_type": "code",
   "execution_count": 3,
   "metadata": {},
   "outputs": [
    {
     "name": "stdout",
     "output_type": "stream",
     "text": [
      "{'artist': 'Metallica', 'album': 'Ride The Lightning'}\n",
      "{'artist': 'Beethoven', 'album': 'Ninth Symphony'}\n",
      "{'artist': 'Willie Nelson', 'album': 'Red-Headed Stranger'}\n"
     ]
    }
   ],
   "source": [
    "def make_album(songer_name,album_name):\n",
    "    \"\"\"创建一个描述音乐专辑的字典\"\"\"\n",
    "    music_dict = {\n",
    "        'artist': songer_name.title(),\n",
    "        'album': album_name.title()   #差点忘记如何创建字典。\n",
    "    }\n",
    "    return music_dict\n",
    "\n",
    "album1 = make_album('metallica', 'ride the lightning')\n",
    "print(album1)\n",
    "album2 = make_album('beethoven', 'ninth symphony')\n",
    "print(album2)\n",
    "album3 = make_album('willie nelson', 'red-headed stranger')\n",
    "print(album3)"
   ]
  },
  {
   "cell_type": "code",
   "execution_count": 20,
   "metadata": {},
   "outputs": [
    {
     "name": "stdout",
     "output_type": "stream",
     "text": [
      "{'artist': 'Metallica', 'album': 'Ride The Lightning'}\n",
      "{'artist': 'Beethoven', 'album': 'Ninth Symphony'}\n",
      "{'artist': 'Iron Maiden', 'album': 'Piece Of Mind', 'number': 12}\n"
     ]
    }
   ],
   "source": [
    "def make_album(songer_name,album_name,number = 0):\n",
    "    \"\"\"创建一个描述音乐专辑的字典\"\"\"\n",
    "    music_dict = {\n",
    "        'artist': songer_name.title(),\n",
    "        'album': album_name.title()   #差点忘记如何创建字典。\n",
    "    }\n",
    "    if number:\n",
    "        music_dict['number']= number\n",
    "    return music_dict  #注意在这里直接if语句判断后再返回值就可以\n",
    "\n",
    "album1 = make_album('metallica', 'ride the lightning')\n",
    "print(album1)\n",
    "album2 = make_album('beethoven', 'ninth symphony')\n",
    "print(album2)\n",
    "album3 = make_album('iron maiden', 'piece of mind', number = 12)\n",
    "print(album3)"
   ]
  },
  {
   "cell_type": "code",
   "execution_count": 6,
   "metadata": {},
   "outputs": [
    {
     "name": "stdout",
     "output_type": "stream",
     "text": [
      "{'artist': 'Metallica', 'title': 'Ride The Lightning'}\n",
      "{'artist': 'Beethoven', 'title': 'Ninth Symphony'}\n",
      "{'artist': 'Willie Nelson', 'title': 'Red-Headed Stranger'}\n",
      "{'artist': 'Iron Maiden', 'title': 'Piece Of Mind', 'tracks': 8}\n"
     ]
    }
   ],
   "source": [
    "def make_album(artist, title, tracks=0):\n",
    "    \"\"\"创建一个包含专辑信息的字典。\"\"\"\n",
    "    album_dict = {\n",
    "        'artist': artist.title(),\n",
    "        'title': title.title(),\n",
    "    }\n",
    "    if tracks:\n",
    "        album_dict['tracks'] = tracks\n",
    "    return album_dict\n",
    "album = make_album('metallica', 'ride the lightning')\n",
    "print(album)\n",
    "album = make_album('beethoven', 'ninth symphony')\n",
    "print(album)\n",
    "album = make_album('willie nelson', 'red-headed stranger')\n",
    "print(album)\n",
    "album = make_album('iron maiden', 'piece of mind', tracks=8)\n",
    "print(album)\n"
   ]
  },
  {
   "cell_type": "markdown",
   "metadata": {},
   "source": [
    "8"
   ]
  },
  {
   "cell_type": "markdown",
   "metadata": {},
   "source": [
    "在上一个程序的基础上，编写一个 while 循环，让用户输入一个专辑的歌手和名称。<br>获取这些信息后，使用它们来调用函数 make_album() 并将创建的字典打印出来。在这个while循环中，务必提供退出途径。\n"
   ]
  },
  {
   "cell_type": "markdown",
   "metadata": {},
   "source": [
    "<font color=#00ffff>在该练习中，未认真做，第一不想做，第二有点麻烦？</font>"
   ]
  },
  {
   "cell_type": "code",
   "execution_count": 21,
   "metadata": {},
   "outputs": [
    {
     "name": "stdout",
     "output_type": "stream",
     "text": [
      "Enter 'quit' at any time to stop.\n",
      "\n",
      "What album are you thinking of? hele\n",
      "Who's the artist? zhou\n",
      "{'artist': 'Zhou', 'title': 'Hele'}\n",
      "\n",
      "What album are you thinking of? quit\n",
      "\n",
      "Thanks for responding!\n"
     ]
    }
   ],
   "source": [
    "def make_album(artist, title, tracks=0):\n",
    "    \"\"\"创建一个包含专辑信息的字典。\"\"\"\n",
    "    album_dict = {\n",
    "        'artist': artist.title(),\n",
    "        'title': title.title(),\n",
    "        }\n",
    "    if tracks:\n",
    "        album_dict['tracks'] = tracks\n",
    "    return album_dict\n",
    "# 生成提示语。\n",
    "title_prompt = \"\\nWhat album are you thinking of? \"\n",
    "artist_prompt = \"Who's the artist? \"\n",
    "# 让用户知道如何退出。\n",
    "print(\"Enter 'quit' at any time to stop.\")\n",
    "while True:\n",
    "    title = input(title_prompt)\n",
    "    if title == 'quit':\n",
    "        break\n",
    "\n",
    "    artist = input(artist_prompt)\n",
    "    if artist == 'quit':\n",
    "        break\n",
    "    album = make_album(artist, title)\n",
    "    print(album)\n",
    "print(\"\\nThanks for responding!\")"
   ]
  },
  {
   "cell_type": "markdown",
   "metadata": {},
   "source": [
    "## 4.传递列表"
   ]
  },
  {
   "cell_type": "code",
   "execution_count": 22,
   "metadata": {},
   "outputs": [
    {
     "name": "stdout",
     "output_type": "stream",
     "text": [
      "Hello, Hannah!\n",
      "Hello, Ty!\n",
      "Hello, Margot!\n"
     ]
    }
   ],
   "source": [
    "def greet_user(names):\n",
    "    \"\"\"向列表中的每位用户发出简单问候\"\"\"\n",
    "    for name in names:\n",
    "        msg = f\"Hello, {name.title()}!\"\n",
    "        print(msg)\n",
    "        pass\n",
    "    pass\n",
    "\n",
    "usernames = ['hannah','ty','margot']# 将列表传递给函数后，函数就能直接访问其内容\n",
    "greet_user(usernames)"
   ]
  },
  {
   "cell_type": "markdown",
   "metadata": {},
   "source": [
    "### 4.1.在函数中修改列表"
   ]
  },
  {
   "cell_type": "markdown",
   "metadata": {},
   "source": [
    "将列表传递给函数后，函数就可对其进行修改，在函数中对这个列表所做的修改都是永久性的。"
   ]
  },
  {
   "cell_type": "code",
   "execution_count": 2,
   "metadata": {},
   "outputs": [
    {
     "name": "stdout",
     "output_type": "stream",
     "text": [
      "Printing models:dodecahedron\n",
      "Printing models:robot pendant\n",
      "Printing models:phone case\n",
      "\n",
      "The following models have been printed:\n",
      "dodecahedron\n",
      "robot pendant\n",
      "phone case\n"
     ]
    }
   ],
   "source": [
    "#首先创建一个列表，其中包含一些要打印的设计\n",
    "unprinted_designs = ['phone case','robot pendant','dodecahedron']\n",
    "completed_models = []\n",
    "#模拟打印每个设计，直到没有未打印的设计为止\n",
    "#打印每个设计后，都将其移到列表completed_models中。\n",
    "while unprinted_designs:\n",
    "    current_design = unprinted_designs.pop()\n",
    "    print(f\"Printing models:{current_design}\")\n",
    "    completed_models.append(current_design)\n",
    "\n",
    "#显示打印好的所有模型\n",
    "print(\"\\nThe following models have been printed:\")\n",
    "for completed_model in completed_models:\n",
    "    print(completed_model)"
   ]
  },
  {
   "cell_type": "code",
   "execution_count": 4,
   "metadata": {},
   "outputs": [],
   "source": [
    "def print_models(unprinted_designs,completed_models):\n",
    "    \"\"\"\n",
    "    模拟打印每个设计，直到没有未打印的设计为止\n",
    "    打印每个设计后，都将其移到列表completed_models中。 \n",
    "    \"\"\"\n",
    "    while unprinted_designs:\n",
    "        current_design = unprinted_designs.pop()\n",
    "        print(f\"Printing models:{current_design}\")\n",
    "        completed_models.append(current_design)\n",
    "\n",
    "def show_completed_models(completed_models):\n",
    "    print(\"\\nThe following models have been printed:\")\n",
    "    for completed_model in completed_models:\n",
    "        print(completed_model)"
   ]
  },
  {
   "cell_type": "code",
   "execution_count": 5,
   "metadata": {},
   "outputs": [
    {
     "name": "stdout",
     "output_type": "stream",
     "text": [
      "Printing models:dodecahedron\n",
      "Printing models:robot pendant\n",
      "Printing models:phone case\n",
      "\n",
      "The following models have been printed:\n",
      "dodecahedron\n",
      "robot pendant\n",
      "phone case\n"
     ]
    }
   ],
   "source": [
    "unprinted_designs = ['phone case','robot pendant','dodecahedron']\n",
    "completed_models = []\n",
    "\n",
    "print_models(unprinted_designs,completed_models)\n",
    "show_completed_models(completed_models)"
   ]
  },
  {
   "cell_type": "markdown",
   "metadata": {},
   "source": [
    "### 4.2.禁止函数修改列表"
   ]
  },
  {
   "cell_type": "code",
   "execution_count": 7,
   "metadata": {},
   "outputs": [],
   "source": [
    "print_models(unprinted_designs[:],completed_models)"
   ]
  },
  {
   "cell_type": "markdown",
   "metadata": {},
   "source": [
    "## 练习"
   ]
  },
  {
   "cell_type": "markdown",
   "metadata": {},
   "source": [
    "9"
   ]
  },
  {
   "cell_type": "code",
   "execution_count": 12,
   "metadata": {},
   "outputs": [
    {
     "name": "stdout",
     "output_type": "stream",
     "text": [
      "I like watching movies\n",
      "Huiye big little sister\n",
      "Guimiezhiren\n"
     ]
    }
   ],
   "source": [
    "def show_messages(notes):\n",
    "    \"\"\"打印列表中的所有消息\"\"\"\n",
    "    for note in notes:\n",
    "        print(note)\n",
    "        \n",
    "notes = [\"I like watching movies\",\"Huiye big little sister\",\"Guimiezhiren\"]\n",
    "show_messages(notes)"
   ]
  },
  {
   "cell_type": "code",
   "execution_count": 13,
   "metadata": {},
   "outputs": [
    {
     "name": "stdout",
     "output_type": "stream",
     "text": [
      "hello there\n",
      "how are u?\n",
      ":)\n"
     ]
    }
   ],
   "source": [
    "def show_messages(messages):\n",
    "    \"\"\"打印列表中的所有消息\"\"\"\n",
    "    for message in messages:\n",
    "        print(message)\n",
    "messages = [\"hello there\", \"how are u?\", \":)\"]\n",
    "show_messages(messages)\n"
   ]
  },
  {
   "cell_type": "markdown",
   "metadata": {},
   "source": [
    "10第一个自己写的代码有点没看懂错在哪（好像是之前在while下又用了for）"
   ]
  },
  {
   "cell_type": "code",
   "execution_count": 32,
   "metadata": {},
   "outputs": [
    {
     "name": "stdout",
     "output_type": "stream",
     "text": [
      "I like watching movies\n",
      "Huiye big little sister\n",
      "Guimiezhiren\n",
      "\n",
      "Guimiezhiren\n",
      "\n",
      "Huiye big little sister\n",
      "\n",
      "I like watching movies\n",
      "\n",
      "[]\n",
      "\n",
      "['Guimiezhiren', 'Huiye big little sister', 'I like watching movies']\n"
     ]
    }
   ],
   "source": [
    "def show_messages(notes):\n",
    "    \"\"\"打印列表中的所有消息\"\"\"\n",
    "    for note in notes:\n",
    "        print(note)\n",
    "\n",
    "def send_messages(notes,sent_messages):\n",
    "    \"\"\"打印每条消息，再将其移到列表 sent_messages 中。\"\"\"\n",
    "    while notes:\n",
    "        current_note = notes.pop()\n",
    "        sent_messages.append(current_note)\n",
    "        \n",
    "        print(f\"\\n{current_note}\")\n",
    "    \n",
    "notes = [\"I like watching movies\",\"Huiye big little sister\",\"Guimiezhiren\"]\n",
    "show_messages(notes)\n",
    "\n",
    "sent_messages = []\n",
    "send_messages(notes,sent_messages)\n",
    "print(f\"\\n{notes}\")\n",
    "print(f\"\\n{sent_messages}\")"
   ]
  },
  {
   "cell_type": "code",
   "execution_count": 23,
   "metadata": {},
   "outputs": [
    {
     "name": "stdout",
     "output_type": "stream",
     "text": [
      "Showing all messages:\n",
      "hello there\n",
      "how are u?\n",
      ":)\n",
      "\n",
      "Sending all messages:\n",
      ":)\n",
      "how are u?\n",
      "hello there\n",
      "\n",
      "Final lists:\n",
      "[]\n",
      "[':)', 'how are u?', 'hello there']\n"
     ]
    }
   ],
   "source": [
    "def show_messages(messages):\n",
    "    \"\"\"打印列表中的所有消息。\"\"\"\n",
    "    print(\"Showing all messages:\")\n",
    "    for message in messages:\n",
    "        print(message)\n",
    "\n",
    "def send_messages(messages, sent_messages):\n",
    "    \"\"\"打印每条消息，再将其移到列表 sent_messages 中。\"\"\"\n",
    "    print(\"\\nSending all messages:\")\n",
    "    while messages:\n",
    "        current_message = messages.pop()\n",
    "        print(current_message)\n",
    "        sent_messages.append(current_message)\n",
    "\n",
    "messages = [\"hello there\", \"how are u?\", \":)\"]\n",
    "show_messages(messages)\n",
    "sent_messages = []\n",
    "send_messages(messages, sent_messages)\n",
    "print(\"\\nFinal lists:\")\n",
    "print(messages)\n",
    "print(sent_messages)"
   ]
  },
  {
   "cell_type": "markdown",
   "metadata": {},
   "source": [
    "11(也是直接复制的答案）"
   ]
  },
  {
   "cell_type": "code",
   "execution_count": 29,
   "metadata": {},
   "outputs": [
    {
     "name": "stdout",
     "output_type": "stream",
     "text": [
      "Showing all messages:\n",
      "hello there\n",
      "how are u?\n",
      ":)\n",
      "\n",
      "Sending all messages:\n",
      ":)\n",
      "how are u?\n",
      "hello there\n",
      "\n",
      "Final lists:\n",
      "['hello there', 'how are u?', ':)']\n",
      "[':)', 'how are u?', 'hello there']\n"
     ]
    }
   ],
   "source": [
    "def show_messages(messages):\n",
    "    \"\"\"打印列表中的所有消息。\"\"\"\n",
    "    print(\"Showing all messages:\")\n",
    "    for message in messages:\n",
    "        print(message)\n",
    "        \n",
    "def send_messages(messages, sent_messages):\n",
    "    \"\"\"打印每条消息，再将其移到列表 sent_messages 中。\"\"\"\n",
    "    print(\"\\nSending all messages:\")\n",
    "    while messages:\n",
    "        current_message = messages.pop()\n",
    "        print(current_message)\n",
    "        sent_messages.append(current_message)\n",
    "        \n",
    "messages = [\"hello there\", \"how are u?\", \":)\"]\n",
    "show_messages(messages)\n",
    "sent_messages = []\n",
    "send_messages(messages[:], sent_messages)\n",
    "print(\"\\nFinal lists:\")\n",
    "print(messages)\n",
    "print(sent_messages)\n"
   ]
  },
  {
   "cell_type": "markdown",
   "metadata": {},
   "source": [
    "## 5.传递任意数量的实参"
   ]
  },
  {
   "cell_type": "code",
   "execution_count": 33,
   "metadata": {},
   "outputs": [
    {
     "name": "stdout",
     "output_type": "stream",
     "text": [
      "('pepperoni',)\n",
      "('mushrooms', 'green peppers', 'extra cheese')\n"
     ]
    }
   ],
   "source": [
    "def make_pizza(*toppings): #形参名&toppings中的“*”让python创建一个名为toppings的空元组，并将收到的所有值都封装到这个元组中\n",
    "    \"\"\"打印顾客点的所有配料\"\"\"\n",
    "    print(toppings)\n",
    "make_pizza('pepperoni')\n",
    "make_pizza('mushrooms','green peppers','extra cheese')"
   ]
  },
  {
   "cell_type": "code",
   "execution_count": 35,
   "metadata": {},
   "outputs": [
    {
     "name": "stdout",
     "output_type": "stream",
     "text": [
      "\n",
      "Making a pizza with the following toppings:\n",
      "-pepperoni\n",
      "\n",
      "Making a pizza with the following toppings:\n",
      "-mushrooms\n",
      "-green peppers\n",
      "-extra cheese\n"
     ]
    }
   ],
   "source": [
    "def make_pizza(*toppings):\n",
    "    \"\"\"打印顾客点的所有配料\"\"\"\n",
    "    print(\"\\nMaking a pizza with the following toppings:\")\n",
    "    for topping in toppings:\n",
    "        print(f\"-{topping}\")\n",
    "        \n",
    "make_pizza('pepperoni')\n",
    "make_pizza('mushrooms','green peppers','extra cheese')"
   ]
  },
  {
   "cell_type": "markdown",
   "metadata": {},
   "source": [
    "### 5.1.结合使用位置实参和任意数量实参"
   ]
  },
  {
   "cell_type": "markdown",
   "metadata": {},
   "source": [
    "如果要让函数接受不同类型的实参，必须在函数定义中将接纳任意数量实参的形参放在最后。Python 先匹配位置实参和关键字实参，再将余下的实参都收集到最后一个形参中。"
   ]
  },
  {
   "cell_type": "code",
   "execution_count": 37,
   "metadata": {},
   "outputs": [
    {
     "name": "stdout",
     "output_type": "stream",
     "text": [
      "\n",
      "Making a 12-inch pizza with the following toppings:\n",
      "-pepperoni\n",
      "\n",
      "Making a 16-inch pizza with the following toppings:\n",
      "-mushrooms\n",
      "-green peppers\n",
      "-extra cheese\n"
     ]
    }
   ],
   "source": [
    "def make_pizza(size,*toppings):\n",
    "    \"\"\"概述要制作的pizza\"\"\"\n",
    "    print(f\"\\nMaking a {size}-inch pizza with the following toppings:\") \n",
    "    for topping in toppings:\n",
    "        print(f\"-{topping}\")\n",
    "make_pizza(12,'pepperoni')\n",
    "make_pizza(16,'mushrooms','green peppers','extra cheese')"
   ]
  },
  {
   "cell_type": "markdown",
   "metadata": {},
   "source": [
    "*args 也表示收集任意数量的位置实参"
   ]
  },
  {
   "cell_type": "markdown",
   "metadata": {},
   "source": [
    "### 5.2.使用任意数量的关键字实参"
   ]
  },
  {
   "cell_type": "markdown",
   "metadata": {},
   "source": [
    "有时候，需要接受任意数量的实参，但预先不知道传递给函数的会是什么样的信息。在这种情况下，可将函数编写成能够接受任意数量的键值对——调用语句提供了多少就接受多少。一个这样的示例是创建用户简介:你知道将收到有关用户的信息，但不确定会是什么样的信息。"
   ]
  },
  {
   "cell_type": "code",
   "execution_count": 41,
   "metadata": {},
   "outputs": [
    {
     "name": "stdout",
     "output_type": "stream",
     "text": [
      "{'location': ' princeton', 'field': 'physics', 'first_name': 'abert', 'last_name': 'einsten'}\n"
     ]
    }
   ],
   "source": [
    " def build_profile(first, last, **user_info): #两个*，提示python创建一个名为user_info的空字典\n",
    "        \"\"\"创建一个字典，其中包含我们知道的有关用户的一切。\"\"\"\n",
    "        user_info['first_name'] = first\n",
    "        user_info['last_name'] = last\n",
    "        return user_info\n",
    "\n",
    "user_profile = build_profile( 'abert', 'einsten',\n",
    "                             location= ' princeton',\n",
    "                             field = 'physics')\n",
    "print(user_profile)"
   ]
  },
  {
   "cell_type": "markdown",
   "metadata": {},
   "source": [
    "** kwargs也表示收集任意数量的关键字实参"
   ]
  },
  {
   "cell_type": "markdown",
   "metadata": {},
   "source": [
    "## 练习"
   ]
  },
  {
   "cell_type": "markdown",
   "metadata": {},
   "source": [
    "12"
   ]
  },
  {
   "cell_type": "code",
   "execution_count": 42,
   "metadata": {},
   "outputs": [
    {
     "name": "stdout",
     "output_type": "stream",
     "text": [
      "\n",
      "This followings are you ordering:\n",
      "-vegetables\n",
      "-carrot\n",
      "\n",
      "This followings are you ordering:\n",
      "-vegetables\n",
      "-carrot\n",
      "-salad\n",
      "\n",
      "This followings are you ordering:\n",
      "-vegetables\n"
     ]
    }
   ],
   "source": [
    " def ordering(*toppings):\n",
    "        \"\"\"描述顾客点的餐\"\"\"\n",
    "        print(\"\\nThis followings are you ordering:\")\n",
    "        for topping in toppings:\n",
    "            print(f\"-{topping}\")\n",
    "\n",
    "ordering('vegetables','carrot')\n",
    "ordering('vegetables','carrot','salad')\n",
    "ordering('vegetables',)"
   ]
  },
  {
   "cell_type": "code",
   "execution_count": 44,
   "metadata": {},
   "outputs": [
    {
     "name": "stdout",
     "output_type": "stream",
     "text": [
      "\n",
      "I'll make you a great sandwich:\n",
      " ...adding roast beef to your sandwich.\n",
      " ...adding cheddar cheese to your sandwich.\n",
      " ...adding lettuce to your sandwich.\n",
      " ...adding honey dijon to your sandwich.\n",
      "Your sandwich is ready!\n",
      "\n",
      "I'll make you a great sandwich:\n",
      " ...adding turkey to your sandwich.\n",
      " ...adding apple slices to your sandwich.\n",
      " ...adding honey mustard to your sandwich.\n",
      "Your sandwich is ready!\n",
      "\n",
      "I'll make you a great sandwich:\n",
      " ...adding peanut butter to your sandwich.\n",
      " ...adding strawberry jam to your sandwich.\n",
      "Your sandwich is ready!\n"
     ]
    }
   ],
   "source": [
    "def make_sandwich(*items):\n",
    "    \"\"\"使用指定的食材制作三明治。\"\"\"\n",
    "    print(\"\\nI'll make you a great sandwich:\")\n",
    "    for item in items:\n",
    "        print(f\" ...adding {item} to your sandwich.\")\n",
    "    print(\"Your sandwich is ready!\")\n",
    "make_sandwich('roast beef', 'cheddar cheese', 'lettuce', 'honey dijon')\n",
    "make_sandwich('turkey', 'apple slices', 'honey mustard')\n",
    "make_sandwich('peanut butter', 'strawberry jam')"
   ]
  },
  {
   "cell_type": "markdown",
   "metadata": {},
   "source": [
    "13"
   ]
  },
  {
   "cell_type": "code",
   "execution_count": 45,
   "metadata": {},
   "outputs": [
    {
     "name": "stdout",
     "output_type": "stream",
     "text": [
      "{'location': 'Sichuan ziyang', 'field': 'information', 'first_name': 'Peng', 'last_name': 'zhen'}\n"
     ]
    }
   ],
   "source": [
    " def build_profile(first, last, **user_info): #两个*，提示python创建一个名为user_info的空字典\n",
    "        \"\"\"创建一个字典，其中包含我们知道的有关用户的一切。\"\"\"\n",
    "        user_info['first_name'] = first\n",
    "        user_info['last_name'] = last\n",
    "        return user_info\n",
    "\n",
    "user_profile = build_profile( 'Peng', 'zhen',\n",
    "                             location= 'Sichuan ziyang',\n",
    "                             field = 'information')\n",
    "print(user_profile)"
   ]
  },
  {
   "cell_type": "markdown",
   "metadata": {},
   "source": [
    "14"
   ]
  },
  {
   "cell_type": "code",
   "execution_count": 48,
   "metadata": {},
   "outputs": [
    {
     "name": "stdout",
     "output_type": "stream",
     "text": [
      "{'manufacturer': 'Subaru', 'version': 'Outback', 'color': 'blue', 'tow_package': True}\n",
      "{'manufacturer': 'Honda', 'version': 'Accord', 'year': 1991, 'color': 'white', 'headlights': 'popup'}\n"
     ]
    }
   ],
   "source": [
    "def make_car(manufacturer,version,**car_infos):\n",
    "    \"\"\"创建一个表示汽车的列表\"\"\"\n",
    "    car_dict = {\n",
    "        'manufacturer': manufacturer.title(),\n",
    "        'version': version.title(),\n",
    "    } #函数中，先将字典定义，然后将确定会有的先放进去\n",
    "    for car_info, value in car_infos.items(): #再遍历后面的关键字形参，将要放进去的东西做定义\n",
    "        car_dict[car_info] = value\n",
    "    return car_dict#函数下返回该字典\n",
    "my_outback = make_car('subaru', 'outback', color='blue', tow_package=True)\n",
    "print(my_outback)\n",
    "my_old_accord = make_car('honda', 'accord', year=1991, color='white',headlights='popup')\n",
    "print(my_old_accord)\n"
   ]
  },
  {
   "cell_type": "markdown",
   "metadata": {},
   "source": [
    "## 6.将函数存储在模块中"
   ]
  },
  {
   "cell_type": "markdown",
   "metadata": {},
   "source": [
    "使用函数的优点之一是可将代码块与主程序分离。通过给函数指定描述性名称，可让主程序容易理解得多。你还可以更进一步，将函数存储在称为模块的独立文件中，再将模块导入到主程序中。import 语句允许在当前运行的程序文件中使用模块中的代码。"
   ]
  },
  {
   "cell_type": "markdown",
   "metadata": {},
   "source": [
    "通过将函数存储在独立的文件中，可隐藏程序代码的细节，将重点放在程序的高层逻辑上。这还能让你在众多不同的程序中重用函数。将函数存储在独立文件中后，可与其他程序员共享这些文件而不是整个程序。知道如何导人函数还能让你使用其他程序员编写的函数库。"
   ]
  },
  {
   "cell_type": "markdown",
   "metadata": {},
   "source": [
    "### 6.1.导入整个模块"
   ]
  },
  {
   "cell_type": "markdown",
   "metadata": {},
   "source": [
    "import +函数名 可导入该模块，并且可以调用该模块里的所有函数"
   ]
  },
  {
   "cell_type": "markdown",
   "metadata": {},
   "source": [
    "以上就是一种导入方法:只需编写-条 import语句并在其中指定模块名， 就可在程序中使用该模块中的所有函数。"
   ]
  },
  {
   "cell_type": "markdown",
   "metadata": {},
   "source": [
    "### 6.2.导入特定的函数"
   ]
  },
  {
   "cell_type": "markdown",
   "metadata": {},
   "source": [
    "通用语法:from model_name import function_name<br>from model_name import function_1,function_2"
   ]
  },
  {
   "cell_type": "markdown",
   "metadata": {},
   "source": [
    "eg:from pizza import make_pizza"
   ]
  },
  {
   "cell_type": "markdown",
   "metadata": {},
   "source": [
    "### 6.3.使用as给函数指定别名"
   ]
  },
  {
   "cell_type": "markdown",
   "metadata": {},
   "source": [
    "如果要导人函数的名称可能与程序中现有的名称冲突，或者函数的名称太长，可指定简短而独一无二的别名:函数的另-一个名称，类似于外号。要给函数取这种特殊外号，需要在导入它时指定。"
   ]
  },
  {
   "cell_type": "markdown",
   "metadata": {},
   "source": [
    "eg: from pizza import make_pizza as mp"
   ]
  },
  {
   "cell_type": "markdown",
   "metadata": {},
   "source": [
    "通用语法：\n",
    "from module_name import function_name an fn"
   ]
  },
  {
   "cell_type": "markdown",
   "metadata": {},
   "source": [
    "### 6.4.使用as给模块指定别名"
   ]
  },
  {
   "cell_type": "markdown",
   "metadata": {},
   "source": [
    "eg:imprt pizza as p"
   ]
  },
  {
   "cell_type": "markdown",
   "metadata": {},
   "source": [
    "通用语法:import module_name as mn"
   ]
  },
  {
   "cell_type": "markdown",
   "metadata": {},
   "source": [
    "### 6.5.导入模块中的所有函数"
   ]
  },
  {
   "cell_type": "markdown",
   "metadata": {},
   "source": [
    "eg:from pizza import *"
   ]
  },
  {
   "cell_type": "markdown",
   "metadata": {},
   "source": [
    "import语句中的星号让Pyho将模块pizza中的每个函数都复制到这个程序文件中,由于导人了每个函数，可通过名称来调用每个函数，而无须使用句点表示法。然而，使用并非自己编写的大型模块时，最好不要采用这种导入方法。这是因为如果模块中有函数的名称与当前项目中使用的名称相同，可能导致意想不到的结果:Python可能遇到多个名称相同的函数或变量，进而覆盖函数，而不是分别导入所有的函数。\n",
    "<br>\n",
    "最佳的做法是，要么只导人需要使用的函数，要么导入整个模块并使用句点表示法。这让代码更清晰，更容易阅读和理解。这里之所以介绍这种导人方法，只是想让你在阅读别人编写的代码时，能够理解类似于下面的import语句: from module_name import *"
   ]
  },
  {
   "cell_type": "markdown",
   "metadata": {},
   "source": [
    "## 7.函数编写指南"
   ]
  },
  {
   "cell_type": "markdown",
   "metadata": {},
   "source": [
    "编写函数时，需要牢记几个细节。应给函数指定描述性名称，且只在其中使用小写字母和下划线。描述性名称可帮助你和别人明白代码想要做什么。给模块命名时也应遵循上述约定。每个函数都应包含简要地阐述其功能的注释。该注释应紧跟在函数定义后面，并采用文档字符串格式。文档良好的函数让其他程序员只需阅读文档字符串中的描述就能够使用它。他们完全可以相信代码如描述的那样运行，并且只要知道函数的名称、需要的实参以及返回值的类型，就能在自己的程序中使用它。"
   ]
  },
  {
   "cell_type": "markdown",
   "metadata": {},
   "source": [
    "给形参指定默认值时，等号两边不要有空格：\n",
    "def function_name(parameter_0,parameter_1='default value')"
   ]
  },
  {
   "cell_type": "markdown",
   "metadata": {},
   "source": [
    "对于函数调用中的关键字实参，也应遵守这种规定：function_name(value_0,parameter_1='value')"
   ]
  },
  {
   "cell_type": "markdown",
   "metadata": {},
   "source": [
    "如果程序或模块包含多个函数，可使用两个空行将相邻的函数分开，这样更容易知道前一个函数在什么地方结束，下一个函数在什么地方开始"
   ]
  },
  {
   "cell_type": "markdown",
   "metadata": {},
   "source": [
    "# 小结"
   ]
  },
  {
   "cell_type": "markdown",
   "metadata": {},
   "source": [
    "在本章中，你学习了:如何编写函数，以及如何传递实参，让函数能够访问完成其工作所需的信息;如何使用位置实参和关键字实参，以及如何接受任意数量的实参;显示输出的函数和返回值的函数;如何将函数同列表、字典、if语句和while循环结合起来使用;如何将函数存储在称为模块的独立文件中，让程序文件更简单、更易于理解。最后，你学习了函数编写指南，遵循这些指南可让程序始终结构良好，并对你和其他人来说易于阅读。"
   ]
  },
  {
   "cell_type": "markdown",
   "metadata": {},
   "source": [
    "程序员的目标之一是， 编写简单的代码来完成任务，而函数有助于你实现这样的目标。它们让你编写好代码块并确定其能够正确运行后，就可置之不理。确定函数能够正确地完成其工作后，你就可以接着投身于下一个编码任务。"
   ]
  },
  {
   "cell_type": "markdown",
   "metadata": {},
   "source": [
    "函数让你编写代码一次后，想重用它们多少次就重用多少次。需要运行函数中的代码时，只需编写一行函数调用代码，就可让函数完成其工作。需要修改函数的行为时，只需修改一个代码块，而所做的修改将影响调用这个函数的每个地方。"
   ]
  },
  {
   "cell_type": "markdown",
   "metadata": {},
   "source": [
    "使用函数让程序更容易阅读，而良好的函数名概述了程序各个部分的作用相对于阅读景列的代码块，阅读系列函数 调用让你能够更快地明白程序的作用。"
   ]
  },
  {
   "cell_type": "markdown",
   "metadata": {},
   "source": [
    "函数还让代码更容易测试和调试。如果程序使用一系列的函数来完成其任务，而其中的每个函数都完成一项具体的工作，测试和维护起来将容易得多:可编写分别调用每个函数的程序，并测试每个丽数是否在它可能遇到的各种情形下都能正确地运行。经过这样的测试后你就能充满信心，深信每次调用这些函数时，它们都将正确地运行。"
   ]
  }
 ],
 "metadata": {
  "kernelspec": {
   "display_name": "Python 3",
   "language": "python",
   "name": "python3"
  },
  "language_info": {
   "codemirror_mode": {
    "name": "ipython",
    "version": 3
   },
   "file_extension": ".py",
   "mimetype": "text/x-python",
   "name": "python",
   "nbconvert_exporter": "python",
   "pygments_lexer": "ipython3",
   "version": "3.8.3"
  }
 },
 "nbformat": 4,
 "nbformat_minor": 4
}
