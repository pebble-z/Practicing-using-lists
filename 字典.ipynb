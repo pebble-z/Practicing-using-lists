{
 "cells": [
  {
   "cell_type": "markdown",
   "metadata": {},
   "source": [
    "# 字典"
   ]
  },
  {
   "cell_type": "markdown",
   "metadata": {},
   "source": [
    "## 1.一个简单的字典"
   ]
  },
  {
   "cell_type": "code",
   "execution_count": 1,
   "metadata": {},
   "outputs": [
    {
     "name": "stdout",
     "output_type": "stream",
     "text": [
      "green\n",
      "5\n"
     ]
    }
   ],
   "source": [
    "#给外星人装入不同解释，比如颜色绿色，得分五分\n",
    "alion_0 = {'color':'green','points':5}\n",
    "#打印颜色和分数，则出来解释值\n",
    "print(alion_0['color'])\n",
    "print(alion_0['points'])"
   ]
  },
  {
   "cell_type": "markdown",
   "metadata": {},
   "source": [
    "## 2.使用字典"
   ]
  },
  {
   "cell_type": "markdown",
   "metadata": {},
   "source": [
    "#Python里，字典是一对键值对，每个人键都与一个值相关联，你可以使用键来访问相关联的值。<br>字典用放在花括号{}中的一系列键值对表示。<br>键与值之间用冒号分隔，而键值对之间用逗号分隔。<br>与键相关的值可以是数字、字符串、列表乃至字典。,<br>键值对是两个相关联的值，指定键时，Python将返回与之相关联的值。"
   ]
  },
  {
   "cell_type": "markdown",
   "metadata": {},
   "source": [
    "### 2.1.访问字典里的值"
   ]
  },
  {
   "cell_type": "code",
   "execution_count": 2,
   "metadata": {},
   "outputs": [
    {
     "name": "stdout",
     "output_type": "stream",
     "text": [
      "green\n"
     ]
    }
   ],
   "source": [
    "#要获取与键相关联的值，可依次指定字典名和放在方括号内的键\n",
    "alion_0 = {'color':'green'}\n",
    "print(alion_0['color'])"
   ]
  },
  {
   "cell_type": "code",
   "execution_count": 3,
   "metadata": {},
   "outputs": [
    {
     "name": "stdout",
     "output_type": "stream",
     "text": [
      "You just earned 5 points\n"
     ]
    }
   ],
   "source": [
    "#字典中可包含任意数量的键值对，\n",
    "alion_0 = {'color':'green','points':5}\n",
    "new_points = alion_0['points']\n",
    "print(f\"You just earned {new_points} points\")"
   ]
  },
  {
   "cell_type": "markdown",
   "metadata": {},
   "source": [
    "### 2.2添加键值对"
   ]
  },
  {
   "cell_type": "code",
   "execution_count": 4,
   "metadata": {},
   "outputs": [
    {
     "name": "stdout",
     "output_type": "stream",
     "text": [
      "{'color': 'green', 'points': 5}\n",
      "{'color': 'green', 'points': 5, 'x_position': 0, 'y_position': 25}\n"
     ]
    }
   ],
   "source": [
    "#字典是一种动态结构，可随时在其中添加键值对\n",
    "alion_0 = {'color':'green','points':5}\n",
    "print(alion_0)\n",
    "\n",
    "alion_0['x_position'] = 0\n",
    "alion_0['y_position'] = 25\n",
    "print(alion_0)"
   ]
  },
  {
   "cell_type": "markdown",
   "metadata": {},
   "source": [
    "### 2.3.先创建一个空字典"
   ]
  },
  {
   "cell_type": "code",
   "execution_count": 5,
   "metadata": {},
   "outputs": [
    {
     "name": "stdout",
     "output_type": "stream",
     "text": [
      "{'color': 'green', 'points': 5}\n"
     ]
    }
   ],
   "source": [
    "#先定义一个空字典，再向其添加内容\n",
    "alion_0 = {}\n",
    "\n",
    "alion_0['color'] = 'green'\n",
    "alion_0['points'] = 5\n",
    "\n",
    "print(alion_0)"
   ]
  },
  {
   "cell_type": "markdown",
   "metadata": {},
   "source": [
    "### 2.4.修改字典中的值"
   ]
  },
  {
   "cell_type": "code",
   "execution_count": 6,
   "metadata": {},
   "outputs": [
    {
     "name": "stdout",
     "output_type": "stream",
     "text": [
      "The alion is green.\n",
      "The alion now is yellow.\n"
     ]
    }
   ],
   "source": [
    "#要修改字典中的值，可依次指定字典名、用方括号括起的键，以及与该键相关联的新值。\n",
    "alion_0 = {'color':'green'}\n",
    "print(f\"The alion is {alion_0['color']}.\")\n",
    "\n",
    "alion_0['color'] = 'yellow'\n",
    "print(f\"The alion now is {alion_0['color']}.\")"
   ]
  },
  {
   "cell_type": "code",
   "execution_count": 12,
   "metadata": {},
   "outputs": [
    {
     "name": "stdout",
     "output_type": "stream",
     "text": [
      "Original position:0\n",
      "New position: 3\n"
     ]
    }
   ],
   "source": [
    "#对外星人的起始设置\n",
    "alion_0 = {'x_position':0,'y_position':25,'speed':'medium'}\n",
    "print(f\"Original position:{alion_0['x_position']}\")\n",
    "alion_0['speed'] = 'fast'\n",
    "\n",
    "#向右移动外星人\n",
    "#根据当前速度确定外星人向右移动多远\n",
    "if alion_0['speed'] == 'slow':\n",
    "    x_increment = 1\n",
    "elif alion_0['speed'] == 'medium':\n",
    "    x_increment = 2\n",
    "else:\n",
    "    #这个外星人的移动速度肯定很快\n",
    "    x_increment = 3\n",
    "    #新位置为旧位置加移动距离\n",
    "\n",
    "alion_0['x_position'] = alion_0['x_position'] + x_increment\n",
    "\n",
    "print(f\"New position: {alion_0['x_position']}\")\n"
   ]
  },
  {
   "cell_type": "code",
   "execution_count": 13,
   "metadata": {},
   "outputs": [],
   "source": [
    "alion_0['speed'] = 'fast'"
   ]
  },
  {
   "cell_type": "markdown",
   "metadata": {},
   "source": [
    "### 2.5.删除键值对"
   ]
  },
  {
   "cell_type": "markdown",
   "metadata": {},
   "source": [
    "对于字典中不需要的信息，可使用del语句将相应的键值对彻底删除。<br>使用del语句时，必须指定字典名和要删除的键"
   ]
  },
  {
   "cell_type": "code",
   "execution_count": 14,
   "metadata": {},
   "outputs": [
    {
     "name": "stdout",
     "output_type": "stream",
     "text": [
      "{'color': 'green', 'points': 5}\n",
      "{'color': 'green'}\n"
     ]
    }
   ],
   "source": [
    "alion_0 = {'color':'green','points':5}\n",
    "print(alion_0)\n",
    "\n",
    "del alion_0['points']\n",
    "print(alion_0)   #删除的键值对会永久消失"
   ]
  },
  {
   "cell_type": "markdown",
   "metadata": {},
   "source": [
    "### 2.6.由类似对象组成的字典"
   ]
  },
  {
   "cell_type": "code",
   "execution_count": 16,
   "metadata": {},
   "outputs": [],
   "source": [
    "favorate_languages = {\n",
    "    'jen':'python',\n",
    "    'sarah':'c',\n",
    "    'edward':'ruby',\n",
    "    'phil':'python',\n",
    "}"
   ]
  },
  {
   "cell_type": "code",
   "execution_count": 18,
   "metadata": {},
   "outputs": [
    {
     "name": "stdout",
     "output_type": "stream",
     "text": [
      "Sarah's favorate language is C\n"
     ]
    }
   ],
   "source": [
    "#给定被调查者的名字，可使用这个字典获取他所喜欢的语言\n",
    "language = favorate_languages['sarah'].title()\n",
    "print(f\"Sarah's favorate language is {language}\")\n"
   ]
  },
  {
   "cell_type": "code",
   "execution_count": 19,
   "metadata": {},
   "outputs": [
    {
     "data": {
      "text/plain": [
       "'c'"
      ]
     },
     "execution_count": 19,
     "metadata": {},
     "output_type": "execute_result"
    }
   ],
   "source": [
    "favorate_languages['sarah']"
   ]
  },
  {
   "cell_type": "markdown",
   "metadata": {},
   "source": [
    "### 2.7.使用get（）来访问值"
   ]
  },
  {
   "cell_type": "markdown",
   "metadata": {},
   "source": [
    "可使用get（）在指定键不存在时返回一个默认值<br>\n",
    "方法get() 的第一个参数用于指定键，必不可少；第二个参数为指定键不存在时返回一个默认值，可选。\n"
   ]
  },
  {
   "cell_type": "code",
   "execution_count": 20,
   "metadata": {},
   "outputs": [
    {
     "name": "stdout",
     "output_type": "stream",
     "text": [
      "No point value assigned.\n"
     ]
    }
   ],
   "source": [
    "alion_0 = {'color':'green','speed':'slow'}\n",
    "\n",
    "point_value = alion_0.get('point','No point value assigned.')\n",
    "print(point_value)\n"
   ]
  },
  {
   "cell_type": "code",
   "execution_count": 23,
   "metadata": {},
   "outputs": [
    {
     "name": "stdout",
     "output_type": "stream",
     "text": [
      "None\n"
     ]
    }
   ],
   "source": [
    "alion_0 = {'color':'green','speed':'slow'}\n",
    "#使用方括号的话可能没有值出错，使用get获取值的话若没有值会返回一个其他东西“\n",
    "point_value = alion_0.get('point')\n",
    "print(point_value)\n",
    "#返回None，表示所需值不存在的特殊值，"
   ]
  },
  {
   "cell_type": "markdown",
   "metadata": {},
   "source": [
    "## 练习"
   ]
  },
  {
   "cell_type": "markdown",
   "metadata": {},
   "source": [
    "1"
   ]
  },
  {
   "cell_type": "code",
   "execution_count": 36,
   "metadata": {},
   "outputs": [
    {
     "name": "stdout",
     "output_type": "stream",
     "text": [
      "peng\n",
      "yu\n",
      "15\n",
      "ziyang\n",
      "boy\n"
     ]
    }
   ],
   "source": [
    "# 使用一个字典存储一个人的信息，并将其每项信息打印出来\n",
    "pengyu = {\n",
    "    'first_name':'peng',\n",
    "    'last_name':'yu',\n",
    "    'age':15,\n",
    "    'city':'ziyang',\n",
    "    'gender':'boy',\n",
    "}\n",
    "print(pengyu['first_name'])\n",
    "print(pengyu['last_name'])\n",
    "print(pengyu['age'])\n",
    "print(pengyu['city'])\n",
    "print(pengyu['gender'])"
   ]
  },
  {
   "cell_type": "markdown",
   "metadata": {},
   "source": [
    "2"
   ]
  },
  {
   "cell_type": "code",
   "execution_count": 37,
   "metadata": {},
   "outputs": [
    {
     "name": "stdout",
     "output_type": "stream",
     "text": [
      "pengzhen's favorite number is 7.\n",
      "shaomengyue's favorite number is 5.\n",
      "zengxueru's favorite number is 3.\n",
      "xuying's favorite number is 9.\n",
      "yangxiaokai's favorite number is 8.\n"
     ]
    }
   ],
   "source": [
    "#将一群人喜欢的数字存储起来，并将其打印出来，打印的时候询问确定是不是这个数\n",
    "favorate_numbers = {\n",
    "    'pengzhen':7,\n",
    "    'shaomengyue':5,\n",
    "    'zengxueru':3,\n",
    "    'xuying':9,\n",
    "    'yangxiaokai':8,\n",
    "}\n",
    "\n",
    "num = favorate_numbers['pengzhen']\n",
    "print(f\"pengzhen's favorite number is {num}.\")\n",
    "\n",
    "num = favorate_numbers['shaomengyue']\n",
    "print(f\"shaomengyue's favorite number is {num}.\")\n",
    "\n",
    "num = favorate_numbers['zengxueru']\n",
    "print(f\"zengxueru's favorite number is {num}.\")\n",
    "\n",
    "num = favorate_numbers['xuying']\n",
    "print(f\"xuying's favorite number is {num}.\")\n",
    "\n",
    "num = favorate_numbers['yangxiaokai']\n",
    "print(f\"yangxiaokai's favorite number is {num}.\")"
   ]
  },
  {
   "cell_type": "markdown",
   "metadata": {},
   "source": [
    "3"
   ]
  },
  {
   "cell_type": "code",
   "execution_count": 39,
   "metadata": {},
   "outputs": [
    {
     "name": "stdout",
     "output_type": "stream",
     "text": [
      "\n",
      "String: A series of characters.\n",
      "\n",
      "Comment: A note in a program that the Python interpreter ignores.\n",
      "\n",
      "List: A collection of items in a particular order.\n",
      "\n",
      "Loop: Work through a collection of items, one at a time.\n",
      "\n",
      "Dictionary: A collection of key-value pairs.\n"
     ]
    }
   ],
   "source": [
    "#多个键值对，存储并打印\n",
    "glossary = {\n",
    " 'string': 'A series of characters.',\n",
    " 'comment': 'A note in a program that the Python interpreter ignores.',\n",
    " 'list': 'A collection of items in a particular order.',\n",
    " 'loop': 'Work through a collection of items, one at a time.',\n",
    " 'dictionary': \"A collection of key-value pairs.\",\n",
    " }\n",
    "word = 'string'\n",
    "print(f\"\\n{word.title()}: {glossary[word]}\")\n",
    "word = 'comment'\n",
    "print(f\"\\n{word.title()}: {glossary[word]}\")\n",
    "word = 'list'\n",
    "print(f\"\\n{word.title()}: {glossary[word]}\")\n",
    "word = 'loop'\n",
    "print(f\"\\n{word.title()}: {glossary[word]}\")\n",
    "word = 'dictionary'\n",
    "print(f\"\\n{word.title()}: {glossary[word]}\")"
   ]
  },
  {
   "cell_type": "markdown",
   "metadata": {},
   "source": [
    "## 3.遍历字典"
   ]
  },
  {
   "cell_type": "markdown",
   "metadata": {},
   "source": [
    "### 3.1.遍历所有键值对"
   ]
  },
  {
   "cell_type": "markdown",
   "metadata": {},
   "source": [
    "值得注意的是，遍历字典和列表、元组不同的是：for xx in xx<font color=#FF0000> .items()</font>"
   ]
  },
  {
   "cell_type": "code",
   "execution_count": 40,
   "metadata": {},
   "outputs": [
    {
     "name": "stdout",
     "output_type": "stream",
     "text": [
      "\n",
      "Key:user_name\n",
      "Value:efermi\n",
      "\n",
      "Key:first\n",
      "Value:enrico\n",
      "\n",
      "Key:last\n",
      "Value:fermi\n"
     ]
    }
   ],
   "source": [
    "user_0 = {\n",
    "    'user_name':'efermi',\n",
    "    'first':'enrico',\n",
    "    'last':'fermi',\n",
    "}\n",
    "#为了遍历字典中的所有键值对，可声明两个变量，用于存储键值对中的键和值\n",
    "for key,value in user_0.items():  #for k,v in user_0.items()也是可以的\n",
    "    print(f\"\\nKey:{key}\")\n",
    "    print(f\"Value:{value}\")"
   ]
  },
  {
   "cell_type": "code",
   "execution_count": 42,
   "metadata": {},
   "outputs": [
    {
     "name": "stdout",
     "output_type": "stream",
     "text": [
      "Jen's favorite language is Python'\n",
      "Sarah's favorite language is C'\n",
      "Edward's favorite language is Ruby'\n",
      "Phil's favorite language is Python'\n"
     ]
    }
   ],
   "source": [
    "#字典存储不同人的同一种信息，\n",
    "favorate_languages = {\n",
    "    'jen':'python',\n",
    "    'sarah':'c',\n",
    "    'edward':'ruby',\n",
    "    'phil':'python',\n",
    "}\n",
    "\n",
    "for name,language in favorate_languages.items():#遍历字典中的每个键值对，并将键赋给变量name，值赋给变量language\n",
    "    print(f\"{name.title()}'s favorite language is {language.title()}'\")"
   ]
  },
  {
   "cell_type": "markdown",
   "metadata": {},
   "source": [
    "### 3.2.遍历字典中的所有键"
   ]
  },
  {
   "cell_type": "code",
   "execution_count": 47,
   "metadata": {},
   "outputs": [
    {
     "name": "stdout",
     "output_type": "stream",
     "text": [
      "Jen\n",
      "Sarah\n",
      "Edward\n",
      "Phil\n"
     ]
    }
   ],
   "source": [
    "#显式地使用key（）可使代码更清晰\n",
    "#创建一个含名字和喜欢的语言地字典\n",
    "favorite_languages = {\n",
    "    'jen':'python',\n",
    "    'sarah':'c',\n",
    "    'edward':'ruby',\n",
    "    'phil':'python',\n",
    "}\n",
    "#对字典里的键做遍历\n",
    "for name in favorite_languages.keys():\n",
    "    print(name.title())"
   ]
  },
  {
   "cell_type": "code",
   "execution_count": 45,
   "metadata": {},
   "outputs": [
    {
     "name": "stdout",
     "output_type": "stream",
     "text": [
      "Jen\n",
      "Sarah\n",
      "Edward\n",
      "Phil\n"
     ]
    }
   ],
   "source": [
    "#遍历字典时会默认遍历字典中的所有键\n",
    "favorite_languages = {\n",
    "    'jen':'python',\n",
    "    'sarah':'c',\n",
    "    'edward':'ruby',\n",
    "    'phil':'python',\n",
    "}\n",
    "for name in favorite_languages:\n",
    "    print(name.title())"
   ]
  },
  {
   "cell_type": "code",
   "execution_count": 51,
   "metadata": {},
   "outputs": [
    {
     "name": "stdout",
     "output_type": "stream",
     "text": [
      "Hi Jen\n",
      "Hi Sarah\n",
      "\tSarah,I see you love C!\n",
      "Hi Edward\n",
      "Hi Phil\n",
      "\tPhil,I see you love Python!\n"
     ]
    }
   ],
   "source": [
    "#创建一个含名字和喜欢的语言的字典\n",
    "favorite_languages = {\n",
    "    'jen':'python',\n",
    "    'sarah':'c',\n",
    "    'edward':'ruby',\n",
    "    'phil':'python',\n",
    "}\n",
    "#在favorite_languages里选两个作为friends字典里的内容\n",
    "friends = ['phil','sarah']\n",
    "#循环前两句式遍历favorite_languages里地所有键并打印\n",
    "for name in favorite_languages.keys():\n",
    "    print(f\"Hi {name.title()}\")\n",
    "\n",
    "    #在循环中如果遇到friends中的内容则执行下一段内容    \n",
    "    if name in friends:\n",
    "        language = favorite_languages[name].title()\n",
    "        print(f\"\\t{name.title()},I see you love {language}!\")"
   ]
  },
  {
   "cell_type": "markdown",
   "metadata": {},
   "source": [
    "使用方法key（）确定某人是否接受了调查"
   ]
  },
  {
   "cell_type": "code",
   "execution_count": 57,
   "metadata": {},
   "outputs": [
    {
     "name": "stdout",
     "output_type": "stream",
     "text": [
      "Erin,please take our poll!\n"
     ]
    }
   ],
   "source": [
    "#创建一个含名字和喜欢的语言的字典\n",
    "favorite_languages = {\n",
    "    'jen':'python',\n",
    "    'sarah':'c',\n",
    "    'edward':'ruby',\n",
    "    'phil':'python',\n",
    "}\n",
    "\n",
    "if 'erin' not in favorite_languages.keys():#只是核实erin是否包含在这个列表里，\n",
    "    print(f\"Erin,please take our poll!\")"
   ]
  },
  {
   "cell_type": "markdown",
   "metadata": {},
   "source": [
    "方法keys（）并非只能用于遍历；实际上，它返回一个列表，其中包含字典里的所有键。"
   ]
  },
  {
   "cell_type": "markdown",
   "metadata": {},
   "source": [
    "### 3.3.按特定顺序遍历字典中地所有键"
   ]
  },
  {
   "cell_type": "code",
   "execution_count": 59,
   "metadata": {},
   "outputs": [
    {
     "name": "stdout",
     "output_type": "stream",
     "text": [
      "Edward,thank you for taking the poll.\n",
      "Jen,thank you for taking the poll.\n",
      "Phil,thank you for taking the poll.\n",
      "Sarah,thank you for taking the poll.\n"
     ]
    }
   ],
   "source": [
    "#创建一个含名字和喜欢的语言的字典\n",
    "favorite_languages = {\n",
    "    'jen':'python',\n",
    "    'sarah':'c',\n",
    "    'edward':'ruby',\n",
    "    'phil':'python',\n",
    "}\n",
    "#对方法directory.keys()地结果调用了函数sorted（），使得在显示前先排序\n",
    "for name in sorted(favorite_languages.keys()):\n",
    "    print(f\"{name.title()},thank you for taking the poll.\")"
   ]
  },
  {
   "cell_type": "markdown",
   "metadata": {},
   "source": [
    "### 3.4.遍历字典中地所有值"
   ]
  },
  {
   "cell_type": "code",
   "execution_count": 62,
   "metadata": {},
   "outputs": [
    {
     "name": "stdout",
     "output_type": "stream",
     "text": [
      "The following languages have been mentioned:\n",
      "Python\n",
      "C\n",
      "Ruby\n",
      "Python\n"
     ]
    }
   ],
   "source": [
    "#创建一个含名字和喜欢的语言的字典\n",
    "favorite_languages = {\n",
    "    'jen':'python',\n",
    "    'sarah':'c',\n",
    "    'edward':'ruby',\n",
    "    'phil':'python',\n",
    "}\n",
    "\n",
    "print(\"The following languages have been mentioned:\")\n",
    "#提取字典中的所有值，并且没有考虑是否重复。\n",
    "for language in favorite_languages.values():\n",
    "    print(language.title())"
   ]
  },
  {
   "cell_type": "code",
   "execution_count": 63,
   "metadata": {},
   "outputs": [
    {
     "name": "stdout",
     "output_type": "stream",
     "text": [
      "The following languages have been mentioned:\n",
      "Ruby\n",
      "Python\n",
      "C\n"
     ]
    }
   ],
   "source": [
    "#创建一个含名字和喜欢的语言的字典\n",
    "favorite_languages = {\n",
    "    'jen':'python',\n",
    "    'sarah':'c',\n",
    "    'edward':'ruby',\n",
    "    'phil':'python',\n",
    "}\n",
    "\n",
    "print(\"The following languages have been mentioned:\")\n",
    "#为剔除重复项，可使用集合（set）。集合中每个元素必须是独一无二的。\n",
    "for language in set(favorite_languages.values()):\n",
    "    print(language.title())"
   ]
  },
  {
   "cell_type": "markdown",
   "metadata": {},
   "source": [
    "集合"
   ]
  },
  {
   "cell_type": "code",
   "execution_count": 66,
   "metadata": {},
   "outputs": [
    {
     "name": "stdout",
     "output_type": "stream",
     "text": [
      "{'ruby', 'python', 'c'}\n"
     ]
    }
   ],
   "source": [
    "#集合中的元素不重合\n",
    "languages = {'python','c','ruby','c'}\n",
    "print(languages)"
   ]
  },
  {
   "cell_type": "markdown",
   "metadata": {},
   "source": [
    "## 练习"
   ]
  },
  {
   "cell_type": "markdown",
   "metadata": {},
   "source": [
    "4"
   ]
  },
  {
   "cell_type": "code",
   "execution_count": 71,
   "metadata": {},
   "outputs": [
    {
     "name": "stdout",
     "output_type": "stream",
     "text": [
      "\n",
      "String:A series of characters.\n",
      "\n",
      "Comment:A note in a program that the Python interpreter ignores.\n",
      "\n",
      "List:A collection of items in a particular order.\n",
      "\n",
      "Loop:Work through a collection of items, one at a time.\n",
      "\n",
      "Dictionary:A collection of key-value pairs.\n",
      "\n",
      "Key:The first item in a key-value pair in a dictionary.\n",
      "\n",
      "Value:An item associated with a key in a dictionary.\n",
      "\n",
      "Conditional Test:A comparison between two values.\n",
      "\n",
      "Float:A numerical value with a decimal component.\n",
      "\n",
      "Boolean Expression:An expression that evaluates to True or False.\n"
     ]
    }
   ],
   "source": [
    "#创建一个含十个术语的字典，并采用for循环将其打印出来\n",
    "glossary = {\n",
    " 'string': 'A series of characters.',\n",
    " 'comment': 'A note in a program that the Python interpreter ignores.',\n",
    " 'list': 'A collection of items in a particular order.',\n",
    " 'loop': 'Work through a collection of items, one at a time.',\n",
    " 'dictionary': \"A collection of key-value pairs.\",\n",
    " 'key': 'The first item in a key-value pair in a dictionary.',\n",
    " 'value': 'An item associated with a key in a dictionary.',\n",
    " 'conditional test': 'A comparison between two values.',\n",
    " 'float': 'A numerical value with a decimal component.',\n",
    " 'boolean expression': 'An expression that evaluates to True or False.',\n",
    " }\n",
    "\n",
    "for glossary1,interpret in glossary.items():\n",
    "    print(f\"\\n{glossary1.title()}:{interpret}\")"
   ]
  },
  {
   "cell_type": "markdown",
   "metadata": {},
   "source": [
    "5"
   ]
  },
  {
   "cell_type": "code",
   "execution_count": 80,
   "metadata": {},
   "outputs": [
    {
     "name": "stdout",
     "output_type": "stream",
     "text": [
      "The Nile runs through Egypt\n",
      "The Mississippi runs through United States\n",
      "The Fraser runs through Canada\n",
      "The Kuskokwim runs through Alaska\n",
      "The Yangtze runs through China\n",
      "\n",
      "The following rivers are included in this data set:\n",
      "-Nile\n",
      "-Mississippi\n",
      "-Fraser\n",
      "-Kuskokwim\n",
      "-Yangtze\n",
      "\n",
      "The following countries are included in this data set:\n",
      "Egypt\n",
      "United States\n",
      "Canada\n",
      "Alaska\n",
      "China\n"
     ]
    }
   ],
   "source": [
    "#创建一个含三条重要河流及其流经的国家的河流的字典\n",
    "rivers = {\n",
    "    'nile':'egypt',\n",
    "    'mississippi': 'united states',\n",
    "    'fraser': 'canada',\n",
    "    'kuskokwim': 'alaska',\n",
    "    'yangtze': 'china',\n",
    "}\n",
    "#将河流流经地方打印出来\n",
    "for river,county in rivers.items():\n",
    "    print(f\"The {river.title()} runs through {county.title()}\")\n",
    "    pass\n",
    "\n",
    "print(\"\\nThe following rivers are included in this data set:\")\n",
    "#将河流名字打印出来\n",
    "for river in rivers.keys():\n",
    "    print(f\"-{river.title()}\")\n",
    "    pass\n",
    "print(\"\\nThe following countries are included in this data set:\")\n",
    "#将国家打印出来\n",
    "for county in rivers.values():\n",
    "    print(f\"{county.title()}\")\n",
    "    pass\n",
    "          \n",
    "          \n",
    "    \n",
    "    "
   ]
  },
  {
   "cell_type": "markdown",
   "metadata": {},
   "source": [
    "6"
   ]
  },
  {
   "cell_type": "code",
   "execution_count": 84,
   "metadata": {},
   "outputs": [
    {
     "name": "stdout",
     "output_type": "stream",
     "text": [
      "\n",
      "Jen,thank you for investing this investigating.\n",
      "\n",
      "Edward,thank you for investing this investigating.\n",
      "\n",
      "Mary,please take part in this investigation.\n",
      "\n",
      "John,please take part in this investigation.\n"
     ]
    }
   ],
   "source": [
    "#创建一个含名字和语言的字典\n",
    "favorate_languages = {\n",
    "    'jen':'python',\n",
    "    'sarah':'c',\n",
    "    'edward':'ruby',\n",
    "    'phil':'python',\n",
    "}\n",
    "#再创建一个有的在上面字典有的不在上面字典的列表\n",
    "investigations = ['jen','edward','mary','john']\n",
    "#遍历后面的列表，已在第一个字典里的打印感谢的消息，不在第一个字典里的打印再参加调查的消息\n",
    "for investigation in investigations:\n",
    "    if investigation in favorate_languages.keys():\n",
    "        print(f\"\\n{investigation.title()},thank you for investing this investigating.\")\n",
    "    else:\n",
    "        print(f\"\\n{investigation.title()},please take part in this investigation.\")"
   ]
  },
  {
   "cell_type": "code",
   "execution_count": 85,
   "metadata": {},
   "outputs": [
    {
     "name": "stdout",
     "output_type": "stream",
     "text": [
      "Jen's favorite language is Python.\n",
      "\n",
      "\n",
      "Sarah's favorite language is C.\n",
      "\n",
      "\n",
      "Edward's favorite language is Ruby.\n",
      "\n",
      "\n",
      "Phil's favorite language is Python.\n",
      "\n",
      "\n",
      "Thank you for taking the poll, Phil!\n",
      "Josh, what's your favorite programming language?\n",
      "David, what's your favorite programming language?\n",
      "Becca, what's your favorite programming language?\n",
      "Thank you for taking the poll, Sarah!\n",
      "Matt, what's your favorite programming language?\n",
      "Danielle, what's your favorite programming language?\n"
     ]
    }
   ],
   "source": [
    "#这段代码同上一段代码作用相同\n",
    "favorite_languages = {\n",
    " 'jen': 'python',\n",
    " 'sarah': 'c',\n",
    " 'edward': 'ruby',\n",
    " 'phil': 'python',\n",
    " }\n",
    "for name, language in favorite_languages.items():\n",
    "    print(f\"{name.title()}'s favorite language is {language.title()}.\")\n",
    "    print(\"\\n\")\n",
    "coders = ['phil', 'josh', 'david', 'becca', 'sarah', 'matt', 'danielle']\n",
    "for coder in coders:\n",
    "    if coder in favorite_languages.keys():\n",
    "        print(f\"Thank you for taking the poll, {coder.title()}!\")\n",
    "    else:\n",
    "        print(f\"{coder.title()}, what's your favorite programming language?\")"
   ]
  },
  {
   "cell_type": "markdown",
   "metadata": {},
   "source": [
    "## 4.嵌套"
   ]
  },
  {
   "cell_type": "markdown",
   "metadata": {},
   "source": [
    "将一系列字典存储在列表中，或将列表作为值存储在字典中，这称为嵌套。<br>可以在列表中嵌套字典，在字典中嵌套列表甚至在字典中嵌套字典"
   ]
  },
  {
   "cell_type": "markdown",
   "metadata": {},
   "source": [
    "### 4.1.字典列表"
   ]
  },
  {
   "cell_type": "code",
   "execution_count": 90,
   "metadata": {},
   "outputs": [
    {
     "name": "stdout",
     "output_type": "stream",
     "text": [
      "{'color': 'green', 'points': 5}\n",
      "{'color': 'red', 'points': 10}\n",
      "{'color': 'yellow', 'points': 15}\n"
     ]
    }
   ],
   "source": [
    "#创建一个列表，里面包含各个字典值\n",
    "alion_0 = {'color':'green','points':5}\n",
    "alion_1 = {'color':'red','points':10}\n",
    "alion_2 = {'color':'yellow','points':15}\n",
    "#注意，这里创建列表时，每个值不用再加单引号了\n",
    "alions = [alion_0,alion_1,alion_2]\n",
    "\n",
    "#遍历该列表，并打印该列表\n",
    "\n",
    "for alion in alions:\n",
    "    print(alion)"
   ]
  },
  {
   "cell_type": "code",
   "execution_count": 93,
   "metadata": {},
   "outputs": [
    {
     "name": "stdout",
     "output_type": "stream",
     "text": [
      "{'color': 'green', 'points': 5, 'speed': 'slow'}\n",
      "{'color': 'green', 'points': 5, 'speed': 'slow'}\n",
      "{'color': 'green', 'points': 5, 'speed': 'slow'}\n",
      "{'color': 'green', 'points': 5, 'speed': 'slow'}\n",
      "{'color': 'green', 'points': 5, 'speed': 'slow'}\n",
      "...\n",
      "Total number of alions: 30\n"
     ]
    }
   ],
   "source": [
    "#创建一个用于存储外星人的空列表\n",
    "alions = []\n",
    "\n",
    "#创建三十个绿色的外星人\n",
    "for alion_number in range(30):\n",
    "    new_alion = {'color':'green','points': 5,'speed': 'slow'}\n",
    "    alions.append(new_alion)\n",
    "\n",
    "#显示前五个外星人\n",
    "for alion in alions[:5]:\n",
    "    print(alion)\n",
    "print(\"...\")\n",
    "#显示创建了多少个外星人\n",
    "print(f\"Total number of alions: {len(alions)}\")"
   ]
  },
  {
   "cell_type": "code",
   "execution_count": 95,
   "metadata": {},
   "outputs": [
    {
     "name": "stdout",
     "output_type": "stream",
     "text": [
      "{'color': 'yellow', 'points': 10, 'speed': 'mediun'}\n",
      "{'color': 'yellow', 'points': 10, 'speed': 'mediun'}\n",
      "{'color': 'yellow', 'points': 10, 'speed': 'mediun'}\n",
      "{'color': 'green', 'points': 5, 'speed': 'slow'}\n",
      "{'color': 'green', 'points': 5, 'speed': 'slow'}\n",
      "...\n",
      "Total number of alions: 30\n"
     ]
    }
   ],
   "source": [
    "#创建一个用于存储外星人的空列表\n",
    "alions = []\n",
    "\n",
    "#创建三十个绿色的外星人\n",
    "for alion_number in range(30):\n",
    "    new_alion = {'color':'green','points': 5,'speed': 'slow'}\n",
    "    alions.append(new_alion)\n",
    "\n",
    "#只用修改前三个值，故遍历只包含这些外星人的切片\n",
    "for alion in alions[:3]:\n",
    "    if alion['color'] == 'green':\n",
    "        alion['color'] = 'yellow'\n",
    "        alion['points'] = 10\n",
    "        alion['speed'] = 'mediun'\n",
    "        \n",
    "#显示前五个外星人\n",
    "for alion in alions[:5]:\n",
    "    print(alion)\n",
    "print(\"...\")\n",
    "#显示创建了多少个外星人\n",
    "print(f\"Total number of alions: {len(alions)}\")"
   ]
  },
  {
   "cell_type": "code",
   "execution_count": 96,
   "metadata": {},
   "outputs": [
    {
     "name": "stdout",
     "output_type": "stream",
     "text": [
      "{'color': 'yellow', 'points': 10, 'speed': 'mediun'}\n",
      "{'color': 'yellow', 'points': 10, 'speed': 'mediun'}\n",
      "{'color': 'yellow', 'points': 10, 'speed': 'mediun'}\n",
      "{'color': 'green', 'points': 5, 'speed': 'slow'}\n",
      "{'color': 'green', 'points': 5, 'speed': 'slow'}\n",
      "...\n",
      "Total number of alions: 30\n"
     ]
    }
   ],
   "source": [
    "#创建一个用于存储外星人的空列表\n",
    "alions = []\n",
    "\n",
    "#创建三十个绿色的外星人\n",
    "for alion_number in range(30):\n",
    "    new_alion = {'color':'green','points': 5,'speed': 'slow'}\n",
    "    alions.append(new_alion)\n",
    "\n",
    "#只用修改前三个值，故遍历只包含这些外星人的切片\n",
    "for alion in alions[:3]:\n",
    "    if alion['color'] == 'green':\n",
    "        alion['color'] = 'yellow'\n",
    "        alion['points'] = 10\n",
    "        alion['speed'] = 'mediun'\n",
    "    elif alion['color'] == 'yellow':\n",
    "        alion['color'] = 'red'\n",
    "        alion['points'] = 15\n",
    "        alion['speed'] = 'fast'\n",
    "        \n",
    "#显示前五个外星人\n",
    "for alion in alions[:5]:\n",
    "    print(alion)\n",
    "print(\"...\")\n",
    "#显示创建了多少个外星人\n",
    "print(f\"Total number of alions: {len(alions)}\")"
   ]
  },
  {
   "cell_type": "markdown",
   "metadata": {},
   "source": [
    "### 4.2.在字典中存储列表"
   ]
  },
  {
   "cell_type": "markdown",
   "metadata": {},
   "source": [
    "当一个键关联多个值时采用列表嵌套"
   ]
  },
  {
   "cell_type": "code",
   "execution_count": 101,
   "metadata": {},
   "outputs": [
    {
     "name": "stdout",
     "output_type": "stream",
     "text": [
      "You order a thick-crust pizza with the following toppings:\n",
      "\tmushrooms\n",
      "\textra cheese\n"
     ]
    }
   ],
   "source": [
    "#存储所点pizza的信息\n",
    "pizza = {\n",
    "    'crust': 'thick',\n",
    "    'toppings': ['mushrooms','extra cheese'],\n",
    "}\n",
    "\n",
    "#概述所点pizza\n",
    "print(f\"You order a {pizza['crust']}-crust pizza \" \n",
    "       \"with the following toppings:\")  #如果所描述字段太长可在合适地方分行，只要加引号就可\n",
    "\n",
    "for topping in pizza['toppings']:\n",
    "    print(\"\\t\"+ topping)"
   ]
  },
  {
   "cell_type": "code",
   "execution_count": 103,
   "metadata": {},
   "outputs": [
    {
     "name": "stdout",
     "output_type": "stream",
     "text": [
      "Jen's favorite language are:\n",
      "\tRuby\n",
      "\tC\n",
      "\tPython\n",
      "Sarsh's favorite language are:\n",
      "\tC\n",
      "\tC++\n",
      "\tJava\n",
      "Edward's favorite language are:\n",
      "\tC\n",
      "Phil's favorite language are:\n",
      "\tPython\n",
      "\tGo\n",
      "Mary's favorite language are:\n",
      "\tPython\n",
      "\tHaskell\n"
     ]
    }
   ],
   "source": [
    "Favorite_languages ={\n",
    "    'jen': ['ruby','c','python'],\n",
    "    'sarsh': ['c','c++','java'],\n",
    "    'edward': ['c'],\n",
    "    'phil': ['python','go'],\n",
    "    'mary': ['python','haskell'],\n",
    "}\n",
    "\n",
    "for name,languages in Favorite_languages.items():\n",
    "    print(f\"{name.title()}'s favorite language are:\")\n",
    "    for language in languages:\n",
    "        print(f\"\\t{language.title()}\")\n",
    "\n"
   ]
  },
  {
   "cell_type": "code",
   "execution_count": 122,
   "metadata": {},
   "outputs": [
    {
     "name": "stdout",
     "output_type": "stream",
     "text": [
      "Mary's favorite language is Haskell.\n",
      "Jen's favorite language are:\n",
      "\tRuby\n",
      "\tC\n",
      "\tPython\n",
      "Sarsh's favorite language are:\n",
      "\tC\n",
      "\tC++\n",
      "\tJava\n",
      "Edward's favorite language are:\n",
      "\tC\n",
      "Phil's favorite language are:\n",
      "\tPython\n",
      "\tGo\n",
      "Mary's favorite language are:\n",
      "\tPython\n",
      "\tHaskell\n"
     ]
    }
   ],
   "source": [
    "Favorite_languages ={\n",
    "    'jen': ['ruby','c','python'],\n",
    "    'sarsh': ['c','c++','java'],\n",
    "    'edward': 'c',\n",
    "    'phil': ['python','go'],\n",
    "    'mary': ['python','haskell'],\n",
    "}\n",
    "if len(languages) == 2:\n",
    "    print(f\"{name.title()}'s favorite language is {language.title()}.\")\n",
    "\n",
    "for name,languages in Favorite_languages.items():\n",
    "    print(f\"{name.title()}'s favorite language are:\")\n",
    "    for language in languages:\n",
    "        print(f\"\\t{language.title()}\")\n"
   ]
  },
  {
   "cell_type": "code",
   "execution_count": 121,
   "metadata": {},
   "outputs": [
    {
     "data": {
      "text/plain": [
       "5"
      ]
     },
     "execution_count": 121,
     "metadata": {},
     "output_type": "execute_result"
    }
   ],
   "source": [
    "Favorite_languages ={\n",
    "    'jen': ['ruby','c','python'],\n",
    "    'sarsh': ['c','c++','java'],\n",
    "    'edward': 'c',\n",
    "    'phil': ['python','go'],\n",
    "    'mary': ['python','haskell'],\n",
    "}\n",
    "len(Favorite_languages)"
   ]
  },
  {
   "cell_type": "markdown",
   "metadata": {},
   "source": [
    "### 4.3.在字典中存储字典"
   ]
  },
  {
   "cell_type": "code",
   "execution_count": 127,
   "metadata": {},
   "outputs": [
    {
     "name": "stdout",
     "output_type": "stream",
     "text": [
      "\n",
      "Username:aeinstein\n",
      "\tFull name:Albert Einstein\n",
      "\tLocation:Prnceton\n",
      "\n",
      "Username:mcurie\n",
      "\tFull name:Marie Curie\n",
      "\tLocation:Paris\n"
     ]
    }
   ],
   "source": [
    "#创建一个含字典的字典\n",
    "users = {\n",
    "    'aeinstein': {\n",
    "        'first': 'albert',\n",
    "        'last':'einstein',\n",
    "        'location': 'prnceton',\n",
    "    },\n",
    "    'mcurie': {\n",
    "        'first': 'marie',\n",
    "        'last': 'curie',\n",
    "        'location': 'paris',\n",
    "    },\n",
    "}\n",
    "#遍历外围字典，注意items（）和前面两个值的对应\n",
    "for username,user_info in users.items():\n",
    "    print(f\"\\nUsername:{username}\")\n",
    "    full_name = f\"{user_info['first']} {user_info['last']}\"\n",
    "    location = user_info['location']\n",
    "#字典里面的字典也需要在循环时给定义    \n",
    "    print(f\"\\tFull name:{full_name.title()}\")\n",
    "    print(f\"\\tLocation:{location.title()}\")\n",
    "\n",
    "\n"
   ]
  },
  {
   "cell_type": "markdown",
   "metadata": {},
   "source": [
    "## 练习"
   ]
  },
  {
   "cell_type": "markdown",
   "metadata": {},
   "source": [
    "循环列表里面的字典，只用对列表进行循环，然后再对循环下字典里的键进行命名。"
   ]
  },
  {
   "cell_type": "markdown",
   "metadata": {},
   "source": [
    "7"
   ]
  },
  {
   "cell_type": "code",
   "execution_count": 6,
   "metadata": {},
   "outputs": [
    {
     "name": "stdout",
     "output_type": "stream",
     "text": [
      "Peng Yu, of Ziyang, is 15 boy years old.\n",
      "Peng Zhen, of Hangzhou, is 22 girl years old.\n",
      "Xiaokai Yang, of Beijing, is 22 girl years old.\n"
     ]
    }
   ],
   "source": [
    "#创建三个字典\n",
    "pengyu = {'first_name':'peng','last_name':'yu','age':15,'city':'ziyang','gender':'boy',}\n",
    "pengzhen = {'first_name':'peng','last_name':'zhen','age':22,'city':'hangzhou','gender':'girl',}\n",
    "yangxiaokai = {'first_name':'xiaokai','last_name':'yang','age':22,'city':'beijing','gender':'girl',}        \n",
    "#创建一个列表，将三个字典放进，然后值得注意的是：放字典进列表不需要再加单引号\n",
    "peoples = [pengyu,pengzhen,yangxiaokai]\n",
    "# 对列表进行循环\n",
    "for person in peoples:\n",
    "        name = f\"{person['first_name'].title()} {person['last_name'].title()}\"\n",
    "        age = person['age']\n",
    "        city = person['city'].title()\n",
    "        gender = person['gender']\n",
    "\n",
    "        print(f\"{name}, of {city}, is {age} {gender} years old.\")\n"
   ]
  },
  {
   "cell_type": "code",
   "execution_count": 16,
   "metadata": {},
   "outputs": [
    {
     "name": "stdout",
     "output_type": "stream",
     "text": [
      "Eric Matthes, of Sitka, is 46 years old.\n",
      "Lemmy Matthes, of Sitka, is 2 years old.\n",
      "Willie Matthes, of Sitka, is 11 years old.\n"
     ]
    }
   ],
   "source": [
    "# 创建一个用于存储人的空列表。\n",
    "people = []\n",
    "# 定义一些人并将他们添加到前述列表中。\n",
    "person = {\n",
    "    'first_name': 'eric',\n",
    " 'last_name': 'matthes',\n",
    " 'age': 46,\n",
    " 'city': 'sitka',\n",
    " }\n",
    "people.append(person)\n",
    "person = {\n",
    " 'first_name': 'lemmy',\n",
    " 'last_name': 'matthes',\n",
    " 'age': 2,\n",
    " 'city': 'sitka',\n",
    " }\n",
    "people.append(person)\n",
    "person = {\n",
    " 'first_name': 'willie',\n",
    " 'last_name': 'matthes',\n",
    " 'age': 11,\n",
    " 'city': 'sitka',\n",
    " }\n",
    "people.append(person)\n",
    "# 显示列表包含的每个字典中的信息。\n",
    "for person in people:\n",
    "    name = f\"{person['first_name'].title()} {person['last_name'].title()}\"\n",
    "    age = person['age']\n",
    "    city = person['city'].title()\n",
    "\n",
    "    print(f\"{name}, of {city}, is {age} years old.\")\n"
   ]
  },
  {
   "cell_type": "markdown",
   "metadata": {},
   "source": [
    "8"
   ]
  },
  {
   "cell_type": "markdown",
   "metadata": {},
   "source": [
    "列表里的字典：<br>对列表下的字典进行循环时，先对列表循环，然后再对列表下的字典里的需要循环的内容的值重做定义再循环"
   ]
  },
  {
   "cell_type": "code",
   "execution_count": 11,
   "metadata": {},
   "outputs": [
    {
     "name": "stdout",
     "output_type": "stream",
     "text": [
      "Majia's bobcat is girl\n",
      "sushu's corgi is bog\n",
      "suhongyu's golden monkey is boy\n"
     ]
    }
   ],
   "source": [
    "#创建多个表示宠物的字典\n",
    "cat = {'genre': 'bobcat','gender': 'girl','host': 'Majia',}\n",
    "dog = {'genre': 'corgi','gender': 'bog','host': 'sushu',}\n",
    "monkey = {'genre': 'golden monkey','gender': 'boy','host': 'suhongyu'}\n",
    "#将这些字典存储再一个名为pets的列表中\n",
    "pets = [cat,dog,monkey]\n",
    "#遍历该列表将所有信息打印出来\n",
    "for pet in pets:\n",
    "    genre = pet['genre']\n",
    "    gender = pet['gender']\n",
    "    host = pet['host']\n",
    "    \n",
    "    print(f\"{host}'s {genre} is {gender}\")\n",
    "    \n",
    "    "
   ]
  },
  {
   "cell_type": "code",
   "execution_count": 12,
   "metadata": {},
   "outputs": [
    {
     "name": "stdout",
     "output_type": "stream",
     "text": [
      "\n",
      "Here's what I know about Bobcat:\n",
      "\tgenre: bobcat\n",
      "\tgender: girl\n",
      "\thost: Majia\n",
      "\n",
      "Here's what I know about Corgi:\n",
      "\tgenre: corgi\n",
      "\tgender: bog\n",
      "\thost: sushu\n",
      "\n",
      "Here's what I know about Golden Monkey:\n",
      "\tgenre: golden monkey\n",
      "\tgender: boy\n",
      "\thost: suhongyu\n"
     ]
    }
   ],
   "source": [
    "for pet in pets:\n",
    "    print(f\"\\nHere's what I know about {pet['genre'].title()}:\")\n",
    "    for key, value in pet.items():\n",
    "        print(f\"\\t{key}: {value}\")\n"
   ]
  },
  {
   "cell_type": "markdown",
   "metadata": {},
   "source": [
    "9"
   ]
  },
  {
   "cell_type": "code",
   "execution_count": 21,
   "metadata": {},
   "outputs": [
    {
     "name": "stdout",
     "output_type": "stream",
     "text": [
      "Pengzhen's favorite places are follow:\n",
      "\tzy \n",
      "\tcd \n",
      "\thz \n",
      "Sushu's favorite places are follow:\n",
      "\tdy \n",
      "\tcd \n",
      "\tcq \n",
      "Majia's favorite places are follow:\n",
      "\tsf \n",
      "\tlw \n",
      "\tkd \n"
     ]
    }
   ],
   "source": [
    "#创建一个名为favoriye_places的字典\n",
    "favorite_places = {\n",
    "    'pengzhen': ['zy','cd','hz'],\n",
    "    'sushu': ['dy','cd','cq'],\n",
    "    'majia': ['sf','lw','kd'],\n",
    "}\n",
    "for  names,places in favorite_places.items():\n",
    "    print(f\"{names.title()}'s favorite places are follow:\")\n",
    "    for place in places:\n",
    "        print(f\"\\t{place} \")\n",
    "    "
   ]
  },
  {
   "cell_type": "markdown",
   "metadata": {},
   "source": [
    "10"
   ]
  },
  {
   "cell_type": "markdown",
   "metadata": {},
   "source": [
    "字典里的列表：<br>在对字典里的列表进行循环时，先对字典循环，再在该循环下对列表进行循环"
   ]
  },
  {
   "cell_type": "code",
   "execution_count": 26,
   "metadata": {},
   "outputs": [
    {
     "name": "stdout",
     "output_type": "stream",
     "text": [
      "Pengzhen's favorite numbers are follow:\n",
      "1\n",
      "2\n",
      "5\n",
      "7\n",
      "9\n",
      "Shaomengyue's favorite numbers are follow:\n",
      "3\n",
      "5\n",
      "7\n",
      "9\n",
      "6\n",
      "Zengxueru's favorite numbers are follow:\n",
      "33\n",
      "4\n",
      "5\n",
      "6\n",
      "788\n",
      "Xuying's favorite numbers are follow:\n",
      "1\n",
      "2\n",
      "3\n",
      "5\n",
      "9\n",
      "0\n",
      "Yangxiaokai's favorite numbers are follow:\n",
      "25\n",
      "5\n",
      "52\n",
      "6\n",
      "3\n",
      "9\n"
     ]
    }
   ],
   "source": [
    "#建立一个字典里面含列表的字典\n",
    "favorite_numbers = {\n",
    "    'pengzhen':[1,2,5,7,9],\n",
    "    'shaomengyue':[3,5,7,9,6],\n",
    "    'zengxueru':[33,4,5,6,788],\n",
    "    'xuying':[1,2,3,5,9,0],\n",
    "    'yangxiaokai':[25,5,52,6,3,9]\n",
    "}\n",
    "#将字典打印并挨个打印字典里的数字\n",
    "for names,numbers in favorite_numbers.items():\n",
    "    print(f\"{names.title()}'s favorite numbers are follow:\")\n",
    "    for number in numbers:\n",
    "        print(f\"{number}\")"
   ]
  },
  {
   "cell_type": "markdown",
   "metadata": {},
   "source": [
    "11"
   ]
  },
  {
   "cell_type": "markdown",
   "metadata": {},
   "source": [
    "字典里的字典：<br>在对字典里的字典里的值做循环时：需对该值重做定义再做下一步动作"
   ]
  },
  {
   "cell_type": "code",
   "execution_count": 41,
   "metadata": {},
   "outputs": [
    {
     "name": "stdout",
     "output_type": "stream",
     "text": [
      "Here is hangzhou:\n",
      "hangzhou belongs to China,has popllation of 10360000,and its another name islinan\n",
      "Here is changchun:\n",
      "changchun belongs to China,has popllation of 8540000,and its another name isNorth Spring City\n",
      "Here is chengdu:\n",
      "chengdu belongs to China,has popllation of 16580000,and its another name isNature storehouse\n"
     ]
    }
   ],
   "source": [
    "#创建一个含城市三个信息的三个城市\n",
    "cities = {\n",
    "    'hangzhou':{\n",
    "      'county': 'China',\n",
    "        'population': 10360000,\n",
    "        'fact': 'linan',\n",
    "    },\n",
    "    'changchun':{\n",
    "        'county': 'China',\n",
    "        'population': 8540000,\n",
    "        'fact': 'North Spring City',\n",
    "    },\n",
    "    'chengdu': {\n",
    "        'county': 'China',\n",
    "        'population': 16580000,\n",
    "        'fact': 'Nature storehouse',\n",
    "    },\n",
    "}\n",
    "\n",
    "for city,info in cities.items():\n",
    "    print(f\"Here is {city}:\")\n",
    "    county = info['county']\n",
    "    population = info['population']\n",
    "    fact = info['fact']\n",
    "    print(f\"{city} belongs to {county},has popllation of {population},and its another name is{fact}\")\n",
    "       \n",
    "\n"
   ]
  },
  {
   "cell_type": "code",
   "execution_count": 42,
   "metadata": {},
   "outputs": [
    {
     "name": "stdout",
     "output_type": "stream",
     "text": [
      "\n",
      "Santiago is in Chile.\n",
      " It has a population of about 6310000.\n",
      " The Andes mounats are nearby.\n",
      "\n",
      "Talkeetna is in United States.\n",
      " It has a population of about 876.\n",
      " The Alaska Range mounats are nearby.\n",
      "\n",
      "Kathmandu is in Nepal.\n",
      " It has a population of about 975453.\n",
      " The Himilaya mounats are nearby.\n"
     ]
    }
   ],
   "source": [
    "cities = {\n",
    " 'santiago': {\n",
    " 'country': 'chile',\n",
    " 'population': 6_310_000,\n",
    " 'nearby mountains': 'andes',\n",
    " },\n",
    " 'talkeetna': {\n",
    " 'country': 'united states',\n",
    " 'population': 876,\n",
    " 'nearby mountains': 'alaska range',\n",
    " },\n",
    " 'kathmandu': {\n",
    " 'country': 'nepal',\n",
    " 'population': 975_453,\n",
    " 'nearby mountains': 'himilaya',\n",
    " },\n",
    " }\n",
    "for city, city_info in cities.items():\n",
    "    country = city_info['country'].title()\n",
    "    population = city_info['population']\n",
    "    mountains = city_info['nearby mountains'].title()\n",
    "    print(f\"\\n{city.title()} is in {country}.\")\n",
    "    print(f\" It has a population of about {population}.\")\n",
    "    print(f\" The {mountains} mounats are nearby.\")\n"
   ]
  },
  {
   "cell_type": "markdown",
   "metadata": {},
   "source": [
    "1.如何定义字典<br>2.如何使用存储在字典中的信息<br>3.如何访问和修改字典中的元素<br>4.如何遍历字典中的所有信息<br>5.如何遍历字典中的所有键值对、所有的键、所有的值<br>6.如何在列表中嵌套字典、在字典中嵌套列表、在字典中嵌套字典"
   ]
  },
  {
   "cell_type": "code",
   "execution_count": null,
   "metadata": {},
   "outputs": [],
   "source": []
  }
 ],
 "metadata": {
  "kernelspec": {
   "display_name": "Python 3",
   "language": "python",
   "name": "python3"
  },
  "language_info": {
   "codemirror_mode": {
    "name": "ipython",
    "version": 3
   },
   "file_extension": ".py",
   "mimetype": "text/x-python",
   "name": "python",
   "nbconvert_exporter": "python",
   "pygments_lexer": "ipython3",
   "version": "3.8.3"
  }
 },
 "nbformat": 4,
 "nbformat_minor": 4
}
