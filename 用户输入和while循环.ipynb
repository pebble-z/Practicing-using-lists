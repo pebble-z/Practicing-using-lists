{
 "cells": [
  {
   "cell_type": "markdown",
   "metadata": {},
   "source": [
    "# 用户输入和while循环"
   ]
  },
  {
   "cell_type": "markdown",
   "metadata": {},
   "source": [
    "## 1.函数input()的工作原理"
   ]
  },
  {
   "cell_type": "markdown",
   "metadata": {},
   "source": [
    "### 1.1简单的input（）输入程序"
   ]
  },
  {
   "cell_type": "code",
   "execution_count": 7,
   "metadata": {},
   "outputs": [
    {
     "name": "stdout",
     "output_type": "stream",
     "text": [
      "Tell me sth,and I will repeat it back to you:I love Python.\n",
      "I love Python.\n"
     ]
    }
   ],
   "source": [
    "#告诉我一些信息我会重复给你\n",
    "message = input(\"Tell me sth,and I will repeat it back to you:\")\n",
    "print(message)"
   ]
  },
  {
   "cell_type": "code",
   "execution_count": 5,
   "metadata": {},
   "outputs": [
    {
     "name": "stdout",
     "output_type": "stream",
     "text": [
      "Please enter your name:pengzhen\n",
      "\n",
      "Hello,pengzhen!\n"
     ]
    }
   ],
   "source": [
    "#告诉我你的名字\n",
    "name = input(\"Please enter your name:\")\n",
    "print(f\"\\nHello,{name}!\")"
   ]
  },
  {
   "cell_type": "markdown",
   "metadata": {},
   "source": [
    "当提示需要两行时，可采用“+=”多行赋值，"
   ]
  },
  {
   "cell_type": "code",
   "execution_count": 8,
   "metadata": {},
   "outputs": [
    {
     "name": "stdout",
     "output_type": "stream",
     "text": [
      "If you tell us what you are, we can personalize the messages you are.\n",
      "What is your first name? Peng\n",
      "\n",
      "Hello,Peng\n"
     ]
    }
   ],
   "source": [
    "#多行输入赋值\n",
    "prompt = \"If you tell us what you are, we can personalize the messages you are.\"\n",
    "prompt += \"\\nWhat is your first name? \"\n",
    "\n",
    "name = input(prompt)\n",
    "print(f\"\\nHello,{name}\")"
   ]
  },
  {
   "cell_type": "markdown",
   "metadata": {},
   "source": [
    "### 1.2.使用int()来获取数据输入"
   ]
  },
  {
   "cell_type": "markdown",
   "metadata": {},
   "source": [
    "使用函数input()时，Python将用户输入解读为字符串"
   ]
  },
  {
   "cell_type": "code",
   "execution_count": 9,
   "metadata": {},
   "outputs": [
    {
     "name": "stdout",
     "output_type": "stream",
     "text": [
      "How old are you? 22\n"
     ]
    }
   ],
   "source": [
    "#请输入您的年龄\n",
    "age = input(\"How old are you? \")"
   ]
  },
  {
   "cell_type": "code",
   "execution_count": 10,
   "metadata": {},
   "outputs": [
    {
     "data": {
      "text/plain": [
       "'22'"
      ]
     },
     "execution_count": 10,
     "metadata": {},
     "output_type": "execute_result"
    }
   ],
   "source": [
    "age"
   ]
  },
  {
   "cell_type": "code",
   "execution_count": 11,
   "metadata": {},
   "outputs": [
    {
     "data": {
      "text/plain": [
       "True"
      ]
     },
     "execution_count": 11,
     "metadata": {},
     "output_type": "execute_result"
    }
   ],
   "source": [
    "age = int(age)\n",
    "age >= 18"
   ]
  },
  {
   "cell_type": "markdown",
   "metadata": {},
   "source": [
    "将数值输入用于计算和比较前，必须将其用int（）转换为数值表示"
   ]
  },
  {
   "cell_type": "code",
   "execution_count": 2,
   "metadata": {},
   "outputs": [
    {
     "name": "stdout",
     "output_type": "stream",
     "text": [
      "How tall are you,in inches? 49\n",
      "\n",
      "You're tall enough to ride.\n"
     ]
    }
   ],
   "source": [
    "#请输入您的身高\n",
    "height = input(\"How tall are you,in inches? \")\n",
    "#将输入的身高数字转换为数值表示\n",
    "height = int(height)\n",
    "#做对比，如果高了会输出什么，如果低了会输出什么\n",
    "if height >=48:\n",
    "    print(\"\\nYou're tall enough to ride.\")\n",
    "else:\n",
    "    print(\"\\nYou'll be able to ride when you're a little older.\")"
   ]
  },
  {
   "cell_type": "markdown",
   "metadata": {},
   "source": [
    "### 1.3.求模运算符"
   ]
  },
  {
   "cell_type": "markdown",
   "metadata": {},
   "source": [
    "求模运算不会指出一个数是另一个数的多少倍，只指出余数是多少<br>因此可用来判断一个数是奇数或偶数"
   ]
  },
  {
   "cell_type": "code",
   "execution_count": 3,
   "metadata": {},
   "outputs": [
    {
     "data": {
      "text/plain": [
       "1"
      ]
     },
     "execution_count": 3,
     "metadata": {},
     "output_type": "execute_result"
    }
   ],
   "source": [
    "4%3"
   ]
  },
  {
   "cell_type": "code",
   "execution_count": 4,
   "metadata": {},
   "outputs": [
    {
     "data": {
      "text/plain": [
       "2"
      ]
     },
     "execution_count": 4,
     "metadata": {},
     "output_type": "execute_result"
    }
   ],
   "source": [
    "30%4"
   ]
  },
  {
   "cell_type": "code",
   "execution_count": 5,
   "metadata": {},
   "outputs": [
    {
     "data": {
      "text/plain": [
       "0"
      ]
     },
     "execution_count": 5,
     "metadata": {},
     "output_type": "execute_result"
    }
   ],
   "source": [
    "30%5"
   ]
  },
  {
   "cell_type": "code",
   "execution_count": 7,
   "metadata": {},
   "outputs": [
    {
     "name": "stdout",
     "output_type": "stream",
     "text": [
      "Please enter a number, and I'll tell you if it's even or odd:35\n",
      "\n",
      "The number 35 is odd.\n"
     ]
    }
   ],
   "source": [
    "number = input(\"Please enter a number, and I'll tell you if it's even or odd:\")\n",
    "number = int(number)\n",
    "\n",
    "if number%2 == 0:\n",
    "    print(f\"\\nThe number {number} is even\")\n",
    "else:\n",
    "    print(f\"\\nThe number {number} is odd.\")"
   ]
  },
  {
   "cell_type": "markdown",
   "metadata": {},
   "source": [
    "## 练习"
   ]
  },
  {
   "cell_type": "markdown",
   "metadata": {},
   "source": [
    "1"
   ]
  },
  {
   "cell_type": "code",
   "execution_count": 10,
   "metadata": {},
   "outputs": [
    {
     "name": "stdout",
     "output_type": "stream",
     "text": [
      "What kind of car would you like?bmw\n",
      "Let me see if I can find you a Bmw\n"
     ]
    }
   ],
   "source": [
    "#询问用户要租什么车并打印回复\n",
    "car = input(\"What kind of car would you like?\")\n",
    "print(f\"Let me see if I can find you a {car.title()}\")"
   ]
  },
  {
   "cell_type": "markdown",
   "metadata": {},
   "source": [
    "2"
   ]
  },
  {
   "cell_type": "code",
   "execution_count": 11,
   "metadata": {},
   "outputs": [
    {
     "name": "stdout",
     "output_type": "stream",
     "text": [
      "Please tell me how many people you will eat dinner together,use number reply:3\n",
      "I am very happy that has free seat for you eatting dinner.\n"
     ]
    }
   ],
   "source": [
    "#餐馆订位置，询问用户要坐多少人，超过八人告诉他没空，否则就说有空位\n",
    "seat = input(\"Please tell me how many people you will eat dinner together,use number reply:\")\n",
    "seat = int(seat)\n",
    "\n",
    "if seat > 8:\n",
    "    print(\"Sorry,there are no free seat for you.\")\n",
    "else:\n",
    "    print(\"I am very happy that has free seat for you eatting dinner.\")"
   ]
  },
  {
   "cell_type": "markdown",
   "metadata": {},
   "source": [
    "3"
   ]
  },
  {
   "cell_type": "code",
   "execution_count": 13,
   "metadata": {},
   "outputs": [
    {
     "name": "stdout",
     "output_type": "stream",
     "text": [
      "Please input a number,I'll tell you this number is or is not multiple of ten!40\n",
      "The number 40 you input is the multiple of ten.\n"
     ]
    }
   ],
   "source": [
    "#让用户输入一个数，并指出该数是否是10的倍数\n",
    "number = input(\"Please input a number,I'll tell you this number is or is not multiple of ten!\")\n",
    "number = int(number)\n",
    "\n",
    "if number%10 == 0:\n",
    "    print(f\"The number {number} you input is the multiple of ten.\")\n",
    "else:\n",
    "    print(f\"The number {number} you input is not the multiple of ten.\")"
   ]
  },
  {
   "cell_type": "markdown",
   "metadata": {},
   "source": [
    "## 2.while循环简介 "
   ]
  },
  {
   "cell_type": "markdown",
   "metadata": {},
   "source": [
    "for循环用于针对集合中的每个人元素都执行一个代码块，而while循环则不断执行，直到指定的条件不满足为止。"
   ]
  },
  {
   "cell_type": "markdown",
   "metadata": {},
   "source": [
    "### 2.1.使用while循环 "
   ]
  },
  {
   "cell_type": "code",
   "execution_count": 15,
   "metadata": {},
   "outputs": [
    {
     "name": "stdout",
     "output_type": "stream",
     "text": [
      "1\n",
      "2\n",
      "3\n",
      "4\n",
      "5\n"
     ]
    }
   ],
   "source": [
    "#可使用while循环来数数\n",
    "current_number = 1\n",
    "while current_number <=5:\n",
    "    print(current_number)\n",
    "    current_number +=1  #current_number = current_number +1 这两个语句同一效果"
   ]
  },
  {
   "cell_type": "markdown",
   "metadata": {},
   "source": [
    "### 2.2.让用户选择何时退出"
   ]
  },
  {
   "cell_type": "markdown",
   "metadata": {},
   "source": [
    "需要设置一个退出值"
   ]
  },
  {
   "cell_type": "code",
   "execution_count": 2,
   "metadata": {},
   "outputs": [
    {
     "name": "stdout",
     "output_type": "stream",
     "text": [
      "\n",
      "Tell me sth, and I will repeat it back to you:\n",
      "Enter 'quit' to end the program.s\n",
      "s\n",
      "\n",
      "Tell me sth, and I will repeat it back to you:\n",
      "Enter 'quit' to end the program.d\n",
      "d\n",
      "\n",
      "Tell me sth, and I will repeat it back to you:\n",
      "Enter 'quit' to end the program.quit\n",
      "quit\n"
     ]
    }
   ],
   "source": [
    "prompt = \"\\nTell me sth, and I will repeat it back to you:\"\n",
    "prompt += \"\\nEnter 'quit' to end the program.\" #定义了两个选择，要么输入一条消息，要么退出\n",
    "\n",
    "message = \"\"  #将message的初始值设置为空字符串“”，让python首次执行代码时有可供检查的东西\n",
    "\n",
    "while message != 'quit':\n",
    "    message = input(prompt)\n",
    "    print(message)"
   ]
  },
  {
   "cell_type": "code",
   "execution_count": 3,
   "metadata": {},
   "outputs": [
    {
     "name": "stdout",
     "output_type": "stream",
     "text": [
      "\n",
      "Tell me sth, and I will repeat it back to you:\n",
      "Enter 'quit' to end the program.c\n",
      "c\n",
      "\n",
      "Tell me sth, and I will repeat it back to you:\n",
      "Enter 'quit' to end the program.d\n",
      "d\n",
      "\n",
      "Tell me sth, and I will repeat it back to you:\n",
      "Enter 'quit' to end the program.s\n",
      "s\n",
      "\n",
      "Tell me sth, and I will repeat it back to you:\n",
      "Enter 'quit' to end the program.f\n",
      "f\n",
      "\n",
      "Tell me sth, and I will repeat it back to you:\n",
      "Enter 'quit' to end the program.quit\n"
     ]
    }
   ],
   "source": [
    "#为了我避免出现最后把quit也打印出来我们设置一条if语句\n",
    "prompt = \"\\nTell me sth, and I will repeat it back to you:\"\n",
    "prompt += \"\\nEnter 'quit' to end the program.\" #定义了两个选择，要么输入一条消息，要么退出\n",
    "\n",
    "message = \"\"  #将message的初始值设置为空字符串“”，让python首次执行代码时有可供检查的东西\n",
    "\n",
    "while message != 'quit':\n",
    "    message = input(prompt)\n",
    "    \n",
    "    if message != 'quit': #检查，仅在消息不是quit时才打印\n",
    "         print(message)\n",
    "        "
   ]
  },
  {
   "cell_type": "markdown",
   "metadata": {},
   "source": [
    "### 2.3.使用标志"
   ]
  },
  {
   "cell_type": "markdown",
   "metadata": {},
   "source": [
    "在很多条件都满足才能继续运行的程序中，可定义一个变量，用于判断整个程序是否处于活动状态，这个变量称为标志"
   ]
  },
  {
   "cell_type": "code",
   "execution_count": 4,
   "metadata": {},
   "outputs": [
    {
     "name": "stdout",
     "output_type": "stream",
     "text": [
      "\n",
      "Tell me sth, and I will repeat it back to you:\n",
      "Enter 'quit' to end the program.whd\n",
      "whd\n",
      "\n",
      "Tell me sth, and I will repeat it back to you:\n",
      "Enter 'quit' to end the program.kdk\n",
      "kdk\n",
      "\n",
      "Tell me sth, and I will repeat it back to you:\n",
      "Enter 'quit' to end the program.quit\n"
     ]
    }
   ],
   "source": [
    "prompt = \"\\nTell me sth, and I will repeat it back to you:\"\n",
    "prompt += \"\\nEnter 'quit' to end the program.\" #定义了一条提示消息，两个选择，要么输入一条消息，要么退出\n",
    "\n",
    "active = True  #将变量active设置为true，让程序最初处于活跃状态：简化了while语句，\n",
    "while active:\n",
    "    message = input(prompt)\n",
    "    \n",
    "    if message =='quit':  #逻辑部分，如果用户输入的是quit，检查到message = quit 则设置active为False\n",
    "        active = False\n",
    "        \n",
    "    else:\n",
    "        print(message)"
   ]
  },
  {
   "cell_type": "markdown",
   "metadata": {},
   "source": [
    "###  2.4.使用break退出循环"
   ]
  },
  {
   "cell_type": "markdown",
   "metadata": {},
   "source": [
    "在任何python循环中都可使用break语句。"
   ]
  },
  {
   "cell_type": "code",
   "execution_count": 6,
   "metadata": {},
   "outputs": [
    {
     "name": "stdout",
     "output_type": "stream",
     "text": [
      "\n",
      " Please enter the name of a city you have visited:\n",
      " (Enter 'quit' when you are finished.)ziyang\n",
      "I'd like to go to Ziyang!\n",
      "\n",
      " Please enter the name of a city you have visited:\n",
      " (Enter 'quit' when you are finished.)hangzhou\n",
      "I'd like to go to Hangzhou!\n",
      "\n",
      " Please enter the name of a city you have visited:\n",
      " (Enter 'quit' when you are finished.)changchun\n",
      "I'd like to go to Changchun!\n",
      "\n",
      " Please enter the name of a city you have visited:\n",
      " (Enter 'quit' when you are finished.)haerbin\n",
      "I'd like to go to Haerbin!\n",
      "\n",
      " Please enter the name of a city you have visited:\n",
      " (Enter 'quit' when you are finished.)quit\n"
     ]
    }
   ],
   "source": [
    "prompt = \"\\n Please enter the name of a city you have visited:\"\n",
    "prompt += \"\\n (Enter 'quit' when you are finished.)\"\n",
    "\n",
    "while True: #以while True 开头的循环将不断运行，直到遇见break语句\n",
    "    city = input(prompt)\n",
    "    \n",
    "    if city =='quit':\n",
    "        break\n",
    "    else:\n",
    "        print(f\"I'd like to go to {city.title()}!\")"
   ]
  },
  {
   "cell_type": "markdown",
   "metadata": {},
   "source": [
    "### 2.5.在循环中使用continue"
   ]
  },
  {
   "cell_type": "markdown",
   "metadata": {},
   "source": [
    "要返回循环的开头，并根据条件测试结果决定是否继续执行循环，可使用continue语句。<br>遇到break是不再执行剩下的代码直接退出循环。<br>遇到continue是忽略剩下代码，并返回循环的开头。"
   ]
  },
  {
   "cell_type": "code",
   "execution_count": 8,
   "metadata": {},
   "outputs": [
    {
     "name": "stdout",
     "output_type": "stream",
     "text": [
      "1\n",
      "3\n",
      "5\n",
      "7\n",
      "9\n"
     ]
    }
   ],
   "source": [
    "current_number = 0 #设置一个初始值好让循环进行\n",
    "while current_number < 10:\n",
    "    current_number +=1\n",
    "    if current_number % 2 ==0: #检查该条件是否满足，满足这个条件执行continue，回到开头运行程序\n",
    "        continue\n",
    "    \n",
    "    print(current_number)"
   ]
  },
  {
   "cell_type": "markdown",
   "metadata": {},
   "source": [
    "### 2.6.避免无限循环"
   ]
  },
  {
   "cell_type": "code",
   "execution_count": 1,
   "metadata": {},
   "outputs": [
    {
     "name": "stdout",
     "output_type": "stream",
     "text": [
      "1\n",
      "2\n",
      "3\n",
      "4\n",
      "5\n"
     ]
    }
   ],
   "source": [
    "x = 1\n",
    "while x <=5:\n",
    "    print(x)\n",
    "    x += 1"
   ]
  },
  {
   "cell_type": "markdown",
   "metadata": {},
   "source": [
    "## 练习"
   ]
  },
  {
   "cell_type": "markdown",
   "metadata": {},
   "source": [
    "4"
   ]
  },
  {
   "cell_type": "code",
   "execution_count": 11,
   "metadata": {},
   "outputs": [
    {
     "name": "stdout",
     "output_type": "stream",
     "text": [
      "\n",
      "Please enter the ingerdients you want eating:peanut\n",
      "\n",
      "We will add the peanut in the pizza.\n",
      "\n",
      "Please enter the ingerdients you want eating:tomato puree\n",
      "\n",
      "We will add the tomato puree in the pizza.\n",
      "\n",
      "Please enter the ingerdients you want eating:quit\n"
     ]
    }
   ],
   "source": [
    "#提示用户输入一系列配料，并告知我们会向里面添加该配料\n",
    "ordering_pizza = \"\\nPlease enter the ingerdients you want eating:\"\n",
    "\n",
    "message = \"\"\n",
    "\n",
    "while message != 'quit':\n",
    "    message=input(ordering_pizza)\n",
    "    if message =='quit':\n",
    "        break\n",
    "    print(f\"\\nWe will add the {message} in the pizza.\")\n",
    "    \n",
    "    "
   ]
  },
  {
   "cell_type": "code",
   "execution_count": 2,
   "metadata": {},
   "outputs": [
    {
     "name": "stdout",
     "output_type": "stream",
     "text": [
      "\n",
      "What topping would you like on your pizza?\n",
      "Enter 'quit' when you are finished: wa\n",
      " I'll add wa to your pizza.\n",
      "\n",
      "What topping would you like on your pizza?\n",
      "Enter 'quit' when you are finished: sai\n",
      " I'll add sai to your pizza.\n",
      "\n",
      "What topping would you like on your pizza?\n",
      "Enter 'quit' when you are finished: quit\n"
     ]
    }
   ],
   "source": [
    "prompt = \"\\nWhat topping would you like on your pizza?\"\n",
    "prompt += \"\\nEnter 'quit' when you are finished: \"\n",
    "while True:\n",
    "    topping = input(prompt)\n",
    "    if topping != 'quit':\n",
    "        print(f\" I'll add {topping} to your pizza.\")\n",
    "    else:\n",
    "        break"
   ]
  },
  {
   "cell_type": "markdown",
   "metadata": {},
   "source": [
    "5"
   ]
  },
  {
   "cell_type": "code",
   "execution_count": 3,
   "metadata": {},
   "outputs": [
    {
     "name": "stdout",
     "output_type": "stream",
     "text": [
      "How old are you?\n",
      "Enter 'quit' when you are finished. 12\n",
      " Your ticket is $10.\n",
      "How old are you?\n",
      "Enter 'quit' when you are finished. 23\n",
      " Your ticket is $15.\n",
      "How old are you?\n",
      "Enter 'quit' when you are finished. 1\n",
      " You get in free!\n",
      "How old are you?\n",
      "Enter 'quit' when you are finished. quit\n"
     ]
    }
   ],
   "source": [
    "prompt = \"How old are you?\"\n",
    "prompt += \"\\nEnter 'quit' when you are finished. \"\n",
    "while True:\n",
    "    age = input(prompt)\n",
    "    if age == 'quit':\n",
    "        break\n",
    "    age = int(age)\n",
    "    if age < 3:\n",
    "        print(\" You get in free!\")\n",
    "    elif age < 13:\n",
    "        print(\" Your ticket is $10.\")\n",
    "    else:\n",
    "        print(\" Your ticket is $15.\")"
   ]
  },
  {
   "cell_type": "markdown",
   "metadata": {},
   "source": [
    "## 3.使用while循环处理列表和字典"
   ]
  },
  {
   "cell_type": "markdown",
   "metadata": {},
   "source": [
    "### 3.1.在列表间移动元素"
   ]
  },
  {
   "cell_type": "code",
   "execution_count": 5,
   "metadata": {},
   "outputs": [
    {
     "name": "stdout",
     "output_type": "stream",
     "text": [
      "Verifying user: Candance\n",
      "Verifying user: Brain\n",
      "Verifying user: Alice\n",
      "\n",
      "The following users have been confirmed:\n",
      "candance\n",
      "brain\n",
      "alice\n"
     ]
    }
   ],
   "source": [
    "#首先，创建一个待验证的用户列表\n",
    "#和一个用于存储已验证用户的空列表\n",
    "unconfirmed_users = ['alice','brain','candance']\n",
    "confirmed_users = []\n",
    "\n",
    "#验证每个用户，直到没有未验证用户为止。\n",
    "#将每个经过验证的用户都移动到已验证用户列表中\n",
    "while unconfirmed_users:\n",
    "    current_user = unconfirmed_users.pop()\n",
    "    \n",
    "    print(f\"Verifying user: {current_user.title()}\")\n",
    "    confirmed_users.append(current_user)\n",
    "    \n",
    "#显示已验证客户\n",
    "print(\"\\nThe following users have been confirmed:\")\n",
    "for confirmed_user in confirmed_users:\n",
    "    print(confirmed_user)\n",
    "    "
   ]
  },
  {
   "cell_type": "code",
   "execution_count": 6,
   "metadata": {},
   "outputs": [
    {
     "name": "stdout",
     "output_type": "stream",
     "text": [
      "[]\n"
     ]
    }
   ],
   "source": [
    "print(unconfirmed_users)"
   ]
  },
  {
   "cell_type": "markdown",
   "metadata": {},
   "source": [
    "### 3.2.删除为特定值的所有列表元素"
   ]
  },
  {
   "cell_type": "markdown",
   "metadata": {},
   "source": [
    "在之前的remove函数之所以能成功是因为列表里只有一个值，若列表里该值重复出现，则需要while循环依次将其删除"
   ]
  },
  {
   "cell_type": "code",
   "execution_count": 7,
   "metadata": {},
   "outputs": [
    {
     "name": "stdout",
     "output_type": "stream",
     "text": [
      "['dog', 'cat', 'goldish', 'rabbits', 'cat', 'monkeys', 'cat']\n",
      "['dog', 'goldish', 'rabbits', 'monkeys']\n"
     ]
    }
   ],
   "source": [
    "pets = ['dog','cat','goldish','rabbits','cat','monkeys','cat']\n",
    "print(pets)\n",
    "\n",
    "while 'cat' in pets:\n",
    "    pets.remove('cat')\n",
    "\n",
    "print(pets)"
   ]
  },
  {
   "cell_type": "markdown",
   "metadata": {},
   "source": [
    "比如以下情况，只能删除该值出现的第一个位置"
   ]
  },
  {
   "cell_type": "code",
   "execution_count": 12,
   "metadata": {},
   "outputs": [
    {
     "name": "stdout",
     "output_type": "stream",
     "text": [
      "['dog', 'cat', 'goldish', 'rabbits', 'cat', 'monkeys', 'cat']\n",
      "['dog', 'goldish', 'rabbits', 'cat', 'monkeys', 'cat']\n"
     ]
    }
   ],
   "source": [
    "pets = ['dog','cat','goldish','rabbits','cat','monkeys','cat']\n",
    "print(pets)\n",
    "pets.remove('cat')\n",
    "print(pets)"
   ]
  },
  {
   "cell_type": "markdown",
   "metadata": {},
   "source": [
    "### 3.3.使用用户输入来填充字典"
   ]
  },
  {
   "cell_type": "code",
   "execution_count": 13,
   "metadata": {},
   "outputs": [
    {
     "name": "stdout",
     "output_type": "stream",
     "text": [
      "\n",
      "What is your name? pengzhen\n",
      "Which moutain would you like to climb someday?Moutain Tai\n",
      "Would you like to let another person response? (yes/no) yes\n",
      "\n",
      "What is your name? sushu\n",
      "Which moutain would you like to climb someday?Hua moutain\n",
      "Would you like to let another person response? (yes/no) no\n",
      "\n",
      " ---Poll Results---\n",
      "pengzhen would like to climb Moutain Tai\n",
      "sushu would like to climb Hua moutain\n"
     ]
    }
   ],
   "source": [
    "responses = {}\n",
    "\n",
    "#设置一个标志值，指出调查是否继续\n",
    "polling_active = True\n",
    "while polling_active:\n",
    "    #提示输入被调查者的名字和回答\n",
    "    name = input(\"\\nWhat is your name? \")\n",
    "    response = input(\"Which moutain would you like to climb someday?\")\n",
    "    \n",
    "    #将回答存储在列表中\n",
    "    responses[name] =response  #*\n",
    "    \n",
    "    #看看是否还有人需要参与调查\n",
    "    repeat = input(\"Would you like to let another person response? (yes/no) \")\n",
    "    if repeat == 'no':\n",
    "        polling_active = False\n",
    "        \n",
    "#调查结束，显示结果\n",
    "print(\"\\n ---Poll Results---\")\n",
    "for name,response in responses.items():\n",
    "    print(f\"{name} would like to climb {response}\")"
   ]
  },
  {
   "cell_type": "markdown",
   "metadata": {},
   "source": [
    "## 练习"
   ]
  },
  {
   "cell_type": "markdown",
   "metadata": {},
   "source": [
    "8"
   ]
  },
  {
   "cell_type": "code",
   "execution_count": 23,
   "metadata": {},
   "outputs": [
    {
     "name": "stdout",
     "output_type": "stream",
     "text": [
      "I made your tomato sandwich,\n",
      "I made your spiced beef sandwich,\n",
      "I made your ham sandwich,\n",
      "I made your egg sandwich,\n",
      "I made your chicken sandwich,\n",
      "I made your tunny sandwich,\n",
      "\n",
      "\n",
      "We have made tomato sandwich\n",
      "We have made spiced beef sandwich\n",
      "We have made ham sandwich\n",
      "We have made egg sandwich\n",
      "We have made chicken sandwich\n",
      "We have made tunny sandwich\n"
     ]
    }
   ],
   "source": [
    "sandwich_orders = ['tunny','chicken','egg','ham','spiced beef','tomato']\n",
    "finished_sandwiches = []\n",
    "\n",
    "while sandwich_orders:\n",
    "    \n",
    "    current_sandwich = sandwich_orders.pop()\n",
    "    print(f\"I made your {current_sandwich} sandwich,\")\n",
    "    finished_sandwiches.append(current_sandwich)\n",
    "\n",
    "print(\"\\n\")\n",
    "for finished_sandwich in finished_sandwiches:\n",
    "    print(f\"We have made {finished_sandwich} sandwich\")\n",
    "    \n",
    "\n"
   ]
  },
  {
   "cell_type": "markdown",
   "metadata": {},
   "source": [
    "9"
   ]
  },
  {
   "cell_type": "code",
   "execution_count": 33,
   "metadata": {},
   "outputs": [
    {
     "name": "stdout",
     "output_type": "stream",
     "text": [
      "The pastrami sold out.\n",
      "I'm working on your tomato sandwich.\n",
      "I'm working on your spiced beef sandwich.\n",
      "I'm working on your ham sandwich.\n",
      "I'm working on your egg sandwich.\n",
      "I'm working on your chicken sandwich.\n",
      "I'm working on your tunny sandwich.\n",
      "I'm working on your egg sandwich.\n",
      "You have ordered the tomato sandwich.\n",
      "You have ordered the spiced beef sandwich.\n",
      "You have ordered the ham sandwich.\n",
      "You have ordered the egg sandwich.\n",
      "You have ordered the chicken sandwich.\n",
      "You have ordered the tunny sandwich.\n",
      "You have ordered the egg sandwich.\n"
     ]
    }
   ],
   "source": [
    "print(\"The pastrami sold out.\")\n",
    "sandwich_orders = ['pastrami','egg','tunny','chicken','pastrami','egg','ham','spiced beef','pastrami','tomato']\n",
    "finished_sandwiches = []\n",
    "\n",
    "while 'pastrami' in sandwich_orders:\n",
    "    sandwich_orders.remove('pastrami')\n",
    "    \n",
    "while sandwich_orders:\n",
    "    finished_sandwich = sandwich_orders.pop()\n",
    "    print(f\"I'm working on your {finished_sandwich} sandwich.\")\n",
    "    finished_sandwiches.append(finished_sandwich)\n",
    "#注意一下两个循环不一样，必须要分开，一个循环是为了删除pastrami，一个循环是输出所有\n",
    "for sandwish in finished_sandwiches:\n",
    "    print(f\"You have ordered the {sandwish} sandwich.\")\n",
    "    \n",
    "    "
   ]
  },
  {
   "cell_type": "code",
   "execution_count": 34,
   "metadata": {},
   "outputs": [
    {
     "name": "stdout",
     "output_type": "stream",
     "text": [
      "I'm sorry, we're all out of pastrami today.\n",
      "\n",
      "\n",
      "I'm working on your roast beef sandwich.\n",
      "I'm working on your turkey sandwich.\n",
      "I'm working on your grilled cheese sandwich.\n",
      "I'm working on your veggie sandwich.\n",
      "\n",
      "\n",
      "I made a roast beef sandwich.\n",
      "I made a turkey sandwich.\n",
      "I made a grilled cheese sandwich.\n",
      "I made a veggie sandwich.\n"
     ]
    }
   ],
   "source": [
    "sandwich_orders = [\n",
    " 'pastrami', 'veggie', 'grilled cheese', 'pastrami',\n",
    " 'turkey', 'roast beef', 'pastrami']\n",
    "finished_sandwiches = []\n",
    "print(\"I'm sorry, we're all out of pastrami today.\")\n",
    "while 'pastrami' in sandwich_orders:\n",
    "    sandwich_orders.remove('pastrami')\n",
    "print(\"\\n\")\n",
    "while sandwich_orders:\n",
    "    current_sandwich = sandwich_orders.pop()\n",
    "    print(f\"I'm working on your {current_sandwich} sandwich.\")\n",
    "    finished_sandwiches.append(current_sandwich)\n",
    "print(\"\\n\")\n",
    "for sandwich in finished_sandwiches:\n",
    "    print(f\"I made a {sandwich} sandwich.\")\n"
   ]
  },
  {
   "cell_type": "markdown",
   "metadata": {},
   "source": [
    "10<br>没有认真做，不想做了，直接将答案贴上，记住之后一定要认认真真看哦！"
   ]
  },
  {
   "cell_type": "code",
   "execution_count": 36,
   "metadata": {},
   "outputs": [
    {
     "name": "stdout",
     "output_type": "stream",
     "text": [
      "\n",
      "What's your name? pz\n",
      "If you could visit one place in the world, where would it be? shanghai\n",
      "\n",
      "Would you like to let someone else respond? (yes/no) no\n",
      "\n",
      "--- Results ---\n",
      "Pz would like to visit Shanghai.\n"
     ]
    }
   ],
   "source": [
    "name_prompt = \"\\nWhat's your name? \"\n",
    "place_prompt = \"If you could visit one place in the world, where would it be? \"\n",
    "continue_prompt = \"\\nWould you like to let someone else respond? (yes/no) \"\n",
    "# 调查结果将存储在形如{name: place}的字典中。\n",
    "responses = {}\n",
    "while True:\n",
    "    # 询问用户想去哪里度假。\n",
    "    name = input(name_prompt)\n",
    "    place = input(place_prompt)\n",
    "    # 存储调查结果。\n",
    "    responses[name] = place\n",
    "    # 询问是否还有其他人要参与调查。\n",
    "    repeat = input(continue_prompt)\n",
    "    if repeat != 'yes':\n",
    "        break\n",
    "# 显示调查结果。\n",
    "print(\"\\n--- Results ---\")\n",
    "for name, place in responses.items():\n",
    "    print(f\"{name.title()} would like to visit {place.title()}.\")"
   ]
  },
  {
   "cell_type": "code",
   "execution_count": null,
   "metadata": {},
   "outputs": [],
   "source": []
  }
 ],
 "metadata": {
  "kernelspec": {
   "display_name": "Python 3",
   "language": "python",
   "name": "python3"
  },
  "language_info": {
   "codemirror_mode": {
    "name": "ipython",
    "version": 3
   },
   "file_extension": ".py",
   "mimetype": "text/x-python",
   "name": "python",
   "nbconvert_exporter": "python",
   "pygments_lexer": "ipython3",
   "version": "3.8.3"
  }
 },
 "nbformat": 4,
 "nbformat_minor": 4
}
